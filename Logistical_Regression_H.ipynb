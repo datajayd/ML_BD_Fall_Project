{
 "cells": [
  {
   "cell_type": "code",
   "execution_count": 40,
   "id": "c34b3747-d8ee-4ec7-a4ed-7e43f4127f3f",
   "metadata": {},
   "outputs": [],
   "source": [
    "import pandas as pd\n",
    "import numpy as np\n",
    "import glob\n",
    "import os\n",
    "import time\n",
    "import seaborn as sns\n",
    "import matplotlib.pyplot as plt\n",
    "from sklearn import preprocessing\n",
    "from sklearn import metrics \n",
    "from sklearn.preprocessing import StandardScaler\n",
    "from sklearn.preprocessing import RobustScaler\n",
    "from sklearn.metrics import precision_score, recall_score, accuracy_score, f1_score"
   ]
  },
  {
   "cell_type": "code",
   "execution_count": 41,
   "id": "0546b5f1-3891-48f0-9d5b-5105cac14f25",
   "metadata": {},
   "outputs": [],
   "source": [
    "import imblearn\n",
    "from imblearn.over_sampling import SMOTE "
   ]
  },
  {
   "cell_type": "code",
   "execution_count": 42,
   "id": "cee0286f-7274-4994-904a-37a131a0d821",
   "metadata": {},
   "outputs": [],
   "source": [
    "start_time = time.time()"
   ]
  },
  {
   "cell_type": "code",
   "execution_count": 43,
   "id": "053b7cc4-fb32-448e-b3f5-f4978eafc763",
   "metadata": {},
   "outputs": [
    {
     "data": {
      "text/html": [
       "<div>\n",
       "<style scoped>\n",
       "    .dataframe tbody tr th:only-of-type {\n",
       "        vertical-align: middle;\n",
       "    }\n",
       "\n",
       "    .dataframe tbody tr th {\n",
       "        vertical-align: top;\n",
       "    }\n",
       "\n",
       "    .dataframe thead th {\n",
       "        text-align: right;\n",
       "    }\n",
       "</style>\n",
       "<table border=\"1\" class=\"dataframe\">\n",
       "  <thead>\n",
       "    <tr style=\"text-align: right;\">\n",
       "      <th></th>\n",
       "      <th>pha</th>\n",
       "      <th>H</th>\n",
       "      <th>e</th>\n",
       "      <th>q</th>\n",
       "      <th>n</th>\n",
       "      <th>moid</th>\n",
       "      <th>spkid</th>\n",
       "      <th>full_name</th>\n",
       "    </tr>\n",
       "  </thead>\n",
       "  <tbody>\n",
       "    <tr>\n",
       "      <th>0</th>\n",
       "      <td>0</td>\n",
       "      <td>-7.411043</td>\n",
       "      <td>-0.608738</td>\n",
       "      <td>0.289176</td>\n",
       "      <td>-0.009788</td>\n",
       "      <td>0.306452</td>\n",
       "      <td>20000001</td>\n",
       "      <td>1 Ceres (A801 AA)</td>\n",
       "    </tr>\n",
       "    <tr>\n",
       "      <th>1</th>\n",
       "      <td>0</td>\n",
       "      <td>-6.932515</td>\n",
       "      <td>0.859223</td>\n",
       "      <td>-0.382876</td>\n",
       "      <td>-0.017945</td>\n",
       "      <td>-0.258065</td>\n",
       "      <td>20000002</td>\n",
       "      <td>2 Pallas (A802 FA)</td>\n",
       "    </tr>\n",
       "    <tr>\n",
       "      <th>2</th>\n",
       "      <td>0</td>\n",
       "      <td>-6.282209</td>\n",
       "      <td>1.108738</td>\n",
       "      <td>-0.618740</td>\n",
       "      <td>0.181077</td>\n",
       "      <td>-0.564516</td>\n",
       "      <td>20000003</td>\n",
       "      <td>3 Juno (A804 RA)</td>\n",
       "    </tr>\n",
       "    <tr>\n",
       "      <th>3</th>\n",
       "      <td>0</td>\n",
       "      <td>-7.466258</td>\n",
       "      <td>-0.503883</td>\n",
       "      <td>-0.357027</td>\n",
       "      <td>0.928222</td>\n",
       "      <td>-0.403226</td>\n",
       "      <td>20000004</td>\n",
       "      <td>4 Vesta (A807 FA)</td>\n",
       "    </tr>\n",
       "    <tr>\n",
       "      <th>4</th>\n",
       "      <td>0</td>\n",
       "      <td>-5.171779</td>\n",
       "      <td>0.440777</td>\n",
       "      <td>-0.444265</td>\n",
       "      <td>0.384992</td>\n",
       "      <td>-0.451613</td>\n",
       "      <td>20000005</td>\n",
       "      <td>5 Astraea (A845 XA)</td>\n",
       "    </tr>\n",
       "    <tr>\n",
       "      <th>...</th>\n",
       "      <td>...</td>\n",
       "      <td>...</td>\n",
       "      <td>...</td>\n",
       "      <td>...</td>\n",
       "      <td>...</td>\n",
       "      <td>...</td>\n",
       "      <td>...</td>\n",
       "      <td>...</td>\n",
       "    </tr>\n",
       "    <tr>\n",
       "      <th>137912</th>\n",
       "      <td>0</td>\n",
       "      <td>-3.141104</td>\n",
       "      <td>8.195146</td>\n",
       "      <td>6.101777</td>\n",
       "      <td>-3.502333</td>\n",
       "      <td>6.048387</td>\n",
       "      <td>3547316</td>\n",
       "      <td>(2010 BK118)</td>\n",
       "    </tr>\n",
       "    <tr>\n",
       "      <th>137913</th>\n",
       "      <td>0</td>\n",
       "      <td>-0.319018</td>\n",
       "      <td>7.751456</td>\n",
       "      <td>2.129241</td>\n",
       "      <td>-3.470979</td>\n",
       "      <td>2.258065</td>\n",
       "      <td>3516402</td>\n",
       "      <td>(2010 GW64)</td>\n",
       "    </tr>\n",
       "    <tr>\n",
       "      <th>137914</th>\n",
       "      <td>0</td>\n",
       "      <td>-1.306748</td>\n",
       "      <td>8.038835</td>\n",
       "      <td>4.859451</td>\n",
       "      <td>-3.497338</td>\n",
       "      <td>5.290323</td>\n",
       "      <td>3517549</td>\n",
       "      <td>(2010 GW147)</td>\n",
       "    </tr>\n",
       "    <tr>\n",
       "      <th>137915</th>\n",
       "      <td>0</td>\n",
       "      <td>-0.503067</td>\n",
       "      <td>7.960194</td>\n",
       "      <td>0.447496</td>\n",
       "      <td>-3.476215</td>\n",
       "      <td>0.903226</td>\n",
       "      <td>3523334</td>\n",
       "      <td>(2010 JH124)</td>\n",
       "    </tr>\n",
       "    <tr>\n",
       "      <th>137916</th>\n",
       "      <td>0</td>\n",
       "      <td>-4.368098</td>\n",
       "      <td>4.932039</td>\n",
       "      <td>26.491115</td>\n",
       "      <td>-3.463100</td>\n",
       "      <td>27.274194</td>\n",
       "      <td>3554395</td>\n",
       "      <td>(2010 WG9)</td>\n",
       "    </tr>\n",
       "  </tbody>\n",
       "</table>\n",
       "<p>137917 rows × 8 columns</p>\n",
       "</div>"
      ],
      "text/plain": [
       "        pha         H         e          q         n       moid     spkid  \\\n",
       "0         0 -7.411043 -0.608738   0.289176 -0.009788   0.306452  20000001   \n",
       "1         0 -6.932515  0.859223  -0.382876 -0.017945  -0.258065  20000002   \n",
       "2         0 -6.282209  1.108738  -0.618740  0.181077  -0.564516  20000003   \n",
       "3         0 -7.466258 -0.503883  -0.357027  0.928222  -0.403226  20000004   \n",
       "4         0 -5.171779  0.440777  -0.444265  0.384992  -0.451613  20000005   \n",
       "...     ...       ...       ...        ...       ...        ...       ...   \n",
       "137912    0 -3.141104  8.195146   6.101777 -3.502333   6.048387   3547316   \n",
       "137913    0 -0.319018  7.751456   2.129241 -3.470979   2.258065   3516402   \n",
       "137914    0 -1.306748  8.038835   4.859451 -3.497338   5.290323   3517549   \n",
       "137915    0 -0.503067  7.960194   0.447496 -3.476215   0.903226   3523334   \n",
       "137916    0 -4.368098  4.932039  26.491115 -3.463100  27.274194   3554395   \n",
       "\n",
       "                       full_name  \n",
       "0              1 Ceres (A801 AA)  \n",
       "1             2 Pallas (A802 FA)  \n",
       "2               3 Juno (A804 RA)  \n",
       "3              4 Vesta (A807 FA)  \n",
       "4            5 Astraea (A845 XA)  \n",
       "...                          ...  \n",
       "137912              (2010 BK118)  \n",
       "137913               (2010 GW64)  \n",
       "137914              (2010 GW147)  \n",
       "137915              (2010 JH124)  \n",
       "137916                (2010 WG9)  \n",
       "\n",
       "[137917 rows x 8 columns]"
      ]
     },
     "execution_count": 43,
     "metadata": {},
     "output_type": "execute_result"
    }
   ],
   "source": [
    "asteroid_df = pd.read_csv(\"data/asteroid_normalized_small_df.csv\")\n",
    "asteroid_df.drop(columns = ['diameter', 'albedo', 'a', 'i', 'neo'], inplace = True)\n",
    "asteroid_df"
   ]
  },
  {
   "cell_type": "markdown",
   "id": "6fbec726-05bb-453f-86c4-42cca3b3a822",
   "metadata": {},
   "source": [
    "## Split data"
   ]
  },
  {
   "cell_type": "code",
   "execution_count": 44,
   "id": "e78b1c18-d0f7-40b6-8e0e-c9baba7d14c3",
   "metadata": {},
   "outputs": [],
   "source": [
    "X = pd.DataFrame(asteroid_df['H'])\n",
    "y = asteroid_df.iloc[:, 0]"
   ]
  },
  {
   "cell_type": "code",
   "execution_count": 45,
   "id": "ee7c9feb-afd4-4e89-b87d-f8bfeedebcb0",
   "metadata": {},
   "outputs": [],
   "source": [
    "from sklearn.model_selection import train_test_split\n",
    "X_train_original, X_test, y_train_original, y_test = train_test_split(X,y,test_size = 0.2, random_state = 42)"
   ]
  },
  {
   "cell_type": "code",
   "execution_count": 46,
   "id": "dbb90317-6148-4a7e-802f-65e96169fbff",
   "metadata": {},
   "outputs": [
    {
     "name": "stdout",
     "output_type": "stream",
     "text": [
      "After OverSampling, counts of label 'N': 110091\n",
      "After OverSampling, counts of label 'Y': 110091\n"
     ]
    }
   ],
   "source": [
    "sm = SMOTE(random_state = 42) \n",
    "X_train, y_train = sm.fit_resample(X_train_original, y_train_original.ravel())\n",
    "  \n",
    "print(\"After OverSampling, counts of label 'N': {}\".format(sum(y_train == 0))) \n",
    "print(\"After OverSampling, counts of label 'Y': {}\".format(sum(y_train == 1))) "
   ]
  },
  {
   "cell_type": "code",
   "execution_count": 47,
   "id": "0e5c4326-47f1-4dcd-abf1-05a915b55743",
   "metadata": {},
   "outputs": [
    {
     "data": {
      "text/plain": [
       "((220182, 1), (220182,))"
      ]
     },
     "execution_count": 47,
     "metadata": {},
     "output_type": "execute_result"
    }
   ],
   "source": [
    "X_train.shape, y_train.shape"
   ]
  },
  {
   "cell_type": "code",
   "execution_count": 48,
   "id": "8f321625-c03d-4fa5-a027-2385ea7b07e4",
   "metadata": {},
   "outputs": [
    {
     "data": {
      "text/plain": [
       "((27584, 1), (27584,))"
      ]
     },
     "execution_count": 48,
     "metadata": {},
     "output_type": "execute_result"
    }
   ],
   "source": [
    "X_test.shape, y_test.shape"
   ]
  },
  {
   "cell_type": "markdown",
   "id": "86e09d41-5df2-4f75-9bfd-4c931cb07c62",
   "metadata": {},
   "source": [
    "## logistic regression model"
   ]
  },
  {
   "cell_type": "code",
   "execution_count": 49,
   "id": "8baf26de-0879-4890-be9a-55487e6f6f76",
   "metadata": {},
   "outputs": [
    {
     "data": {
      "text/html": [
       "<style>#sk-container-id-3 {\n",
       "  /* Definition of color scheme common for light and dark mode */\n",
       "  --sklearn-color-text: black;\n",
       "  --sklearn-color-line: gray;\n",
       "  /* Definition of color scheme for unfitted estimators */\n",
       "  --sklearn-color-unfitted-level-0: #fff5e6;\n",
       "  --sklearn-color-unfitted-level-1: #f6e4d2;\n",
       "  --sklearn-color-unfitted-level-2: #ffe0b3;\n",
       "  --sklearn-color-unfitted-level-3: chocolate;\n",
       "  /* Definition of color scheme for fitted estimators */\n",
       "  --sklearn-color-fitted-level-0: #f0f8ff;\n",
       "  --sklearn-color-fitted-level-1: #d4ebff;\n",
       "  --sklearn-color-fitted-level-2: #b3dbfd;\n",
       "  --sklearn-color-fitted-level-3: cornflowerblue;\n",
       "\n",
       "  /* Specific color for light theme */\n",
       "  --sklearn-color-text-on-default-background: var(--sg-text-color, var(--theme-code-foreground, var(--jp-content-font-color1, black)));\n",
       "  --sklearn-color-background: var(--sg-background-color, var(--theme-background, var(--jp-layout-color0, white)));\n",
       "  --sklearn-color-border-box: var(--sg-text-color, var(--theme-code-foreground, var(--jp-content-font-color1, black)));\n",
       "  --sklearn-color-icon: #696969;\n",
       "\n",
       "  @media (prefers-color-scheme: dark) {\n",
       "    /* Redefinition of color scheme for dark theme */\n",
       "    --sklearn-color-text-on-default-background: var(--sg-text-color, var(--theme-code-foreground, var(--jp-content-font-color1, white)));\n",
       "    --sklearn-color-background: var(--sg-background-color, var(--theme-background, var(--jp-layout-color0, #111)));\n",
       "    --sklearn-color-border-box: var(--sg-text-color, var(--theme-code-foreground, var(--jp-content-font-color1, white)));\n",
       "    --sklearn-color-icon: #878787;\n",
       "  }\n",
       "}\n",
       "\n",
       "#sk-container-id-3 {\n",
       "  color: var(--sklearn-color-text);\n",
       "}\n",
       "\n",
       "#sk-container-id-3 pre {\n",
       "  padding: 0;\n",
       "}\n",
       "\n",
       "#sk-container-id-3 input.sk-hidden--visually {\n",
       "  border: 0;\n",
       "  clip: rect(1px 1px 1px 1px);\n",
       "  clip: rect(1px, 1px, 1px, 1px);\n",
       "  height: 1px;\n",
       "  margin: -1px;\n",
       "  overflow: hidden;\n",
       "  padding: 0;\n",
       "  position: absolute;\n",
       "  width: 1px;\n",
       "}\n",
       "\n",
       "#sk-container-id-3 div.sk-dashed-wrapped {\n",
       "  border: 1px dashed var(--sklearn-color-line);\n",
       "  margin: 0 0.4em 0.5em 0.4em;\n",
       "  box-sizing: border-box;\n",
       "  padding-bottom: 0.4em;\n",
       "  background-color: var(--sklearn-color-background);\n",
       "}\n",
       "\n",
       "#sk-container-id-3 div.sk-container {\n",
       "  /* jupyter's `normalize.less` sets `[hidden] { display: none; }`\n",
       "     but bootstrap.min.css set `[hidden] { display: none !important; }`\n",
       "     so we also need the `!important` here to be able to override the\n",
       "     default hidden behavior on the sphinx rendered scikit-learn.org.\n",
       "     See: https://github.com/scikit-learn/scikit-learn/issues/21755 */\n",
       "  display: inline-block !important;\n",
       "  position: relative;\n",
       "}\n",
       "\n",
       "#sk-container-id-3 div.sk-text-repr-fallback {\n",
       "  display: none;\n",
       "}\n",
       "\n",
       "div.sk-parallel-item,\n",
       "div.sk-serial,\n",
       "div.sk-item {\n",
       "  /* draw centered vertical line to link estimators */\n",
       "  background-image: linear-gradient(var(--sklearn-color-text-on-default-background), var(--sklearn-color-text-on-default-background));\n",
       "  background-size: 2px 100%;\n",
       "  background-repeat: no-repeat;\n",
       "  background-position: center center;\n",
       "}\n",
       "\n",
       "/* Parallel-specific style estimator block */\n",
       "\n",
       "#sk-container-id-3 div.sk-parallel-item::after {\n",
       "  content: \"\";\n",
       "  width: 100%;\n",
       "  border-bottom: 2px solid var(--sklearn-color-text-on-default-background);\n",
       "  flex-grow: 1;\n",
       "}\n",
       "\n",
       "#sk-container-id-3 div.sk-parallel {\n",
       "  display: flex;\n",
       "  align-items: stretch;\n",
       "  justify-content: center;\n",
       "  background-color: var(--sklearn-color-background);\n",
       "  position: relative;\n",
       "}\n",
       "\n",
       "#sk-container-id-3 div.sk-parallel-item {\n",
       "  display: flex;\n",
       "  flex-direction: column;\n",
       "}\n",
       "\n",
       "#sk-container-id-3 div.sk-parallel-item:first-child::after {\n",
       "  align-self: flex-end;\n",
       "  width: 50%;\n",
       "}\n",
       "\n",
       "#sk-container-id-3 div.sk-parallel-item:last-child::after {\n",
       "  align-self: flex-start;\n",
       "  width: 50%;\n",
       "}\n",
       "\n",
       "#sk-container-id-3 div.sk-parallel-item:only-child::after {\n",
       "  width: 0;\n",
       "}\n",
       "\n",
       "/* Serial-specific style estimator block */\n",
       "\n",
       "#sk-container-id-3 div.sk-serial {\n",
       "  display: flex;\n",
       "  flex-direction: column;\n",
       "  align-items: center;\n",
       "  background-color: var(--sklearn-color-background);\n",
       "  padding-right: 1em;\n",
       "  padding-left: 1em;\n",
       "}\n",
       "\n",
       "\n",
       "/* Toggleable style: style used for estimator/Pipeline/ColumnTransformer box that is\n",
       "clickable and can be expanded/collapsed.\n",
       "- Pipeline and ColumnTransformer use this feature and define the default style\n",
       "- Estimators will overwrite some part of the style using the `sk-estimator` class\n",
       "*/\n",
       "\n",
       "/* Pipeline and ColumnTransformer style (default) */\n",
       "\n",
       "#sk-container-id-3 div.sk-toggleable {\n",
       "  /* Default theme specific background. It is overwritten whether we have a\n",
       "  specific estimator or a Pipeline/ColumnTransformer */\n",
       "  background-color: var(--sklearn-color-background);\n",
       "}\n",
       "\n",
       "/* Toggleable label */\n",
       "#sk-container-id-3 label.sk-toggleable__label {\n",
       "  cursor: pointer;\n",
       "  display: block;\n",
       "  width: 100%;\n",
       "  margin-bottom: 0;\n",
       "  padding: 0.5em;\n",
       "  box-sizing: border-box;\n",
       "  text-align: center;\n",
       "}\n",
       "\n",
       "#sk-container-id-3 label.sk-toggleable__label-arrow:before {\n",
       "  /* Arrow on the left of the label */\n",
       "  content: \"▸\";\n",
       "  float: left;\n",
       "  margin-right: 0.25em;\n",
       "  color: var(--sklearn-color-icon);\n",
       "}\n",
       "\n",
       "#sk-container-id-3 label.sk-toggleable__label-arrow:hover:before {\n",
       "  color: var(--sklearn-color-text);\n",
       "}\n",
       "\n",
       "/* Toggleable content - dropdown */\n",
       "\n",
       "#sk-container-id-3 div.sk-toggleable__content {\n",
       "  max-height: 0;\n",
       "  max-width: 0;\n",
       "  overflow: hidden;\n",
       "  text-align: left;\n",
       "  /* unfitted */\n",
       "  background-color: var(--sklearn-color-unfitted-level-0);\n",
       "}\n",
       "\n",
       "#sk-container-id-3 div.sk-toggleable__content.fitted {\n",
       "  /* fitted */\n",
       "  background-color: var(--sklearn-color-fitted-level-0);\n",
       "}\n",
       "\n",
       "#sk-container-id-3 div.sk-toggleable__content pre {\n",
       "  margin: 0.2em;\n",
       "  border-radius: 0.25em;\n",
       "  color: var(--sklearn-color-text);\n",
       "  /* unfitted */\n",
       "  background-color: var(--sklearn-color-unfitted-level-0);\n",
       "}\n",
       "\n",
       "#sk-container-id-3 div.sk-toggleable__content.fitted pre {\n",
       "  /* unfitted */\n",
       "  background-color: var(--sklearn-color-fitted-level-0);\n",
       "}\n",
       "\n",
       "#sk-container-id-3 input.sk-toggleable__control:checked~div.sk-toggleable__content {\n",
       "  /* Expand drop-down */\n",
       "  max-height: 200px;\n",
       "  max-width: 100%;\n",
       "  overflow: auto;\n",
       "}\n",
       "\n",
       "#sk-container-id-3 input.sk-toggleable__control:checked~label.sk-toggleable__label-arrow:before {\n",
       "  content: \"▾\";\n",
       "}\n",
       "\n",
       "/* Pipeline/ColumnTransformer-specific style */\n",
       "\n",
       "#sk-container-id-3 div.sk-label input.sk-toggleable__control:checked~label.sk-toggleable__label {\n",
       "  color: var(--sklearn-color-text);\n",
       "  background-color: var(--sklearn-color-unfitted-level-2);\n",
       "}\n",
       "\n",
       "#sk-container-id-3 div.sk-label.fitted input.sk-toggleable__control:checked~label.sk-toggleable__label {\n",
       "  background-color: var(--sklearn-color-fitted-level-2);\n",
       "}\n",
       "\n",
       "/* Estimator-specific style */\n",
       "\n",
       "/* Colorize estimator box */\n",
       "#sk-container-id-3 div.sk-estimator input.sk-toggleable__control:checked~label.sk-toggleable__label {\n",
       "  /* unfitted */\n",
       "  background-color: var(--sklearn-color-unfitted-level-2);\n",
       "}\n",
       "\n",
       "#sk-container-id-3 div.sk-estimator.fitted input.sk-toggleable__control:checked~label.sk-toggleable__label {\n",
       "  /* fitted */\n",
       "  background-color: var(--sklearn-color-fitted-level-2);\n",
       "}\n",
       "\n",
       "#sk-container-id-3 div.sk-label label.sk-toggleable__label,\n",
       "#sk-container-id-3 div.sk-label label {\n",
       "  /* The background is the default theme color */\n",
       "  color: var(--sklearn-color-text-on-default-background);\n",
       "}\n",
       "\n",
       "/* On hover, darken the color of the background */\n",
       "#sk-container-id-3 div.sk-label:hover label.sk-toggleable__label {\n",
       "  color: var(--sklearn-color-text);\n",
       "  background-color: var(--sklearn-color-unfitted-level-2);\n",
       "}\n",
       "\n",
       "/* Label box, darken color on hover, fitted */\n",
       "#sk-container-id-3 div.sk-label.fitted:hover label.sk-toggleable__label.fitted {\n",
       "  color: var(--sklearn-color-text);\n",
       "  background-color: var(--sklearn-color-fitted-level-2);\n",
       "}\n",
       "\n",
       "/* Estimator label */\n",
       "\n",
       "#sk-container-id-3 div.sk-label label {\n",
       "  font-family: monospace;\n",
       "  font-weight: bold;\n",
       "  display: inline-block;\n",
       "  line-height: 1.2em;\n",
       "}\n",
       "\n",
       "#sk-container-id-3 div.sk-label-container {\n",
       "  text-align: center;\n",
       "}\n",
       "\n",
       "/* Estimator-specific */\n",
       "#sk-container-id-3 div.sk-estimator {\n",
       "  font-family: monospace;\n",
       "  border: 1px dotted var(--sklearn-color-border-box);\n",
       "  border-radius: 0.25em;\n",
       "  box-sizing: border-box;\n",
       "  margin-bottom: 0.5em;\n",
       "  /* unfitted */\n",
       "  background-color: var(--sklearn-color-unfitted-level-0);\n",
       "}\n",
       "\n",
       "#sk-container-id-3 div.sk-estimator.fitted {\n",
       "  /* fitted */\n",
       "  background-color: var(--sklearn-color-fitted-level-0);\n",
       "}\n",
       "\n",
       "/* on hover */\n",
       "#sk-container-id-3 div.sk-estimator:hover {\n",
       "  /* unfitted */\n",
       "  background-color: var(--sklearn-color-unfitted-level-2);\n",
       "}\n",
       "\n",
       "#sk-container-id-3 div.sk-estimator.fitted:hover {\n",
       "  /* fitted */\n",
       "  background-color: var(--sklearn-color-fitted-level-2);\n",
       "}\n",
       "\n",
       "/* Specification for estimator info (e.g. \"i\" and \"?\") */\n",
       "\n",
       "/* Common style for \"i\" and \"?\" */\n",
       "\n",
       ".sk-estimator-doc-link,\n",
       "a:link.sk-estimator-doc-link,\n",
       "a:visited.sk-estimator-doc-link {\n",
       "  float: right;\n",
       "  font-size: smaller;\n",
       "  line-height: 1em;\n",
       "  font-family: monospace;\n",
       "  background-color: var(--sklearn-color-background);\n",
       "  border-radius: 1em;\n",
       "  height: 1em;\n",
       "  width: 1em;\n",
       "  text-decoration: none !important;\n",
       "  margin-left: 1ex;\n",
       "  /* unfitted */\n",
       "  border: var(--sklearn-color-unfitted-level-1) 1pt solid;\n",
       "  color: var(--sklearn-color-unfitted-level-1);\n",
       "}\n",
       "\n",
       ".sk-estimator-doc-link.fitted,\n",
       "a:link.sk-estimator-doc-link.fitted,\n",
       "a:visited.sk-estimator-doc-link.fitted {\n",
       "  /* fitted */\n",
       "  border: var(--sklearn-color-fitted-level-1) 1pt solid;\n",
       "  color: var(--sklearn-color-fitted-level-1);\n",
       "}\n",
       "\n",
       "/* On hover */\n",
       "div.sk-estimator:hover .sk-estimator-doc-link:hover,\n",
       ".sk-estimator-doc-link:hover,\n",
       "div.sk-label-container:hover .sk-estimator-doc-link:hover,\n",
       ".sk-estimator-doc-link:hover {\n",
       "  /* unfitted */\n",
       "  background-color: var(--sklearn-color-unfitted-level-3);\n",
       "  color: var(--sklearn-color-background);\n",
       "  text-decoration: none;\n",
       "}\n",
       "\n",
       "div.sk-estimator.fitted:hover .sk-estimator-doc-link.fitted:hover,\n",
       ".sk-estimator-doc-link.fitted:hover,\n",
       "div.sk-label-container:hover .sk-estimator-doc-link.fitted:hover,\n",
       ".sk-estimator-doc-link.fitted:hover {\n",
       "  /* fitted */\n",
       "  background-color: var(--sklearn-color-fitted-level-3);\n",
       "  color: var(--sklearn-color-background);\n",
       "  text-decoration: none;\n",
       "}\n",
       "\n",
       "/* Span, style for the box shown on hovering the info icon */\n",
       ".sk-estimator-doc-link span {\n",
       "  display: none;\n",
       "  z-index: 9999;\n",
       "  position: relative;\n",
       "  font-weight: normal;\n",
       "  right: .2ex;\n",
       "  padding: .5ex;\n",
       "  margin: .5ex;\n",
       "  width: min-content;\n",
       "  min-width: 20ex;\n",
       "  max-width: 50ex;\n",
       "  color: var(--sklearn-color-text);\n",
       "  box-shadow: 2pt 2pt 4pt #999;\n",
       "  /* unfitted */\n",
       "  background: var(--sklearn-color-unfitted-level-0);\n",
       "  border: .5pt solid var(--sklearn-color-unfitted-level-3);\n",
       "}\n",
       "\n",
       ".sk-estimator-doc-link.fitted span {\n",
       "  /* fitted */\n",
       "  background: var(--sklearn-color-fitted-level-0);\n",
       "  border: var(--sklearn-color-fitted-level-3);\n",
       "}\n",
       "\n",
       ".sk-estimator-doc-link:hover span {\n",
       "  display: block;\n",
       "}\n",
       "\n",
       "/* \"?\"-specific style due to the `<a>` HTML tag */\n",
       "\n",
       "#sk-container-id-3 a.estimator_doc_link {\n",
       "  float: right;\n",
       "  font-size: 1rem;\n",
       "  line-height: 1em;\n",
       "  font-family: monospace;\n",
       "  background-color: var(--sklearn-color-background);\n",
       "  border-radius: 1rem;\n",
       "  height: 1rem;\n",
       "  width: 1rem;\n",
       "  text-decoration: none;\n",
       "  /* unfitted */\n",
       "  color: var(--sklearn-color-unfitted-level-1);\n",
       "  border: var(--sklearn-color-unfitted-level-1) 1pt solid;\n",
       "}\n",
       "\n",
       "#sk-container-id-3 a.estimator_doc_link.fitted {\n",
       "  /* fitted */\n",
       "  border: var(--sklearn-color-fitted-level-1) 1pt solid;\n",
       "  color: var(--sklearn-color-fitted-level-1);\n",
       "}\n",
       "\n",
       "/* On hover */\n",
       "#sk-container-id-3 a.estimator_doc_link:hover {\n",
       "  /* unfitted */\n",
       "  background-color: var(--sklearn-color-unfitted-level-3);\n",
       "  color: var(--sklearn-color-background);\n",
       "  text-decoration: none;\n",
       "}\n",
       "\n",
       "#sk-container-id-3 a.estimator_doc_link.fitted:hover {\n",
       "  /* fitted */\n",
       "  background-color: var(--sklearn-color-fitted-level-3);\n",
       "}\n",
       "</style><div id=\"sk-container-id-3\" class=\"sk-top-container\"><div class=\"sk-text-repr-fallback\"><pre>LogisticRegression()</pre><b>In a Jupyter environment, please rerun this cell to show the HTML representation or trust the notebook. <br />On GitHub, the HTML representation is unable to render, please try loading this page with nbviewer.org.</b></div><div class=\"sk-container\" hidden><div class=\"sk-item\"><div class=\"sk-estimator fitted sk-toggleable\"><input class=\"sk-toggleable__control sk-hidden--visually\" id=\"sk-estimator-id-5\" type=\"checkbox\" checked><label for=\"sk-estimator-id-5\" class=\"sk-toggleable__label fitted sk-toggleable__label-arrow fitted\">&nbsp;&nbsp;LogisticRegression<a class=\"sk-estimator-doc-link fitted\" rel=\"noreferrer\" target=\"_blank\" href=\"https://scikit-learn.org/1.5/modules/generated/sklearn.linear_model.LogisticRegression.html\">?<span>Documentation for LogisticRegression</span></a><span class=\"sk-estimator-doc-link fitted\">i<span>Fitted</span></span></label><div class=\"sk-toggleable__content fitted\"><pre>LogisticRegression()</pre></div> </div></div></div></div>"
      ],
      "text/plain": [
       "LogisticRegression()"
      ]
     },
     "execution_count": 49,
     "metadata": {},
     "output_type": "execute_result"
    }
   ],
   "source": [
    "from sklearn.linear_model import LogisticRegression\n",
    "\n",
    "logreg = LogisticRegression()\n",
    "\n",
    "logreg.fit(X_train, y_train)    # Train the model using the training sets"
   ]
  },
  {
   "cell_type": "code",
   "execution_count": 50,
   "id": "9ab2af39-f96e-488b-a97c-5be226f39389",
   "metadata": {},
   "outputs": [
    {
     "data": {
      "text/html": [
       "<div>\n",
       "<style scoped>\n",
       "    .dataframe tbody tr th:only-of-type {\n",
       "        vertical-align: middle;\n",
       "    }\n",
       "\n",
       "    .dataframe tbody tr th {\n",
       "        vertical-align: top;\n",
       "    }\n",
       "\n",
       "    .dataframe thead th {\n",
       "        text-align: right;\n",
       "    }\n",
       "</style>\n",
       "<table border=\"1\" class=\"dataframe\">\n",
       "  <thead>\n",
       "    <tr style=\"text-align: right;\">\n",
       "      <th></th>\n",
       "      <th>Accurancy on Train</th>\n",
       "      <th>Accurancy on Test</th>\n",
       "    </tr>\n",
       "  </thead>\n",
       "  <tbody>\n",
       "    <tr>\n",
       "      <th>0</th>\n",
       "      <td>0.883437</td>\n",
       "      <td>0.911398</td>\n",
       "    </tr>\n",
       "  </tbody>\n",
       "</table>\n",
       "</div>"
      ],
      "text/plain": [
       "   Accurancy on Train  Accurancy on Test\n",
       "0            0.883437           0.911398"
      ]
     },
     "execution_count": 50,
     "metadata": {},
     "output_type": "execute_result"
    }
   ],
   "source": [
    "pd.DataFrame({\"Accurancy on Train\":[accuracy_score(y_train, logreg.predict(X_train))],\n",
    "    \"Accurancy on Test\":[accuracy_score(y_test, logreg.predict(X_test))]})"
   ]
  },
  {
   "cell_type": "code",
   "execution_count": 51,
   "id": "0e09bbea-9d27-4404-885c-0c058118e1c5",
   "metadata": {},
   "outputs": [],
   "source": [
    "# Predict on the test data set\n",
    "y_pred = logreg.predict(X_test)"
   ]
  },
  {
   "cell_type": "code",
   "execution_count": 52,
   "id": "d580447b-afbe-4502-8fe2-6acf93f0dc1f",
   "metadata": {},
   "outputs": [
    {
     "data": {
      "text/plain": [
       "array([0, 0, 0, 1, 0], dtype=int64)"
      ]
     },
     "execution_count": 52,
     "metadata": {},
     "output_type": "execute_result"
    }
   ],
   "source": [
    "logreg.predict(X_test)[0:5]"
   ]
  },
  {
   "cell_type": "markdown",
   "id": "3f31449f-08bd-4051-929a-e155d14d7310",
   "metadata": {},
   "source": [
    "#### Model slop and intercept"
   ]
  },
  {
   "cell_type": "code",
   "execution_count": 53,
   "id": "bcb3a465-c365-4af1-978e-616177292a1c",
   "metadata": {},
   "outputs": [
    {
     "name": "stdout",
     "output_type": "stream",
     "text": [
      "Number of coefficients: 1\n",
      "Estimated coefficients: [[2.30759621]]\n",
      "Estimated intercept: [-2.2250324]\n"
     ]
    }
   ],
   "source": [
    "print(\"Number of coefficients:\", len(logreg.coef_))\n",
    "print(\"Estimated coefficients: {}\".format(logreg.coef_))\n",
    "print(\"Estimated intercept: {}\".format(logreg.intercept_))"
   ]
  },
  {
   "cell_type": "markdown",
   "id": "15ffa634-edfd-4d8b-b8cb-2a03fa4ffc60",
   "metadata": {},
   "source": [
    "### Evaluate logistic regression model"
   ]
  },
  {
   "cell_type": "code",
   "execution_count": 54,
   "id": "bf2b6c30-a67a-4ad1-bd01-6aee447abb07",
   "metadata": {},
   "outputs": [
    {
     "data": {
      "text/plain": [
       "array([[25073,  2438],\n",
       "       [    6,    67]], dtype=int64)"
      ]
     },
     "execution_count": 54,
     "metadata": {},
     "output_type": "execute_result"
    }
   ],
   "source": [
    "cnf_matrix = metrics.confusion_matrix(y_test, y_pred)\n",
    "cnf_matrix"
   ]
  },
  {
   "cell_type": "markdown",
   "id": "04cf4e18-b531-4883-b5a5-44923aaaa7e1",
   "metadata": {},
   "source": [
    "#### RMS"
   ]
  },
  {
   "cell_type": "code",
   "execution_count": 55,
   "id": "7abec896-f975-483d-b69a-28106fdcddfd",
   "metadata": {},
   "outputs": [
    {
     "name": "stdout",
     "output_type": "stream",
     "text": [
      "RMSE value : 0.30\n"
     ]
    }
   ],
   "source": [
    "from sklearn.metrics import mean_squared_error\n",
    "mse = mean_squared_error(y_test, y_pred)\n",
    "rmse = np.sqrt(mse)\n",
    "print(\"RMSE value : {:.2f}\".format(rmse))"
   ]
  },
  {
   "cell_type": "markdown",
   "id": "d2258d6c-58b0-40ae-9781-b63c7c0dc8c5",
   "metadata": {},
   "source": [
    "#### Model slop and intercept"
   ]
  },
  {
   "cell_type": "markdown",
   "id": "6e118f56-49f4-45b4-9873-a86011785e55",
   "metadata": {},
   "source": [
    "#### R2"
   ]
  },
  {
   "cell_type": "code",
   "execution_count": 56,
   "id": "734e9f5c-7545-44d0-ac5c-4bb2de580b1a",
   "metadata": {},
   "outputs": [
    {
     "name": "stdout",
     "output_type": "stream",
     "text": [
      "R2 Score value: -32.57\n"
     ]
    }
   ],
   "source": [
    "from sklearn.metrics import r2_score\n",
    "print(\"R2 Score value: {:.2f}\".format(r2_score(y_test, y_pred)))"
   ]
  },
  {
   "cell_type": "code",
   "execution_count": 57,
   "id": "ed308907-3c25-463f-8b53-89d68ee6b12e",
   "metadata": {},
   "outputs": [
    {
     "name": "stdout",
     "output_type": "stream",
     "text": [
      "Training set score: 0.88\n"
     ]
    }
   ],
   "source": [
    "# Evaluating training set performance\n",
    "\n",
    "print(\"Training set score: {:.2f}\".format(logreg.score(X_train, y_train)))"
   ]
  },
  {
   "cell_type": "code",
   "execution_count": 58,
   "id": "fa9046b5-b4f7-449f-bd29-b1ea70b13731",
   "metadata": {},
   "outputs": [
    {
     "name": "stdout",
     "output_type": "stream",
     "text": [
      "Test set score: 0.91\n"
     ]
    }
   ],
   "source": [
    "# Evaluating test set performance\n",
    "\n",
    "print(\"Test set score: {:.2f}\".format(logreg.score(X_test, y_test)))"
   ]
  },
  {
   "cell_type": "markdown",
   "id": "87cdb4be-bb2b-46ff-a4ff-2df77cf57fa7",
   "metadata": {},
   "source": [
    "### Plotting Residual Error"
   ]
  },
  {
   "cell_type": "code",
   "execution_count": 59,
   "id": "208e83a2-efb8-4db6-ac85-c79dbb63cb70",
   "metadata": {},
   "outputs": [
    {
     "data": {
      "image/png": "[encoded data removed]",
      "text/plain": [
       "<Figure size 1000x800 with 1 Axes>"
      ]
     },
     "metadata": {},
     "output_type": "display_data"
    }
   ],
   "source": [
    "%matplotlib inline\n",
    "plt.figure(figsize=(10,8))\n",
    "\n",
    "# plotting residual errors in training data\n",
    "plt.scatter(logreg.predict(X_train), logreg.predict(X_train) - y_train, c = 'g', s = 40, label = 'Train data', alpha = 0.5)\n",
    "\n",
    "# plotting residual errors in test data\n",
    "plt.scatter(logreg.predict(X_test), logreg.predict(X_test) - y_test, c = 'r', s = 20, label = 'Test data')\n",
    "\n",
    "# plotting line for zero residual error\n",
    "plt.hlines(y = 0, xmin = -1, xmax = 2, linewidth = 3)\n",
    "\n",
    "# plotting legend\n",
    "plt.legend(loc = 'upper right')\n",
    "\n",
    "# plot title\n",
    "plt.title(\"Residual errors plot\")\n",
    "\n",
    "# function to show plot\n",
    "plt.show()"
   ]
  },
  {
   "cell_type": "code",
   "execution_count": 60,
   "id": "0e4fd841-26f1-41a7-a11f-7abb5bc0d7e3",
   "metadata": {},
   "outputs": [
    {
     "name": "stdout",
     "output_type": "stream",
     "text": [
      "Precision metric: 0.51\n",
      "Recall Metric: 0.91\n",
      "Accuracy Metric: 0.9114\n",
      "F1 score: 0.5\n"
     ]
    }
   ],
   "source": [
    "precision_metric_macro = precision_score(y_test, y_pred, average = \"macro\")\n",
    "recall_metric_macro = recall_score(y_test, y_pred, average = \"macro\")\n",
    "accuracy_metric = accuracy_score(y_test, y_pred)\n",
    "f1_metric_macro = f1_score(y_test, y_pred, average = \"macro\")\n",
    "    \n",
    "print('Precision metric:',round(precision_metric_macro, 2))\n",
    "print('Recall Metric:',round(recall_metric_macro, 2))\n",
    "print('Accuracy Metric:',round(accuracy_metric, 4))\n",
    "print('F1 score:',round(f1_metric_macro, 2))"
   ]
  },
  {
   "cell_type": "code",
   "execution_count": 61,
   "id": "5d4259f0-be74-4acf-b0d7-f8a928f68ae6",
   "metadata": {},
   "outputs": [
    {
     "name": "stdout",
     "output_type": "stream",
     "text": [
      "Precision metric: 0.91\n",
      "Recall Metric: 0.91\n",
      "F1 score: 0.91\n"
     ]
    }
   ],
   "source": [
    "precision_metric_micro = precision_score(y_test, y_pred, average = \"micro\")\n",
    "recall_metric_micro = recall_score(y_test, y_pred, average = \"micro\")\n",
    "f1_metric_micro = f1_score(y_test, y_pred, average = \"micro\")\n",
    "    \n",
    "print('Precision metric:',round(precision_metric_micro, 2))\n",
    "print('Recall Metric:',round(recall_metric_micro, 2))\n",
    "print('F1 score:',round(f1_metric_micro, 2))"
   ]
  },
  {
   "cell_type": "code",
   "execution_count": 62,
   "id": "719b8c41-01a4-433d-b429-78949d00349e",
   "metadata": {},
   "outputs": [
    {
     "name": "stdout",
     "output_type": "stream",
     "text": [
      "Precision metric: 1.0\n",
      "Recall Metric: 0.91\n",
      "F1 score: 0.95\n"
     ]
    }
   ],
   "source": [
    "precision_metric_weighted = precision_score(y_test, y_pred, average = \"weighted\")\n",
    "recall_metric_weighted = recall_score(y_test, y_pred, average = \"weighted\")\n",
    "f1_metric_weighted = f1_score(y_test, y_pred, average = \"weighted\")\n",
    "    \n",
    "print('Precision metric:',round(precision_metric_weighted, 2))\n",
    "print('Recall Metric:',round(recall_metric_weighted, 2))\n",
    "print('F1 score:',round(f1_metric_weighted, 2))"
   ]
  },
  {
   "cell_type": "markdown",
   "id": "9fc089fa-ebd1-461d-a81b-19c8814491a4",
   "metadata": {},
   "source": [
    "### Q-Q Plot"
   ]
  },
  {
   "cell_type": "code",
   "execution_count": 63,
   "id": "06b78a82-6ada-47ad-b05e-e7e789c88dd8",
   "metadata": {},
   "outputs": [
    {
     "data": {
      "image/png": "[encoded data removed]",
      "text/plain": [
       "<Figure size 1500x600 with 2 Axes>"
      ]
     },
     "metadata": {},
     "output_type": "display_data"
    }
   ],
   "source": [
    "import pylab \n",
    "import scipy.stats as stats\n",
    "       \n",
    "plt.figure(figsize=(15, 6))\n",
    "\n",
    "# Histogram of the variable\n",
    "plt.subplot(1, 2, 1)\n",
    "asteroid_df['H'].hist()\n",
    "plt.title('Distribution of H')\n",
    "\n",
    "# Q-Q plot for normality\n",
    "plt.subplot(1, 2, 2)\n",
    "stats.probplot(asteroid_df['H'], dist=\"norm\", plot=pylab)\n",
    "plt.title('Q-Q plot of H')\n",
    "plt.show()"
   ]
  },
  {
   "cell_type": "markdown",
   "id": "42d98617-f05c-4e91-8120-285c48f4ef0d",
   "metadata": {},
   "source": [
    "## Validation in Practice: Grid Search"
   ]
  },
  {
   "cell_type": "code",
   "execution_count": 64,
   "id": "f11e402a-1c42-4d81-8cb7-ac4b4ff8bb78",
   "metadata": {},
   "outputs": [],
   "source": [
    "from sklearn.model_selection import GridSearchCV\n",
    "\n",
    "param_grid = {\n",
    "    'penalty': ['l2', 'elasticnet'],  # Regularization penalty types\n",
    "    'C': [ 1, 10, 20],  # Regularization strength (inverse)\n",
    "    'solver': ['newton-cg', 'lbfgs', 'liblinear', 'saga'],  # Solvers for optimization\n",
    "    'max_iter': [300, 500],  # Maximum number of iterations for convergence\n",
    "    'l1_ratio': [0, 0.5, 1]  # Only used with 'elasticnet' penalty\n",
    "}\n",
    "\n",
    "# Initialize logistic regression model\n",
    "logreg = LogisticRegression()\n",
    "\n",
    "# Initialize GridSearchCV with logistic regression and the parameter grid\n",
    "grid_search = GridSearchCV(estimator=logreg, param_grid=param_grid, cv=5, scoring='accuracy', verbose = 5, n_jobs = -2)"
   ]
  },
  {
   "cell_type": "code",
   "execution_count": 65,
   "id": "26eeb0f5-8e38-47a7-ae18-cbefe0a796e2",
   "metadata": {},
   "outputs": [],
   "source": [
    "import warnings\n",
    "warnings.filterwarnings(\"ignore\")"
   ]
  },
  {
   "cell_type": "code",
   "execution_count": 66,
   "id": "2a364e5a-4fcd-4eb0-9c5e-2606308c3506",
   "metadata": {
    "scrolled": true
   },
   "outputs": [
    {
     "name": "stdout",
     "output_type": "stream",
     "text": [
      "Fitting 5 folds for each of 144 candidates, totalling 720 fits\n"
     ]
    },
    {
     "data": {
      "text/html": [
       "<style>#sk-container-id-4 {\n",
       "  /* Definition of color scheme common for light and dark mode */\n",
       "  --sklearn-color-text: black;\n",
       "  --sklearn-color-line: gray;\n",
       "  /* Definition of color scheme for unfitted estimators */\n",
       "  --sklearn-color-unfitted-level-0: #fff5e6;\n",
       "  --sklearn-color-unfitted-level-1: #f6e4d2;\n",
       "  --sklearn-color-unfitted-level-2: #ffe0b3;\n",
       "  --sklearn-color-unfitted-level-3: chocolate;\n",
       "  /* Definition of color scheme for fitted estimators */\n",
       "  --sklearn-color-fitted-level-0: #f0f8ff;\n",
       "  --sklearn-color-fitted-level-1: #d4ebff;\n",
       "  --sklearn-color-fitted-level-2: #b3dbfd;\n",
       "  --sklearn-color-fitted-level-3: cornflowerblue;\n",
       "\n",
       "  /* Specific color for light theme */\n",
       "  --sklearn-color-text-on-default-background: var(--sg-text-color, var(--theme-code-foreground, var(--jp-content-font-color1, black)));\n",
       "  --sklearn-color-background: var(--sg-background-color, var(--theme-background, var(--jp-layout-color0, white)));\n",
       "  --sklearn-color-border-box: var(--sg-text-color, var(--theme-code-foreground, var(--jp-content-font-color1, black)));\n",
       "  --sklearn-color-icon: #696969;\n",
       "\n",
       "  @media (prefers-color-scheme: dark) {\n",
       "    /* Redefinition of color scheme for dark theme */\n",
       "    --sklearn-color-text-on-default-background: var(--sg-text-color, var(--theme-code-foreground, var(--jp-content-font-color1, white)));\n",
       "    --sklearn-color-background: var(--sg-background-color, var(--theme-background, var(--jp-layout-color0, #111)));\n",
       "    --sklearn-color-border-box: var(--sg-text-color, var(--theme-code-foreground, var(--jp-content-font-color1, white)));\n",
       "    --sklearn-color-icon: #878787;\n",
       "  }\n",
       "}\n",
       "\n",
       "#sk-container-id-4 {\n",
       "  color: var(--sklearn-color-text);\n",
       "}\n",
       "\n",
       "#sk-container-id-4 pre {\n",
       "  padding: 0;\n",
       "}\n",
       "\n",
       "#sk-container-id-4 input.sk-hidden--visually {\n",
       "  border: 0;\n",
       "  clip: rect(1px 1px 1px 1px);\n",
       "  clip: rect(1px, 1px, 1px, 1px);\n",
       "  height: 1px;\n",
       "  margin: -1px;\n",
       "  overflow: hidden;\n",
       "  padding: 0;\n",
       "  position: absolute;\n",
       "  width: 1px;\n",
       "}\n",
       "\n",
       "#sk-container-id-4 div.sk-dashed-wrapped {\n",
       "  border: 1px dashed var(--sklearn-color-line);\n",
       "  margin: 0 0.4em 0.5em 0.4em;\n",
       "  box-sizing: border-box;\n",
       "  padding-bottom: 0.4em;\n",
       "  background-color: var(--sklearn-color-background);\n",
       "}\n",
       "\n",
       "#sk-container-id-4 div.sk-container {\n",
       "  /* jupyter's `normalize.less` sets `[hidden] { display: none; }`\n",
       "     but bootstrap.min.css set `[hidden] { display: none !important; }`\n",
       "     so we also need the `!important` here to be able to override the\n",
       "     default hidden behavior on the sphinx rendered scikit-learn.org.\n",
       "     See: https://github.com/scikit-learn/scikit-learn/issues/21755 */\n",
       "  display: inline-block !important;\n",
       "  position: relative;\n",
       "}\n",
       "\n",
       "#sk-container-id-4 div.sk-text-repr-fallback {\n",
       "  display: none;\n",
       "}\n",
       "\n",
       "div.sk-parallel-item,\n",
       "div.sk-serial,\n",
       "div.sk-item {\n",
       "  /* draw centered vertical line to link estimators */\n",
       "  background-image: linear-gradient(var(--sklearn-color-text-on-default-background), var(--sklearn-color-text-on-default-background));\n",
       "  background-size: 2px 100%;\n",
       "  background-repeat: no-repeat;\n",
       "  background-position: center center;\n",
       "}\n",
       "\n",
       "/* Parallel-specific style estimator block */\n",
       "\n",
       "#sk-container-id-4 div.sk-parallel-item::after {\n",
       "  content: \"\";\n",
       "  width: 100%;\n",
       "  border-bottom: 2px solid var(--sklearn-color-text-on-default-background);\n",
       "  flex-grow: 1;\n",
       "}\n",
       "\n",
       "#sk-container-id-4 div.sk-parallel {\n",
       "  display: flex;\n",
       "  align-items: stretch;\n",
       "  justify-content: center;\n",
       "  background-color: var(--sklearn-color-background);\n",
       "  position: relative;\n",
       "}\n",
       "\n",
       "#sk-container-id-4 div.sk-parallel-item {\n",
       "  display: flex;\n",
       "  flex-direction: column;\n",
       "}\n",
       "\n",
       "#sk-container-id-4 div.sk-parallel-item:first-child::after {\n",
       "  align-self: flex-end;\n",
       "  width: 50%;\n",
       "}\n",
       "\n",
       "#sk-container-id-4 div.sk-parallel-item:last-child::after {\n",
       "  align-self: flex-start;\n",
       "  width: 50%;\n",
       "}\n",
       "\n",
       "#sk-container-id-4 div.sk-parallel-item:only-child::after {\n",
       "  width: 0;\n",
       "}\n",
       "\n",
       "/* Serial-specific style estimator block */\n",
       "\n",
       "#sk-container-id-4 div.sk-serial {\n",
       "  display: flex;\n",
       "  flex-direction: column;\n",
       "  align-items: center;\n",
       "  background-color: var(--sklearn-color-background);\n",
       "  padding-right: 1em;\n",
       "  padding-left: 1em;\n",
       "}\n",
       "\n",
       "\n",
       "/* Toggleable style: style used for estimator/Pipeline/ColumnTransformer box that is\n",
       "clickable and can be expanded/collapsed.\n",
       "- Pipeline and ColumnTransformer use this feature and define the default style\n",
       "- Estimators will overwrite some part of the style using the `sk-estimator` class\n",
       "*/\n",
       "\n",
       "/* Pipeline and ColumnTransformer style (default) */\n",
       "\n",
       "#sk-container-id-4 div.sk-toggleable {\n",
       "  /* Default theme specific background. It is overwritten whether we have a\n",
       "  specific estimator or a Pipeline/ColumnTransformer */\n",
       "  background-color: var(--sklearn-color-background);\n",
       "}\n",
       "\n",
       "/* Toggleable label */\n",
       "#sk-container-id-4 label.sk-toggleable__label {\n",
       "  cursor: pointer;\n",
       "  display: block;\n",
       "  width: 100%;\n",
       "  margin-bottom: 0;\n",
       "  padding: 0.5em;\n",
       "  box-sizing: border-box;\n",
       "  text-align: center;\n",
       "}\n",
       "\n",
       "#sk-container-id-4 label.sk-toggleable__label-arrow:before {\n",
       "  /* Arrow on the left of the label */\n",
       "  content: \"▸\";\n",
       "  float: left;\n",
       "  margin-right: 0.25em;\n",
       "  color: var(--sklearn-color-icon);\n",
       "}\n",
       "\n",
       "#sk-container-id-4 label.sk-toggleable__label-arrow:hover:before {\n",
       "  color: var(--sklearn-color-text);\n",
       "}\n",
       "\n",
       "/* Toggleable content - dropdown */\n",
       "\n",
       "#sk-container-id-4 div.sk-toggleable__content {\n",
       "  max-height: 0;\n",
       "  max-width: 0;\n",
       "  overflow: hidden;\n",
       "  text-align: left;\n",
       "  /* unfitted */\n",
       "  background-color: var(--sklearn-color-unfitted-level-0);\n",
       "}\n",
       "\n",
       "#sk-container-id-4 div.sk-toggleable__content.fitted {\n",
       "  /* fitted */\n",
       "  background-color: var(--sklearn-color-fitted-level-0);\n",
       "}\n",
       "\n",
       "#sk-container-id-4 div.sk-toggleable__content pre {\n",
       "  margin: 0.2em;\n",
       "  border-radius: 0.25em;\n",
       "  color: var(--sklearn-color-text);\n",
       "  /* unfitted */\n",
       "  background-color: var(--sklearn-color-unfitted-level-0);\n",
       "}\n",
       "\n",
       "#sk-container-id-4 div.sk-toggleable__content.fitted pre {\n",
       "  /* unfitted */\n",
       "  background-color: var(--sklearn-color-fitted-level-0);\n",
       "}\n",
       "\n",
       "#sk-container-id-4 input.sk-toggleable__control:checked~div.sk-toggleable__content {\n",
       "  /* Expand drop-down */\n",
       "  max-height: 200px;\n",
       "  max-width: 100%;\n",
       "  overflow: auto;\n",
       "}\n",
       "\n",
       "#sk-container-id-4 input.sk-toggleable__control:checked~label.sk-toggleable__label-arrow:before {\n",
       "  content: \"▾\";\n",
       "}\n",
       "\n",
       "/* Pipeline/ColumnTransformer-specific style */\n",
       "\n",
       "#sk-container-id-4 div.sk-label input.sk-toggleable__control:checked~label.sk-toggleable__label {\n",
       "  color: var(--sklearn-color-text);\n",
       "  background-color: var(--sklearn-color-unfitted-level-2);\n",
       "}\n",
       "\n",
       "#sk-container-id-4 div.sk-label.fitted input.sk-toggleable__control:checked~label.sk-toggleable__label {\n",
       "  background-color: var(--sklearn-color-fitted-level-2);\n",
       "}\n",
       "\n",
       "/* Estimator-specific style */\n",
       "\n",
       "/* Colorize estimator box */\n",
       "#sk-container-id-4 div.sk-estimator input.sk-toggleable__control:checked~label.sk-toggleable__label {\n",
       "  /* unfitted */\n",
       "  background-color: var(--sklearn-color-unfitted-level-2);\n",
       "}\n",
       "\n",
       "#sk-container-id-4 div.sk-estimator.fitted input.sk-toggleable__control:checked~label.sk-toggleable__label {\n",
       "  /* fitted */\n",
       "  background-color: var(--sklearn-color-fitted-level-2);\n",
       "}\n",
       "\n",
       "#sk-container-id-4 div.sk-label label.sk-toggleable__label,\n",
       "#sk-container-id-4 div.sk-label label {\n",
       "  /* The background is the default theme color */\n",
       "  color: var(--sklearn-color-text-on-default-background);\n",
       "}\n",
       "\n",
       "/* On hover, darken the color of the background */\n",
       "#sk-container-id-4 div.sk-label:hover label.sk-toggleable__label {\n",
       "  color: var(--sklearn-color-text);\n",
       "  background-color: var(--sklearn-color-unfitted-level-2);\n",
       "}\n",
       "\n",
       "/* Label box, darken color on hover, fitted */\n",
       "#sk-container-id-4 div.sk-label.fitted:hover label.sk-toggleable__label.fitted {\n",
       "  color: var(--sklearn-color-text);\n",
       "  background-color: var(--sklearn-color-fitted-level-2);\n",
       "}\n",
       "\n",
       "/* Estimator label */\n",
       "\n",
       "#sk-container-id-4 div.sk-label label {\n",
       "  font-family: monospace;\n",
       "  font-weight: bold;\n",
       "  display: inline-block;\n",
       "  line-height: 1.2em;\n",
       "}\n",
       "\n",
       "#sk-container-id-4 div.sk-label-container {\n",
       "  text-align: center;\n",
       "}\n",
       "\n",
       "/* Estimator-specific */\n",
       "#sk-container-id-4 div.sk-estimator {\n",
       "  font-family: monospace;\n",
       "  border: 1px dotted var(--sklearn-color-border-box);\n",
       "  border-radius: 0.25em;\n",
       "  box-sizing: border-box;\n",
       "  margin-bottom: 0.5em;\n",
       "  /* unfitted */\n",
       "  background-color: var(--sklearn-color-unfitted-level-0);\n",
       "}\n",
       "\n",
       "#sk-container-id-4 div.sk-estimator.fitted {\n",
       "  /* fitted */\n",
       "  background-color: var(--sklearn-color-fitted-level-0);\n",
       "}\n",
       "\n",
       "/* on hover */\n",
       "#sk-container-id-4 div.sk-estimator:hover {\n",
       "  /* unfitted */\n",
       "  background-color: var(--sklearn-color-unfitted-level-2);\n",
       "}\n",
       "\n",
       "#sk-container-id-4 div.sk-estimator.fitted:hover {\n",
       "  /* fitted */\n",
       "  background-color: var(--sklearn-color-fitted-level-2);\n",
       "}\n",
       "\n",
       "/* Specification for estimator info (e.g. \"i\" and \"?\") */\n",
       "\n",
       "/* Common style for \"i\" and \"?\" */\n",
       "\n",
       ".sk-estimator-doc-link,\n",
       "a:link.sk-estimator-doc-link,\n",
       "a:visited.sk-estimator-doc-link {\n",
       "  float: right;\n",
       "  font-size: smaller;\n",
       "  line-height: 1em;\n",
       "  font-family: monospace;\n",
       "  background-color: var(--sklearn-color-background);\n",
       "  border-radius: 1em;\n",
       "  height: 1em;\n",
       "  width: 1em;\n",
       "  text-decoration: none !important;\n",
       "  margin-left: 1ex;\n",
       "  /* unfitted */\n",
       "  border: var(--sklearn-color-unfitted-level-1) 1pt solid;\n",
       "  color: var(--sklearn-color-unfitted-level-1);\n",
       "}\n",
       "\n",
       ".sk-estimator-doc-link.fitted,\n",
       "a:link.sk-estimator-doc-link.fitted,\n",
       "a:visited.sk-estimator-doc-link.fitted {\n",
       "  /* fitted */\n",
       "  border: var(--sklearn-color-fitted-level-1) 1pt solid;\n",
       "  color: var(--sklearn-color-fitted-level-1);\n",
       "}\n",
       "\n",
       "/* On hover */\n",
       "div.sk-estimator:hover .sk-estimator-doc-link:hover,\n",
       ".sk-estimator-doc-link:hover,\n",
       "div.sk-label-container:hover .sk-estimator-doc-link:hover,\n",
       ".sk-estimator-doc-link:hover {\n",
       "  /* unfitted */\n",
       "  background-color: var(--sklearn-color-unfitted-level-3);\n",
       "  color: var(--sklearn-color-background);\n",
       "  text-decoration: none;\n",
       "}\n",
       "\n",
       "div.sk-estimator.fitted:hover .sk-estimator-doc-link.fitted:hover,\n",
       ".sk-estimator-doc-link.fitted:hover,\n",
       "div.sk-label-container:hover .sk-estimator-doc-link.fitted:hover,\n",
       ".sk-estimator-doc-link.fitted:hover {\n",
       "  /* fitted */\n",
       "  background-color: var(--sklearn-color-fitted-level-3);\n",
       "  color: var(--sklearn-color-background);\n",
       "  text-decoration: none;\n",
       "}\n",
       "\n",
       "/* Span, style for the box shown on hovering the info icon */\n",
       ".sk-estimator-doc-link span {\n",
       "  display: none;\n",
       "  z-index: 9999;\n",
       "  position: relative;\n",
       "  font-weight: normal;\n",
       "  right: .2ex;\n",
       "  padding: .5ex;\n",
       "  margin: .5ex;\n",
       "  width: min-content;\n",
       "  min-width: 20ex;\n",
       "  max-width: 50ex;\n",
       "  color: var(--sklearn-color-text);\n",
       "  box-shadow: 2pt 2pt 4pt #999;\n",
       "  /* unfitted */\n",
       "  background: var(--sklearn-color-unfitted-level-0);\n",
       "  border: .5pt solid var(--sklearn-color-unfitted-level-3);\n",
       "}\n",
       "\n",
       ".sk-estimator-doc-link.fitted span {\n",
       "  /* fitted */\n",
       "  background: var(--sklearn-color-fitted-level-0);\n",
       "  border: var(--sklearn-color-fitted-level-3);\n",
       "}\n",
       "\n",
       ".sk-estimator-doc-link:hover span {\n",
       "  display: block;\n",
       "}\n",
       "\n",
       "/* \"?\"-specific style due to the `<a>` HTML tag */\n",
       "\n",
       "#sk-container-id-4 a.estimator_doc_link {\n",
       "  float: right;\n",
       "  font-size: 1rem;\n",
       "  line-height: 1em;\n",
       "  font-family: monospace;\n",
       "  background-color: var(--sklearn-color-background);\n",
       "  border-radius: 1rem;\n",
       "  height: 1rem;\n",
       "  width: 1rem;\n",
       "  text-decoration: none;\n",
       "  /* unfitted */\n",
       "  color: var(--sklearn-color-unfitted-level-1);\n",
       "  border: var(--sklearn-color-unfitted-level-1) 1pt solid;\n",
       "}\n",
       "\n",
       "#sk-container-id-4 a.estimator_doc_link.fitted {\n",
       "  /* fitted */\n",
       "  border: var(--sklearn-color-fitted-level-1) 1pt solid;\n",
       "  color: var(--sklearn-color-fitted-level-1);\n",
       "}\n",
       "\n",
       "/* On hover */\n",
       "#sk-container-id-4 a.estimator_doc_link:hover {\n",
       "  /* unfitted */\n",
       "  background-color: var(--sklearn-color-unfitted-level-3);\n",
       "  color: var(--sklearn-color-background);\n",
       "  text-decoration: none;\n",
       "}\n",
       "\n",
       "#sk-container-id-4 a.estimator_doc_link.fitted:hover {\n",
       "  /* fitted */\n",
       "  background-color: var(--sklearn-color-fitted-level-3);\n",
       "}\n",
       "</style><div id=\"sk-container-id-4\" class=\"sk-top-container\"><div class=\"sk-text-repr-fallback\"><pre>GridSearchCV(cv=5, estimator=LogisticRegression(), n_jobs=-2,\n",
       "             param_grid={&#x27;C&#x27;: [1, 10, 20], &#x27;l1_ratio&#x27;: [0, 0.5, 1],\n",
       "                         &#x27;max_iter&#x27;: [300, 500],\n",
       "                         &#x27;penalty&#x27;: [&#x27;l2&#x27;, &#x27;elasticnet&#x27;],\n",
       "                         &#x27;solver&#x27;: [&#x27;newton-cg&#x27;, &#x27;lbfgs&#x27;, &#x27;liblinear&#x27;, &#x27;saga&#x27;]},\n",
       "             scoring=&#x27;accuracy&#x27;, verbose=5)</pre><b>In a Jupyter environment, please rerun this cell to show the HTML representation or trust the notebook. <br />On GitHub, the HTML representation is unable to render, please try loading this page with nbviewer.org.</b></div><div class=\"sk-container\" hidden><div class=\"sk-item sk-dashed-wrapped\"><div class=\"sk-label-container\"><div class=\"sk-label fitted sk-toggleable\"><input class=\"sk-toggleable__control sk-hidden--visually\" id=\"sk-estimator-id-6\" type=\"checkbox\" ><label for=\"sk-estimator-id-6\" class=\"sk-toggleable__label fitted sk-toggleable__label-arrow fitted\">&nbsp;&nbsp;GridSearchCV<a class=\"sk-estimator-doc-link fitted\" rel=\"noreferrer\" target=\"_blank\" href=\"https://scikit-learn.org/1.5/modules/generated/sklearn.model_selection.GridSearchCV.html\">?<span>Documentation for GridSearchCV</span></a><span class=\"sk-estimator-doc-link fitted\">i<span>Fitted</span></span></label><div class=\"sk-toggleable__content fitted\"><pre>GridSearchCV(cv=5, estimator=LogisticRegression(), n_jobs=-2,\n",
       "             param_grid={&#x27;C&#x27;: [1, 10, 20], &#x27;l1_ratio&#x27;: [0, 0.5, 1],\n",
       "                         &#x27;max_iter&#x27;: [300, 500],\n",
       "                         &#x27;penalty&#x27;: [&#x27;l2&#x27;, &#x27;elasticnet&#x27;],\n",
       "                         &#x27;solver&#x27;: [&#x27;newton-cg&#x27;, &#x27;lbfgs&#x27;, &#x27;liblinear&#x27;, &#x27;saga&#x27;]},\n",
       "             scoring=&#x27;accuracy&#x27;, verbose=5)</pre></div> </div></div><div class=\"sk-parallel\"><div class=\"sk-parallel-item\"><div class=\"sk-item\"><div class=\"sk-label-container\"><div class=\"sk-label fitted sk-toggleable\"><input class=\"sk-toggleable__control sk-hidden--visually\" id=\"sk-estimator-id-7\" type=\"checkbox\" ><label for=\"sk-estimator-id-7\" class=\"sk-toggleable__label fitted sk-toggleable__label-arrow fitted\">best_estimator_: LogisticRegression</label><div class=\"sk-toggleable__content fitted\"><pre>LogisticRegression(C=20, l1_ratio=0.5, max_iter=500, penalty=&#x27;elasticnet&#x27;,\n",
       "                   solver=&#x27;saga&#x27;)</pre></div> </div></div><div class=\"sk-serial\"><div class=\"sk-item\"><div class=\"sk-estimator fitted sk-toggleable\"><input class=\"sk-toggleable__control sk-hidden--visually\" id=\"sk-estimator-id-8\" type=\"checkbox\" ><label for=\"sk-estimator-id-8\" class=\"sk-toggleable__label fitted sk-toggleable__label-arrow fitted\">&nbsp;LogisticRegression<a class=\"sk-estimator-doc-link fitted\" rel=\"noreferrer\" target=\"_blank\" href=\"https://scikit-learn.org/1.5/modules/generated/sklearn.linear_model.LogisticRegression.html\">?<span>Documentation for LogisticRegression</span></a></label><div class=\"sk-toggleable__content fitted\"><pre>LogisticRegression(C=20, l1_ratio=0.5, max_iter=500, penalty=&#x27;elasticnet&#x27;,\n",
       "                   solver=&#x27;saga&#x27;)</pre></div> </div></div></div></div></div></div></div></div></div>"
      ],
      "text/plain": [
       "GridSearchCV(cv=5, estimator=LogisticRegression(), n_jobs=-2,\n",
       "             param_grid={'C': [1, 10, 20], 'l1_ratio': [0, 0.5, 1],\n",
       "                         'max_iter': [300, 500],\n",
       "                         'penalty': ['l2', 'elasticnet'],\n",
       "                         'solver': ['newton-cg', 'lbfgs', 'liblinear', 'saga']},\n",
       "             scoring='accuracy', verbose=5)"
      ]
     },
     "execution_count": 66,
     "metadata": {},
     "output_type": "execute_result"
    }
   ],
   "source": [
    "grid_search.fit(X_train, y_train)"
   ]
  },
  {
   "cell_type": "code",
   "execution_count": 67,
   "id": "4ada50eb-6e51-4c9a-952d-79d77173e087",
   "metadata": {},
   "outputs": [
    {
     "name": "stdout",
     "output_type": "stream",
     "text": [
      "Best Parameters: {'C': 20, 'l1_ratio': 0.5, 'max_iter': 500, 'penalty': 'elasticnet', 'solver': 'saga'}\n",
      "Best Cross-Validation Score: 0.8833510401010383\n"
     ]
    }
   ],
   "source": [
    "print(\"Best Parameters:\", grid_search.best_params_)\n",
    "print(\"Best Cross-Validation Score:\", grid_search.best_score_)"
   ]
  },
  {
   "cell_type": "code",
   "execution_count": 68,
   "id": "9e05b73f-659b-4c09-9533-6841be4a0d4a",
   "metadata": {},
   "outputs": [],
   "source": [
    "logreg_best = LogisticRegression(penalty = 'elasticnet', l1_ratio = 0,  C = 20, max_iter =  300, solver = 'saga')"
   ]
  },
  {
   "cell_type": "markdown",
   "id": "1d61e190-1206-4300-8abc-60d482af61f7",
   "metadata": {},
   "source": [
    "## Heatmap for Hyperparameter Grid Search Results"
   ]
  },
  {
   "cell_type": "code",
   "execution_count": 69,
   "id": "b2186d0a-82c6-4ef0-a43c-b7ab8b27f5b0",
   "metadata": {},
   "outputs": [
    {
     "data": {
      "image/png": "[encoded data removed]",
      "text/plain": [
       "<Figure size 800x600 with 2 Axes>"
      ]
     },
     "metadata": {},
     "output_type": "display_data"
    }
   ],
   "source": [
    "import matplotlib.pyplot as plt\n",
    "import seaborn as sns\n",
    "import numpy as np\n",
    "import pandas as pd\n",
    "\n",
    "# Assuming grid_search.cv_results_ is available after running GridSearchCV\n",
    "results = pd.DataFrame(grid_search.cv_results_)\n",
    "grouped_results = results.groupby([\"param_C\", \"param_penalty\"])[\"mean_test_score\"].mean().reset_index()\n",
    "\n",
    "# Pivot to create the scores matrix\n",
    "scores_matrix = grouped_results.pivot(index=\"param_C\", columns=\"param_penalty\", values=\"mean_test_score\")\n",
    "\n",
    "# Plot heatmap\n",
    "plt.figure(figsize=(8, 6))\n",
    "sns.heatmap(scores_matrix, annot=True, fmt=\".5f\", cmap=\"viridis\")\n",
    "plt.title(\"Heatmap of Cross-Validation Accuracy\")\n",
    "plt.xlabel(\"Penalty\")\n",
    "plt.ylabel(\"C\")\n",
    "plt.show()\n"
   ]
  },
  {
   "cell_type": "markdown",
   "id": "78a2934c-e591-4167-a429-eef228860d32",
   "metadata": {},
   "source": [
    "## Validation Curve (for a Single Hyperparameter)"
   ]
  },
  {
   "cell_type": "code",
   "execution_count": 70,
   "id": "f9b41883-84d0-4184-8c63-9e0a818d35bd",
   "metadata": {
    "scrolled": true
   },
   "outputs": [
    {
     "data": {
      "image/png": "[encoded data removed]",
      "text/plain": [
       "<Figure size 800x600 with 1 Axes>"
      ]
     },
     "metadata": {},
     "output_type": "display_data"
    }
   ],
   "source": [
    "from sklearn.model_selection import validation_curve\n",
    "\n",
    "param_range = [0.001, 0.01, 0.1, 1, 10, 100]\n",
    "train_scores, val_scores = validation_curve(\n",
    "    LogisticRegression(),\n",
    "    X_train, y_train,\n",
    "    param_name=\"C\",\n",
    "    param_range=param_range,\n",
    "    cv=5,\n",
    "    scoring=\"accuracy\"\n",
    ")\n",
    "\n",
    "# Plotting\n",
    "plt.figure(figsize=(8, 6))\n",
    "plt.plot(param_range, np.mean(train_scores, axis=1), label=\"Training score\", color=\"blue\")\n",
    "plt.plot(param_range, np.mean(val_scores, axis=1), label=\"Validation score\", color=\"red\")\n",
    "plt.xlabel(\"C (Inverse of Regularization Strength)\")\n",
    "plt.ylabel(\"Accuracy\")\n",
    "plt.title(\"Validation Curve for Logistic Regression\")\n",
    "plt.xscale(\"log\")  # Log scale for C\n",
    "plt.legend()\n",
    "plt.show()"
   ]
  },
  {
   "cell_type": "markdown",
   "id": "7863ae40-5fa8-4f64-976e-610d3a1e2e3a",
   "metadata": {},
   "source": [
    "## Learning Curves (Training vs. Cross-Validation Performance)"
   ]
  },
  {
   "cell_type": "code",
   "execution_count": 71,
   "id": "ae75421a-0c4d-45b0-b18f-580e1076205e",
   "metadata": {},
   "outputs": [
    {
     "data": {
      "image/png": "[encoded data removed]",
      "text/plain": [
       "<Figure size 1000x600 with 1 Axes>"
      ]
     },
     "metadata": {},
     "output_type": "display_data"
    }
   ],
   "source": [
    "from sklearn.model_selection import learning_curve\n",
    "\n",
    "train_sizes, train_scores, val_scores = learning_curve(\n",
    "    logreg_best, X_train, y_train, cv=5, scoring=\"accuracy\", train_sizes=np.linspace(0.1, 1.0, 5)\n",
    ")\n",
    "\n",
    "# Mean and standard deviation for plotting\n",
    "train_mean = np.mean(train_scores, axis=1)\n",
    "train_std = np.std(train_scores, axis=1)\n",
    "val_mean = np.mean(val_scores, axis=1)\n",
    "val_std = np.std(val_scores, axis=1)\n",
    "\n",
    "plt.figure(figsize=(10, 6))\n",
    "plt.plot(train_sizes, train_mean, label=\"Training score\", color=\"blue\")\n",
    "plt.fill_between(train_sizes, train_mean - train_std, train_mean + train_std, color=\"blue\", alpha=0.2)\n",
    "plt.plot(train_sizes, val_mean, label=\"Cross-validation score\", color=\"red\")\n",
    "plt.fill_between(train_sizes, val_mean - val_std, val_mean + val_std, color=\"red\", alpha=0.2)\n",
    "plt.xlabel(\"Training Set Size\")\n",
    "plt.ylabel(\"Accuracy Score\")\n",
    "plt.title(\"Learning Curve for Logistic Regression\")\n",
    "plt.legend()\n",
    "plt.show()"
   ]
  },
  {
   "cell_type": "markdown",
   "id": "fd322696-3ebd-4e8c-9133-3192d807daf1",
   "metadata": {},
   "source": [
    "### Model validation via cross-validation"
   ]
  },
  {
   "cell_type": "code",
   "execution_count": 72,
   "id": "f9ae5c67-9747-47ce-aba1-99c4256378ed",
   "metadata": {},
   "outputs": [
    {
     "data": {
      "text/plain": [
       "0.9028441873646577"
      ]
     },
     "execution_count": 72,
     "metadata": {},
     "output_type": "execute_result"
    }
   ],
   "source": [
    "from sklearn.model_selection import train_test_split\n",
    "# split the data with 50% in each set\n",
    "X1, X2, y1, y2 = train_test_split(X, y, random_state=0,\n",
    "                                  train_size=0.5)\n",
    "\n",
    "sm = SMOTE(random_state = 42) \n",
    "X1, y1 = sm.fit_resample(X1, y1.ravel())\n",
    "X2, y2 = sm.fit_resample(X2, y2.ravel())\n",
    "\n",
    "# fit the model on one set of data\n",
    "logreg.fit(X1, y1)\n",
    "\n",
    "# evaluate the model on the second set of data\n",
    "y2_model = logreg.predict(X2)\n",
    "accuracy_score(y2, y2_model)"
   ]
  },
  {
   "cell_type": "code",
   "execution_count": 73,
   "id": "3175d360-55ea-46b8-b58d-bba08ee558c2",
   "metadata": {},
   "outputs": [
    {
     "data": {
      "text/plain": [
       "(0.8810015262737118, 0.9028441873646577)"
      ]
     },
     "execution_count": 73,
     "metadata": {},
     "output_type": "execute_result"
    }
   ],
   "source": [
    "y2_model = logreg.fit(X1, y1).predict(X2)\n",
    "y1_model = logreg.fit(X2, y2).predict(X1)\n",
    "accuracy_score(y1, y1_model), accuracy_score(y2, y2_model)"
   ]
  },
  {
   "cell_type": "code",
   "execution_count": 74,
   "id": "71908ee7-96bc-4ffe-ba62-ee6a18a716d2",
   "metadata": {},
   "outputs": [
    {
     "data": {
      "text/plain": [
       "array([0.99771607, 0.99771607, 0.99771598, 0.99771598, 0.98223543])"
      ]
     },
     "execution_count": 74,
     "metadata": {},
     "output_type": "execute_result"
    }
   ],
   "source": [
    "from sklearn.model_selection import cross_val_score\n",
    "cross_val_score(logreg, X, y, cv=5)"
   ]
  },
  {
   "cell_type": "code",
   "execution_count": 75,
   "id": "bb8b7112-745e-4422-b122-615a3d4265f2",
   "metadata": {},
   "outputs": [
    {
     "name": "stdout",
     "output_type": "stream",
     "text": [
      "Cross-validation scores with SMOTE: [0.9986949  0.99934745 0.97512961 0.79665011 0.64093826]\n",
      "Mean accuracy: 0.8821520643704934\n"
     ]
    }
   ],
   "source": [
    "from imblearn.pipeline import Pipeline  # Use imblearn's Pipeline\n",
    "from imblearn.over_sampling import SMOTE\n",
    "pipeline = Pipeline([\n",
    "    ('smote', SMOTE()),                  # Step 1: Apply SMOTE\n",
    "    ('logreg', LogisticRegression())     # Step 2: Logistic Regression model\n",
    "])\n",
    "\n",
    "# Perform cross-validation with SMOTE applied to each training fold\n",
    "scores = cross_val_score(pipeline, X, y, cv=5)\n",
    "print(\"Cross-validation scores with SMOTE:\", scores)\n",
    "print(\"Mean accuracy:\", scores.mean())"
   ]
  },
  {
   "cell_type": "code",
   "execution_count": 76,
   "id": "f9f14608-5c74-4d73-acbc-d708c80cbf4b",
   "metadata": {},
   "outputs": [
    {
     "name": "stdout",
     "output_type": "stream",
     "text": [
      "Cross-validation scores with SMOTE: [0.92274062 0.9151005  0.92136518 0.91653615 0.9151005  0.91562255\n",
      " 0.91784129 0.91575307 0.9155573 ]\n",
      "Mean accuracy: 0.9172907948271418\n"
     ]
    }
   ],
   "source": [
    "from sklearn.model_selection import StratifiedKFold\n",
    "skf = StratifiedKFold(n_splits=9, shuffle=True, random_state=42)\n",
    "scores = cross_val_score(pipeline, X, y, cv=skf)\n",
    "scores\n",
    "\n",
    "print(\"Cross-validation scores with SMOTE:\", scores)\n",
    "print(\"Mean accuracy:\", scores.mean())"
   ]
  },
  {
   "cell_type": "markdown",
   "id": "c2df001e-ceb3-4f12-b281-b57abfb1e960",
   "metadata": {},
   "source": [
    "## Cross Validation without KFold"
   ]
  },
  {
   "cell_type": "code",
   "execution_count": 77,
   "id": "187682bc-d149-4818-a993-4ad182173853",
   "metadata": {},
   "outputs": [
    {
     "name": "stdout",
     "output_type": "stream",
     "text": [
      "Cross-validation scores with SMOTE: [0.91139791 0.91679959 0.91806548 0.91871805 0.92219846]\n",
      "Mean accuracy: 0.9174358974911663\n"
     ]
    }
   ],
   "source": [
    "from sklearn.model_selection import KFold\n",
    "\n",
    "kf = KFold(n_splits=5, shuffle=True, random_state=42)  \n",
    "scores = cross_val_score(pipeline, X, y, cv=kf)\n",
    "\n",
    "print(\"Cross-validation scores with SMOTE:\", scores)\n",
    "print(\"Mean accuracy:\", scores.mean())"
   ]
  },
  {
   "cell_type": "code",
   "execution_count": 78,
   "id": "b401b6ab-490f-4033-a28a-f8739791468e",
   "metadata": {},
   "outputs": [
    {
     "name": "stdout",
     "output_type": "stream",
     "text": [
      "Execution time: 31.93 seconds\n"
     ]
    }
   ],
   "source": [
    "end_time = time.time()\n",
    "execution_time = end_time - start_time\n",
    "print(f\"Execution time: {execution_time:.2f} seconds\")\n",
    "#n_jobs = 1: Execution time: 62.38 seconds\n",
    "#n_jobs = -2: Execution time: 31.93 seconds"
   ]
  }
 ],
 "metadata": {
  "kernelspec": {
   "display_name": "Python 3 (ipykernel)",
   "language": "python",
   "name": "python3"
  },
  "language_info": {
   "codemirror_mode": {
    "name": "ipython",
    "version": 3
   },
   "file_extension": ".py",
   "mimetype": "text/x-python",
   "name": "python",
   "nbconvert_exporter": "python",
   "pygments_lexer": "ipython3",
   "version": "3.12.4"
  }
 },
 "nbformat": 4,
 "nbformat_minor": 5
}
