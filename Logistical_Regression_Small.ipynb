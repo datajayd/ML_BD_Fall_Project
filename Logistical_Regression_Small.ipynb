{
 "cells": [
  {
   "cell_type": "code",
   "execution_count": 2,
   "id": "c34b3747-d8ee-4ec7-a4ed-7e43f4127f3f",
   "metadata": {},
   "outputs": [],
   "source": [
    "import pandas as pd\n",
    "import numpy as np\n",
    "import glob\n",
    "import os\n",
    "import time\n",
    "import seaborn as sns\n",
    "import matplotlib.pyplot as plt\n",
    "from sklearn import preprocessing\n",
    "from sklearn import metrics \n",
    "from sklearn.metrics import classification_report, mean_squared_error, precision_score, recall_score, accuracy_score, f1_score, r2_score\n",
    "from sklearn.model_selection import cross_val_score, GridSearchCV, validation_curve, learning_curve, KFold, StratifiedKFold"
   ]
  },
  {
   "cell_type": "code",
   "execution_count": 3,
   "id": "0546b5f1-3891-48f0-9d5b-5105cac14f25",
   "metadata": {},
   "outputs": [],
   "source": [
    "import imblearn\n",
    "from imblearn.over_sampling import SMOTE "
   ]
  },
  {
   "cell_type": "code",
   "execution_count": 4,
   "id": "cadf8a17-ae55-4743-ad41-76b0ea3de733",
   "metadata": {},
   "outputs": [],
   "source": [
    "start_time = time.time() "
   ]
  },
  {
   "cell_type": "code",
   "execution_count": 5,
   "id": "053b7cc4-fb32-448e-b3f5-f4978eafc763",
   "metadata": {},
   "outputs": [
    {
     "data": {
      "text/html": [
       "<div>\n",
       "<style scoped>\n",
       "    .dataframe tbody tr th:only-of-type {\n",
       "        vertical-align: middle;\n",
       "    }\n",
       "\n",
       "    .dataframe tbody tr th {\n",
       "        vertical-align: top;\n",
       "    }\n",
       "\n",
       "    .dataframe thead th {\n",
       "        text-align: right;\n",
       "    }\n",
       "</style>\n",
       "<table border=\"1\" class=\"dataframe\">\n",
       "  <thead>\n",
       "    <tr style=\"text-align: right;\">\n",
       "      <th></th>\n",
       "      <th>pha</th>\n",
       "      <th>H</th>\n",
       "      <th>e</th>\n",
       "      <th>q</th>\n",
       "      <th>n</th>\n",
       "      <th>moid</th>\n",
       "      <th>spkid</th>\n",
       "      <th>full_name</th>\n",
       "    </tr>\n",
       "  </thead>\n",
       "  <tbody>\n",
       "    <tr>\n",
       "      <th>0</th>\n",
       "      <td>0</td>\n",
       "      <td>-7.411043</td>\n",
       "      <td>-0.608738</td>\n",
       "      <td>0.289176</td>\n",
       "      <td>-0.009788</td>\n",
       "      <td>0.306452</td>\n",
       "      <td>20000001</td>\n",
       "      <td>1 Ceres (A801 AA)</td>\n",
       "    </tr>\n",
       "    <tr>\n",
       "      <th>1</th>\n",
       "      <td>0</td>\n",
       "      <td>-6.932515</td>\n",
       "      <td>0.859223</td>\n",
       "      <td>-0.382876</td>\n",
       "      <td>-0.017945</td>\n",
       "      <td>-0.258065</td>\n",
       "      <td>20000002</td>\n",
       "      <td>2 Pallas (A802 FA)</td>\n",
       "    </tr>\n",
       "    <tr>\n",
       "      <th>2</th>\n",
       "      <td>0</td>\n",
       "      <td>-6.282209</td>\n",
       "      <td>1.108738</td>\n",
       "      <td>-0.618740</td>\n",
       "      <td>0.181077</td>\n",
       "      <td>-0.564516</td>\n",
       "      <td>20000003</td>\n",
       "      <td>3 Juno (A804 RA)</td>\n",
       "    </tr>\n",
       "    <tr>\n",
       "      <th>3</th>\n",
       "      <td>0</td>\n",
       "      <td>-7.466258</td>\n",
       "      <td>-0.503883</td>\n",
       "      <td>-0.357027</td>\n",
       "      <td>0.928222</td>\n",
       "      <td>-0.403226</td>\n",
       "      <td>20000004</td>\n",
       "      <td>4 Vesta (A807 FA)</td>\n",
       "    </tr>\n",
       "    <tr>\n",
       "      <th>4</th>\n",
       "      <td>0</td>\n",
       "      <td>-5.171779</td>\n",
       "      <td>0.440777</td>\n",
       "      <td>-0.444265</td>\n",
       "      <td>0.384992</td>\n",
       "      <td>-0.451613</td>\n",
       "      <td>20000005</td>\n",
       "      <td>5 Astraea (A845 XA)</td>\n",
       "    </tr>\n",
       "    <tr>\n",
       "      <th>...</th>\n",
       "      <td>...</td>\n",
       "      <td>...</td>\n",
       "      <td>...</td>\n",
       "      <td>...</td>\n",
       "      <td>...</td>\n",
       "      <td>...</td>\n",
       "      <td>...</td>\n",
       "      <td>...</td>\n",
       "    </tr>\n",
       "    <tr>\n",
       "      <th>137912</th>\n",
       "      <td>0</td>\n",
       "      <td>-3.141104</td>\n",
       "      <td>8.195146</td>\n",
       "      <td>6.101777</td>\n",
       "      <td>-3.502333</td>\n",
       "      <td>6.048387</td>\n",
       "      <td>3547316</td>\n",
       "      <td>(2010 BK118)</td>\n",
       "    </tr>\n",
       "    <tr>\n",
       "      <th>137913</th>\n",
       "      <td>0</td>\n",
       "      <td>-0.319018</td>\n",
       "      <td>7.751456</td>\n",
       "      <td>2.129241</td>\n",
       "      <td>-3.470979</td>\n",
       "      <td>2.258065</td>\n",
       "      <td>3516402</td>\n",
       "      <td>(2010 GW64)</td>\n",
       "    </tr>\n",
       "    <tr>\n",
       "      <th>137914</th>\n",
       "      <td>0</td>\n",
       "      <td>-1.306748</td>\n",
       "      <td>8.038835</td>\n",
       "      <td>4.859451</td>\n",
       "      <td>-3.497338</td>\n",
       "      <td>5.290323</td>\n",
       "      <td>3517549</td>\n",
       "      <td>(2010 GW147)</td>\n",
       "    </tr>\n",
       "    <tr>\n",
       "      <th>137915</th>\n",
       "      <td>0</td>\n",
       "      <td>-0.503067</td>\n",
       "      <td>7.960194</td>\n",
       "      <td>0.447496</td>\n",
       "      <td>-3.476215</td>\n",
       "      <td>0.903226</td>\n",
       "      <td>3523334</td>\n",
       "      <td>(2010 JH124)</td>\n",
       "    </tr>\n",
       "    <tr>\n",
       "      <th>137916</th>\n",
       "      <td>0</td>\n",
       "      <td>-4.368098</td>\n",
       "      <td>4.932039</td>\n",
       "      <td>26.491115</td>\n",
       "      <td>-3.463100</td>\n",
       "      <td>27.274194</td>\n",
       "      <td>3554395</td>\n",
       "      <td>(2010 WG9)</td>\n",
       "    </tr>\n",
       "  </tbody>\n",
       "</table>\n",
       "<p>137917 rows × 8 columns</p>\n",
       "</div>"
      ],
      "text/plain": [
       "        pha         H         e          q         n       moid     spkid  \\\n",
       "0         0 -7.411043 -0.608738   0.289176 -0.009788   0.306452  20000001   \n",
       "1         0 -6.932515  0.859223  -0.382876 -0.017945  -0.258065  20000002   \n",
       "2         0 -6.282209  1.108738  -0.618740  0.181077  -0.564516  20000003   \n",
       "3         0 -7.466258 -0.503883  -0.357027  0.928222  -0.403226  20000004   \n",
       "4         0 -5.171779  0.440777  -0.444265  0.384992  -0.451613  20000005   \n",
       "...     ...       ...       ...        ...       ...        ...       ...   \n",
       "137912    0 -3.141104  8.195146   6.101777 -3.502333   6.048387   3547316   \n",
       "137913    0 -0.319018  7.751456   2.129241 -3.470979   2.258065   3516402   \n",
       "137914    0 -1.306748  8.038835   4.859451 -3.497338   5.290323   3517549   \n",
       "137915    0 -0.503067  7.960194   0.447496 -3.476215   0.903226   3523334   \n",
       "137916    0 -4.368098  4.932039  26.491115 -3.463100  27.274194   3554395   \n",
       "\n",
       "                       full_name  \n",
       "0              1 Ceres (A801 AA)  \n",
       "1             2 Pallas (A802 FA)  \n",
       "2               3 Juno (A804 RA)  \n",
       "3              4 Vesta (A807 FA)  \n",
       "4            5 Astraea (A845 XA)  \n",
       "...                          ...  \n",
       "137912              (2010 BK118)  \n",
       "137913               (2010 GW64)  \n",
       "137914              (2010 GW147)  \n",
       "137915              (2010 JH124)  \n",
       "137916                (2010 WG9)  \n",
       "\n",
       "[137917 rows x 8 columns]"
      ]
     },
     "execution_count": 5,
     "metadata": {},
     "output_type": "execute_result"
    }
   ],
   "source": [
    "asteroid_df = pd.read_csv(\"data/asteroid_normalized_small_df.csv\")\n",
    "asteroid_df.drop(columns = ['diameter', 'albedo', 'a', 'i', 'neo'], inplace = True)\n",
    "asteroid_df"
   ]
  },
  {
   "cell_type": "code",
   "execution_count": 6,
   "id": "08734f37-fe83-4af9-b211-e489e5c28758",
   "metadata": {},
   "outputs": [
    {
     "name": "stdout",
     "output_type": "stream",
     "text": [
      "pha            int64\n",
      "H            float64\n",
      "e            float64\n",
      "q            float64\n",
      "n            float64\n",
      "moid         float64\n",
      "spkid          int64\n",
      "full_name     object\n",
      "dtype: object\n"
     ]
    }
   ],
   "source": [
    "print(asteroid_df.dtypes)"
   ]
  },
  {
   "cell_type": "markdown",
   "id": "6fbec726-05bb-453f-86c4-42cca3b3a822",
   "metadata": {},
   "source": [
    "## Split data"
   ]
  },
  {
   "cell_type": "code",
   "execution_count": 7,
   "id": "e78b1c18-d0f7-40b6-8e0e-c9baba7d14c3",
   "metadata": {},
   "outputs": [],
   "source": [
    "exclude_col = ['pha', 'spkid', 'full_name']\n",
    "X = asteroid_df.drop(columns = exclude_col)\n",
    "y = asteroid_df.iloc[:, 0]"
   ]
  },
  {
   "cell_type": "code",
   "execution_count": 8,
   "id": "ee7c9feb-afd4-4e89-b87d-f8bfeedebcb0",
   "metadata": {},
   "outputs": [],
   "source": [
    "from sklearn.model_selection import train_test_split\n",
    "X_train, X_test, y_train, y_test = train_test_split(X,y,test_size = 0.2, random_state = 42)"
   ]
  },
  {
   "cell_type": "code",
   "execution_count": 9,
   "id": "0e5c4326-47f1-4dcd-abf1-05a915b55743",
   "metadata": {},
   "outputs": [
    {
     "data": {
      "text/plain": [
       "((110333, 5), (110333,))"
      ]
     },
     "execution_count": 9,
     "metadata": {},
     "output_type": "execute_result"
    }
   ],
   "source": [
    "X_train.shape, y_train.shape"
   ]
  },
  {
   "cell_type": "code",
   "execution_count": 10,
   "id": "8f321625-c03d-4fa5-a027-2385ea7b07e4",
   "metadata": {},
   "outputs": [
    {
     "data": {
      "text/plain": [
       "((27584, 5), (27584,))"
      ]
     },
     "execution_count": 10,
     "metadata": {},
     "output_type": "execute_result"
    }
   ],
   "source": [
    "X_test.shape, y_test.shape"
   ]
  },
  {
   "cell_type": "code",
   "execution_count": 11,
   "id": "1338e3b5-0e14-49e3-ab7e-8ba029f898dd",
   "metadata": {},
   "outputs": [
    {
     "data": {
      "text/html": [
       "<div>\n",
       "<style scoped>\n",
       "    .dataframe tbody tr th:only-of-type {\n",
       "        vertical-align: middle;\n",
       "    }\n",
       "\n",
       "    .dataframe tbody tr th {\n",
       "        vertical-align: top;\n",
       "    }\n",
       "\n",
       "    .dataframe thead th {\n",
       "        text-align: right;\n",
       "    }\n",
       "</style>\n",
       "<table border=\"1\" class=\"dataframe\">\n",
       "  <thead>\n",
       "    <tr style=\"text-align: right;\">\n",
       "      <th></th>\n",
       "      <th>H</th>\n",
       "      <th>e</th>\n",
       "      <th>q</th>\n",
       "      <th>n</th>\n",
       "      <th>moid</th>\n",
       "    </tr>\n",
       "  </thead>\n",
       "  <tbody>\n",
       "    <tr>\n",
       "      <th>count</th>\n",
       "      <td>110333.000000</td>\n",
       "      <td>110333.000000</td>\n",
       "      <td>110333.000000</td>\n",
       "      <td>110333.000000</td>\n",
       "      <td>110333.000000</td>\n",
       "    </tr>\n",
       "    <tr>\n",
       "      <th>mean</th>\n",
       "      <td>-0.050451</td>\n",
       "      <td>0.073256</td>\n",
       "      <td>0.056583</td>\n",
       "      <td>0.056455</td>\n",
       "      <td>0.053393</td>\n",
       "    </tr>\n",
       "    <tr>\n",
       "      <th>std</th>\n",
       "      <td>0.872397</td>\n",
       "      <td>0.790674</td>\n",
       "      <td>0.836323</td>\n",
       "      <td>0.972270</td>\n",
       "      <td>0.825449</td>\n",
       "    </tr>\n",
       "    <tr>\n",
       "      <th>min</th>\n",
       "      <td>-7.466258</td>\n",
       "      <td>-1.374757</td>\n",
       "      <td>-3.696284</td>\n",
       "      <td>-3.502333</td>\n",
       "      <td>-2.241661</td>\n",
       "    </tr>\n",
       "    <tr>\n",
       "      <th>25%</th>\n",
       "      <td>-0.503067</td>\n",
       "      <td>-0.484466</td>\n",
       "      <td>-0.479806</td>\n",
       "      <td>-0.557912</td>\n",
       "      <td>-0.483871</td>\n",
       "    </tr>\n",
       "    <tr>\n",
       "      <th>50%</th>\n",
       "      <td>0.000000</td>\n",
       "      <td>0.000971</td>\n",
       "      <td>0.004847</td>\n",
       "      <td>-0.003263</td>\n",
       "      <td>0.000000</td>\n",
       "    </tr>\n",
       "    <tr>\n",
       "      <th>75%</th>\n",
       "      <td>0.490798</td>\n",
       "      <td>0.516505</td>\n",
       "      <td>0.516963</td>\n",
       "      <td>0.440457</td>\n",
       "      <td>0.500000</td>\n",
       "    </tr>\n",
       "    <tr>\n",
       "      <th>max</th>\n",
       "      <td>7.411043</td>\n",
       "      <td>8.195146</td>\n",
       "      <td>48.597738</td>\n",
       "      <td>28.942904</td>\n",
       "      <td>48.403226</td>\n",
       "    </tr>\n",
       "  </tbody>\n",
       "</table>\n",
       "</div>"
      ],
      "text/plain": [
       "                   H              e              q              n  \\\n",
       "count  110333.000000  110333.000000  110333.000000  110333.000000   \n",
       "mean       -0.050451       0.073256       0.056583       0.056455   \n",
       "std         0.872397       0.790674       0.836323       0.972270   \n",
       "min        -7.466258      -1.374757      -3.696284      -3.502333   \n",
       "25%        -0.503067      -0.484466      -0.479806      -0.557912   \n",
       "50%         0.000000       0.000971       0.004847      -0.003263   \n",
       "75%         0.490798       0.516505       0.516963       0.440457   \n",
       "max         7.411043       8.195146      48.597738      28.942904   \n",
       "\n",
       "                moid  \n",
       "count  110333.000000  \n",
       "mean        0.053393  \n",
       "std         0.825449  \n",
       "min        -2.241661  \n",
       "25%        -0.483871  \n",
       "50%         0.000000  \n",
       "75%         0.500000  \n",
       "max        48.403226  "
      ]
     },
     "execution_count": 11,
     "metadata": {},
     "output_type": "execute_result"
    }
   ],
   "source": [
    "X_train.describe()"
   ]
  },
  {
   "cell_type": "markdown",
   "id": "86e09d41-5df2-4f75-9bfd-4c931cb07c62",
   "metadata": {},
   "source": [
    "## logistic regression model"
   ]
  },
  {
   "cell_type": "code",
   "execution_count": 12,
   "id": "8baf26de-0879-4890-be9a-55487e6f6f76",
   "metadata": {},
   "outputs": [
    {
     "name": "stderr",
     "output_type": "stream",
     "text": [
      "C:\\ProgramData\\anaconda3\\envs\\CAS_ML\\Lib\\site-packages\\sklearn\\linear_model\\_logistic.py:1247: FutureWarning: 'multi_class' was deprecated in version 1.5 and will be removed in 1.7. From then on, it will always use 'multinomial'. Leave it to its default value to avoid this warning.\n",
      "  warnings.warn(\n"
     ]
    },
    {
     "data": {
      "text/html": [
       "<style>#sk-container-id-1 {\n",
       "  /* Definition of color scheme common for light and dark mode */\n",
       "  --sklearn-color-text: black;\n",
       "  --sklearn-color-line: gray;\n",
       "  /* Definition of color scheme for unfitted estimators */\n",
       "  --sklearn-color-unfitted-level-0: #fff5e6;\n",
       "  --sklearn-color-unfitted-level-1: #f6e4d2;\n",
       "  --sklearn-color-unfitted-level-2: #ffe0b3;\n",
       "  --sklearn-color-unfitted-level-3: chocolate;\n",
       "  /* Definition of color scheme for fitted estimators */\n",
       "  --sklearn-color-fitted-level-0: #f0f8ff;\n",
       "  --sklearn-color-fitted-level-1: #d4ebff;\n",
       "  --sklearn-color-fitted-level-2: #b3dbfd;\n",
       "  --sklearn-color-fitted-level-3: cornflowerblue;\n",
       "\n",
       "  /* Specific color for light theme */\n",
       "  --sklearn-color-text-on-default-background: var(--sg-text-color, var(--theme-code-foreground, var(--jp-content-font-color1, black)));\n",
       "  --sklearn-color-background: var(--sg-background-color, var(--theme-background, var(--jp-layout-color0, white)));\n",
       "  --sklearn-color-border-box: var(--sg-text-color, var(--theme-code-foreground, var(--jp-content-font-color1, black)));\n",
       "  --sklearn-color-icon: #696969;\n",
       "\n",
       "  @media (prefers-color-scheme: dark) {\n",
       "    /* Redefinition of color scheme for dark theme */\n",
       "    --sklearn-color-text-on-default-background: var(--sg-text-color, var(--theme-code-foreground, var(--jp-content-font-color1, white)));\n",
       "    --sklearn-color-background: var(--sg-background-color, var(--theme-background, var(--jp-layout-color0, #111)));\n",
       "    --sklearn-color-border-box: var(--sg-text-color, var(--theme-code-foreground, var(--jp-content-font-color1, white)));\n",
       "    --sklearn-color-icon: #878787;\n",
       "  }\n",
       "}\n",
       "\n",
       "#sk-container-id-1 {\n",
       "  color: var(--sklearn-color-text);\n",
       "}\n",
       "\n",
       "#sk-container-id-1 pre {\n",
       "  padding: 0;\n",
       "}\n",
       "\n",
       "#sk-container-id-1 input.sk-hidden--visually {\n",
       "  border: 0;\n",
       "  clip: rect(1px 1px 1px 1px);\n",
       "  clip: rect(1px, 1px, 1px, 1px);\n",
       "  height: 1px;\n",
       "  margin: -1px;\n",
       "  overflow: hidden;\n",
       "  padding: 0;\n",
       "  position: absolute;\n",
       "  width: 1px;\n",
       "}\n",
       "\n",
       "#sk-container-id-1 div.sk-dashed-wrapped {\n",
       "  border: 1px dashed var(--sklearn-color-line);\n",
       "  margin: 0 0.4em 0.5em 0.4em;\n",
       "  box-sizing: border-box;\n",
       "  padding-bottom: 0.4em;\n",
       "  background-color: var(--sklearn-color-background);\n",
       "}\n",
       "\n",
       "#sk-container-id-1 div.sk-container {\n",
       "  /* jupyter's `normalize.less` sets `[hidden] { display: none; }`\n",
       "     but bootstrap.min.css set `[hidden] { display: none !important; }`\n",
       "     so we also need the `!important` here to be able to override the\n",
       "     default hidden behavior on the sphinx rendered scikit-learn.org.\n",
       "     See: https://github.com/scikit-learn/scikit-learn/issues/21755 */\n",
       "  display: inline-block !important;\n",
       "  position: relative;\n",
       "}\n",
       "\n",
       "#sk-container-id-1 div.sk-text-repr-fallback {\n",
       "  display: none;\n",
       "}\n",
       "\n",
       "div.sk-parallel-item,\n",
       "div.sk-serial,\n",
       "div.sk-item {\n",
       "  /* draw centered vertical line to link estimators */\n",
       "  background-image: linear-gradient(var(--sklearn-color-text-on-default-background), var(--sklearn-color-text-on-default-background));\n",
       "  background-size: 2px 100%;\n",
       "  background-repeat: no-repeat;\n",
       "  background-position: center center;\n",
       "}\n",
       "\n",
       "/* Parallel-specific style estimator block */\n",
       "\n",
       "#sk-container-id-1 div.sk-parallel-item::after {\n",
       "  content: \"\";\n",
       "  width: 100%;\n",
       "  border-bottom: 2px solid var(--sklearn-color-text-on-default-background);\n",
       "  flex-grow: 1;\n",
       "}\n",
       "\n",
       "#sk-container-id-1 div.sk-parallel {\n",
       "  display: flex;\n",
       "  align-items: stretch;\n",
       "  justify-content: center;\n",
       "  background-color: var(--sklearn-color-background);\n",
       "  position: relative;\n",
       "}\n",
       "\n",
       "#sk-container-id-1 div.sk-parallel-item {\n",
       "  display: flex;\n",
       "  flex-direction: column;\n",
       "}\n",
       "\n",
       "#sk-container-id-1 div.sk-parallel-item:first-child::after {\n",
       "  align-self: flex-end;\n",
       "  width: 50%;\n",
       "}\n",
       "\n",
       "#sk-container-id-1 div.sk-parallel-item:last-child::after {\n",
       "  align-self: flex-start;\n",
       "  width: 50%;\n",
       "}\n",
       "\n",
       "#sk-container-id-1 div.sk-parallel-item:only-child::after {\n",
       "  width: 0;\n",
       "}\n",
       "\n",
       "/* Serial-specific style estimator block */\n",
       "\n",
       "#sk-container-id-1 div.sk-serial {\n",
       "  display: flex;\n",
       "  flex-direction: column;\n",
       "  align-items: center;\n",
       "  background-color: var(--sklearn-color-background);\n",
       "  padding-right: 1em;\n",
       "  padding-left: 1em;\n",
       "}\n",
       "\n",
       "\n",
       "/* Toggleable style: style used for estimator/Pipeline/ColumnTransformer box that is\n",
       "clickable and can be expanded/collapsed.\n",
       "- Pipeline and ColumnTransformer use this feature and define the default style\n",
       "- Estimators will overwrite some part of the style using the `sk-estimator` class\n",
       "*/\n",
       "\n",
       "/* Pipeline and ColumnTransformer style (default) */\n",
       "\n",
       "#sk-container-id-1 div.sk-toggleable {\n",
       "  /* Default theme specific background. It is overwritten whether we have a\n",
       "  specific estimator or a Pipeline/ColumnTransformer */\n",
       "  background-color: var(--sklearn-color-background);\n",
       "}\n",
       "\n",
       "/* Toggleable label */\n",
       "#sk-container-id-1 label.sk-toggleable__label {\n",
       "  cursor: pointer;\n",
       "  display: block;\n",
       "  width: 100%;\n",
       "  margin-bottom: 0;\n",
       "  padding: 0.5em;\n",
       "  box-sizing: border-box;\n",
       "  text-align: center;\n",
       "}\n",
       "\n",
       "#sk-container-id-1 label.sk-toggleable__label-arrow:before {\n",
       "  /* Arrow on the left of the label */\n",
       "  content: \"▸\";\n",
       "  float: left;\n",
       "  margin-right: 0.25em;\n",
       "  color: var(--sklearn-color-icon);\n",
       "}\n",
       "\n",
       "#sk-container-id-1 label.sk-toggleable__label-arrow:hover:before {\n",
       "  color: var(--sklearn-color-text);\n",
       "}\n",
       "\n",
       "/* Toggleable content - dropdown */\n",
       "\n",
       "#sk-container-id-1 div.sk-toggleable__content {\n",
       "  max-height: 0;\n",
       "  max-width: 0;\n",
       "  overflow: hidden;\n",
       "  text-align: left;\n",
       "  /* unfitted */\n",
       "  background-color: var(--sklearn-color-unfitted-level-0);\n",
       "}\n",
       "\n",
       "#sk-container-id-1 div.sk-toggleable__content.fitted {\n",
       "  /* fitted */\n",
       "  background-color: var(--sklearn-color-fitted-level-0);\n",
       "}\n",
       "\n",
       "#sk-container-id-1 div.sk-toggleable__content pre {\n",
       "  margin: 0.2em;\n",
       "  border-radius: 0.25em;\n",
       "  color: var(--sklearn-color-text);\n",
       "  /* unfitted */\n",
       "  background-color: var(--sklearn-color-unfitted-level-0);\n",
       "}\n",
       "\n",
       "#sk-container-id-1 div.sk-toggleable__content.fitted pre {\n",
       "  /* unfitted */\n",
       "  background-color: var(--sklearn-color-fitted-level-0);\n",
       "}\n",
       "\n",
       "#sk-container-id-1 input.sk-toggleable__control:checked~div.sk-toggleable__content {\n",
       "  /* Expand drop-down */\n",
       "  max-height: 200px;\n",
       "  max-width: 100%;\n",
       "  overflow: auto;\n",
       "}\n",
       "\n",
       "#sk-container-id-1 input.sk-toggleable__control:checked~label.sk-toggleable__label-arrow:before {\n",
       "  content: \"▾\";\n",
       "}\n",
       "\n",
       "/* Pipeline/ColumnTransformer-specific style */\n",
       "\n",
       "#sk-container-id-1 div.sk-label input.sk-toggleable__control:checked~label.sk-toggleable__label {\n",
       "  color: var(--sklearn-color-text);\n",
       "  background-color: var(--sklearn-color-unfitted-level-2);\n",
       "}\n",
       "\n",
       "#sk-container-id-1 div.sk-label.fitted input.sk-toggleable__control:checked~label.sk-toggleable__label {\n",
       "  background-color: var(--sklearn-color-fitted-level-2);\n",
       "}\n",
       "\n",
       "/* Estimator-specific style */\n",
       "\n",
       "/* Colorize estimator box */\n",
       "#sk-container-id-1 div.sk-estimator input.sk-toggleable__control:checked~label.sk-toggleable__label {\n",
       "  /* unfitted */\n",
       "  background-color: var(--sklearn-color-unfitted-level-2);\n",
       "}\n",
       "\n",
       "#sk-container-id-1 div.sk-estimator.fitted input.sk-toggleable__control:checked~label.sk-toggleable__label {\n",
       "  /* fitted */\n",
       "  background-color: var(--sklearn-color-fitted-level-2);\n",
       "}\n",
       "\n",
       "#sk-container-id-1 div.sk-label label.sk-toggleable__label,\n",
       "#sk-container-id-1 div.sk-label label {\n",
       "  /* The background is the default theme color */\n",
       "  color: var(--sklearn-color-text-on-default-background);\n",
       "}\n",
       "\n",
       "/* On hover, darken the color of the background */\n",
       "#sk-container-id-1 div.sk-label:hover label.sk-toggleable__label {\n",
       "  color: var(--sklearn-color-text);\n",
       "  background-color: var(--sklearn-color-unfitted-level-2);\n",
       "}\n",
       "\n",
       "/* Label box, darken color on hover, fitted */\n",
       "#sk-container-id-1 div.sk-label.fitted:hover label.sk-toggleable__label.fitted {\n",
       "  color: var(--sklearn-color-text);\n",
       "  background-color: var(--sklearn-color-fitted-level-2);\n",
       "}\n",
       "\n",
       "/* Estimator label */\n",
       "\n",
       "#sk-container-id-1 div.sk-label label {\n",
       "  font-family: monospace;\n",
       "  font-weight: bold;\n",
       "  display: inline-block;\n",
       "  line-height: 1.2em;\n",
       "}\n",
       "\n",
       "#sk-container-id-1 div.sk-label-container {\n",
       "  text-align: center;\n",
       "}\n",
       "\n",
       "/* Estimator-specific */\n",
       "#sk-container-id-1 div.sk-estimator {\n",
       "  font-family: monospace;\n",
       "  border: 1px dotted var(--sklearn-color-border-box);\n",
       "  border-radius: 0.25em;\n",
       "  box-sizing: border-box;\n",
       "  margin-bottom: 0.5em;\n",
       "  /* unfitted */\n",
       "  background-color: var(--sklearn-color-unfitted-level-0);\n",
       "}\n",
       "\n",
       "#sk-container-id-1 div.sk-estimator.fitted {\n",
       "  /* fitted */\n",
       "  background-color: var(--sklearn-color-fitted-level-0);\n",
       "}\n",
       "\n",
       "/* on hover */\n",
       "#sk-container-id-1 div.sk-estimator:hover {\n",
       "  /* unfitted */\n",
       "  background-color: var(--sklearn-color-unfitted-level-2);\n",
       "}\n",
       "\n",
       "#sk-container-id-1 div.sk-estimator.fitted:hover {\n",
       "  /* fitted */\n",
       "  background-color: var(--sklearn-color-fitted-level-2);\n",
       "}\n",
       "\n",
       "/* Specification for estimator info (e.g. \"i\" and \"?\") */\n",
       "\n",
       "/* Common style for \"i\" and \"?\" */\n",
       "\n",
       ".sk-estimator-doc-link,\n",
       "a:link.sk-estimator-doc-link,\n",
       "a:visited.sk-estimator-doc-link {\n",
       "  float: right;\n",
       "  font-size: smaller;\n",
       "  line-height: 1em;\n",
       "  font-family: monospace;\n",
       "  background-color: var(--sklearn-color-background);\n",
       "  border-radius: 1em;\n",
       "  height: 1em;\n",
       "  width: 1em;\n",
       "  text-decoration: none !important;\n",
       "  margin-left: 1ex;\n",
       "  /* unfitted */\n",
       "  border: var(--sklearn-color-unfitted-level-1) 1pt solid;\n",
       "  color: var(--sklearn-color-unfitted-level-1);\n",
       "}\n",
       "\n",
       ".sk-estimator-doc-link.fitted,\n",
       "a:link.sk-estimator-doc-link.fitted,\n",
       "a:visited.sk-estimator-doc-link.fitted {\n",
       "  /* fitted */\n",
       "  border: var(--sklearn-color-fitted-level-1) 1pt solid;\n",
       "  color: var(--sklearn-color-fitted-level-1);\n",
       "}\n",
       "\n",
       "/* On hover */\n",
       "div.sk-estimator:hover .sk-estimator-doc-link:hover,\n",
       ".sk-estimator-doc-link:hover,\n",
       "div.sk-label-container:hover .sk-estimator-doc-link:hover,\n",
       ".sk-estimator-doc-link:hover {\n",
       "  /* unfitted */\n",
       "  background-color: var(--sklearn-color-unfitted-level-3);\n",
       "  color: var(--sklearn-color-background);\n",
       "  text-decoration: none;\n",
       "}\n",
       "\n",
       "div.sk-estimator.fitted:hover .sk-estimator-doc-link.fitted:hover,\n",
       ".sk-estimator-doc-link.fitted:hover,\n",
       "div.sk-label-container:hover .sk-estimator-doc-link.fitted:hover,\n",
       ".sk-estimator-doc-link.fitted:hover {\n",
       "  /* fitted */\n",
       "  background-color: var(--sklearn-color-fitted-level-3);\n",
       "  color: var(--sklearn-color-background);\n",
       "  text-decoration: none;\n",
       "}\n",
       "\n",
       "/* Span, style for the box shown on hovering the info icon */\n",
       ".sk-estimator-doc-link span {\n",
       "  display: none;\n",
       "  z-index: 9999;\n",
       "  position: relative;\n",
       "  font-weight: normal;\n",
       "  right: .2ex;\n",
       "  padding: .5ex;\n",
       "  margin: .5ex;\n",
       "  width: min-content;\n",
       "  min-width: 20ex;\n",
       "  max-width: 50ex;\n",
       "  color: var(--sklearn-color-text);\n",
       "  box-shadow: 2pt 2pt 4pt #999;\n",
       "  /* unfitted */\n",
       "  background: var(--sklearn-color-unfitted-level-0);\n",
       "  border: .5pt solid var(--sklearn-color-unfitted-level-3);\n",
       "}\n",
       "\n",
       ".sk-estimator-doc-link.fitted span {\n",
       "  /* fitted */\n",
       "  background: var(--sklearn-color-fitted-level-0);\n",
       "  border: var(--sklearn-color-fitted-level-3);\n",
       "}\n",
       "\n",
       ".sk-estimator-doc-link:hover span {\n",
       "  display: block;\n",
       "}\n",
       "\n",
       "/* \"?\"-specific style due to the `<a>` HTML tag */\n",
       "\n",
       "#sk-container-id-1 a.estimator_doc_link {\n",
       "  float: right;\n",
       "  font-size: 1rem;\n",
       "  line-height: 1em;\n",
       "  font-family: monospace;\n",
       "  background-color: var(--sklearn-color-background);\n",
       "  border-radius: 1rem;\n",
       "  height: 1rem;\n",
       "  width: 1rem;\n",
       "  text-decoration: none;\n",
       "  /* unfitted */\n",
       "  color: var(--sklearn-color-unfitted-level-1);\n",
       "  border: var(--sklearn-color-unfitted-level-1) 1pt solid;\n",
       "}\n",
       "\n",
       "#sk-container-id-1 a.estimator_doc_link.fitted {\n",
       "  /* fitted */\n",
       "  border: var(--sklearn-color-fitted-level-1) 1pt solid;\n",
       "  color: var(--sklearn-color-fitted-level-1);\n",
       "}\n",
       "\n",
       "/* On hover */\n",
       "#sk-container-id-1 a.estimator_doc_link:hover {\n",
       "  /* unfitted */\n",
       "  background-color: var(--sklearn-color-unfitted-level-3);\n",
       "  color: var(--sklearn-color-background);\n",
       "  text-decoration: none;\n",
       "}\n",
       "\n",
       "#sk-container-id-1 a.estimator_doc_link.fitted:hover {\n",
       "  /* fitted */\n",
       "  background-color: var(--sklearn-color-fitted-level-3);\n",
       "}\n",
       "</style><div id=\"sk-container-id-1\" class=\"sk-top-container\"><div class=\"sk-text-repr-fallback\"><pre>LogisticRegression(multi_class=&#x27;auto&#x27;)</pre><b>In a Jupyter environment, please rerun this cell to show the HTML representation or trust the notebook. <br />On GitHub, the HTML representation is unable to render, please try loading this page with nbviewer.org.</b></div><div class=\"sk-container\" hidden><div class=\"sk-item\"><div class=\"sk-estimator fitted sk-toggleable\"><input class=\"sk-toggleable__control sk-hidden--visually\" id=\"sk-estimator-id-1\" type=\"checkbox\" checked><label for=\"sk-estimator-id-1\" class=\"sk-toggleable__label fitted sk-toggleable__label-arrow fitted\">&nbsp;&nbsp;LogisticRegression<a class=\"sk-estimator-doc-link fitted\" rel=\"noreferrer\" target=\"_blank\" href=\"https://scikit-learn.org/1.5/modules/generated/sklearn.linear_model.LogisticRegression.html\">?<span>Documentation for LogisticRegression</span></a><span class=\"sk-estimator-doc-link fitted\">i<span>Fitted</span></span></label><div class=\"sk-toggleable__content fitted\"><pre>LogisticRegression(multi_class=&#x27;auto&#x27;)</pre></div> </div></div></div></div>"
      ],
      "text/plain": [
       "LogisticRegression(multi_class='auto')"
      ]
     },
     "execution_count": 12,
     "metadata": {},
     "output_type": "execute_result"
    }
   ],
   "source": [
    "from sklearn.linear_model import LogisticRegression\n",
    "\n",
    "logreg = LogisticRegression(solver=\"lbfgs\", multi_class=\"auto\")\n",
    "\n",
    "logreg.fit(X_train, y_train)    # Train the model using the training sets"
   ]
  },
  {
   "cell_type": "code",
   "execution_count": 13,
   "id": "9ab2af39-f96e-488b-a97c-5be226f39389",
   "metadata": {},
   "outputs": [
    {
     "data": {
      "text/html": [
       "<div>\n",
       "<style scoped>\n",
       "    .dataframe tbody tr th:only-of-type {\n",
       "        vertical-align: middle;\n",
       "    }\n",
       "\n",
       "    .dataframe tbody tr th {\n",
       "        vertical-align: top;\n",
       "    }\n",
       "\n",
       "    .dataframe thead th {\n",
       "        text-align: right;\n",
       "    }\n",
       "</style>\n",
       "<table border=\"1\" class=\"dataframe\">\n",
       "  <thead>\n",
       "    <tr style=\"text-align: right;\">\n",
       "      <th></th>\n",
       "      <th>Accurancy on Train</th>\n",
       "      <th>Accurancy on Test</th>\n",
       "    </tr>\n",
       "  </thead>\n",
       "  <tbody>\n",
       "    <tr>\n",
       "      <th>0</th>\n",
       "      <td>0.998795</td>\n",
       "      <td>0.998187</td>\n",
       "    </tr>\n",
       "  </tbody>\n",
       "</table>\n",
       "</div>"
      ],
      "text/plain": [
       "   Accurancy on Train  Accurancy on Test\n",
       "0            0.998795           0.998187"
      ]
     },
     "execution_count": 13,
     "metadata": {},
     "output_type": "execute_result"
    }
   ],
   "source": [
    "pd.DataFrame({\"Accurancy on Train\":[accuracy_score(y_train, logreg.predict(X_train))],\n",
    "    \"Accurancy on Test\":[accuracy_score(y_test, logreg.predict(X_test))]})"
   ]
  },
  {
   "cell_type": "code",
   "execution_count": 14,
   "id": "0e09bbea-9d27-4404-885c-0c058118e1c5",
   "metadata": {},
   "outputs": [],
   "source": [
    "# Predict on the test data set\n",
    "y_pred = logreg.predict(X_test)"
   ]
  },
  {
   "cell_type": "code",
   "execution_count": 15,
   "id": "d580447b-afbe-4502-8fe2-6acf93f0dc1f",
   "metadata": {},
   "outputs": [
    {
     "data": {
      "text/plain": [
       "array([0, 0, 0, 0, 0], dtype=int64)"
      ]
     },
     "execution_count": 15,
     "metadata": {},
     "output_type": "execute_result"
    }
   ],
   "source": [
    "logreg.predict(X_test)[0:5]"
   ]
  },
  {
   "cell_type": "markdown",
   "id": "3f31449f-08bd-4051-929a-e155d14d7310",
   "metadata": {},
   "source": [
    "#### Model slop and intercept"
   ]
  },
  {
   "cell_type": "code",
   "execution_count": 16,
   "id": "bcb3a465-c365-4af1-978e-616177292a1c",
   "metadata": {},
   "outputs": [
    {
     "name": "stdout",
     "output_type": "stream",
     "text": [
      "Number of coefficients: 1\n",
      "Estimated coefficients: [[-0.36361722 -0.64835097 -3.3524612  -0.17468256 -9.49943146]]\n",
      "Estimated intercept: [-25.47663853]\n"
     ]
    }
   ],
   "source": [
    "print(\"Number of coefficients:\", len(logreg.coef_))\n",
    "print(\"Estimated coefficients: {}\".format(logreg.coef_))\n",
    "print(\"Estimated intercept: {}\".format(logreg.intercept_))"
   ]
  },
  {
   "cell_type": "markdown",
   "id": "15ffa634-edfd-4d8b-b8cb-2a03fa4ffc60",
   "metadata": {},
   "source": [
    "### Evaluate logistic regression model"
   ]
  },
  {
   "cell_type": "code",
   "execution_count": 17,
   "id": "08877af8-5586-4565-8109-d4a7d0fdf808",
   "metadata": {},
   "outputs": [
    {
     "name": "stdout",
     "output_type": "stream",
     "text": [
      "              precision    recall  f1-score   support\n",
      "\n",
      "     non-PHA       1.00      1.00      1.00     27511\n",
      "         PHA       0.83      0.40      0.54        73\n",
      "\n",
      "    accuracy                           1.00     27584\n",
      "   macro avg       0.91      0.70      0.77     27584\n",
      "weighted avg       1.00      1.00      1.00     27584\n",
      "\n"
     ]
    }
   ],
   "source": [
    "target_names = ['non-PHA', 'PHA']\n",
    "print(classification_report(y_test, y_pred, target_names=target_names))"
   ]
  },
  {
   "cell_type": "code",
   "execution_count": 18,
   "id": "bf2b6c30-a67a-4ad1-bd01-6aee447abb07",
   "metadata": {},
   "outputs": [
    {
     "data": {
      "text/plain": [
       "array([[27505,     6],\n",
       "       [   44,    29]], dtype=int64)"
      ]
     },
     "execution_count": 18,
     "metadata": {},
     "output_type": "execute_result"
    }
   ],
   "source": [
    "cnf_matrix = metrics.confusion_matrix(y_test, y_pred)\n",
    "cnf_matrix"
   ]
  },
  {
   "cell_type": "markdown",
   "id": "04cf4e18-b531-4883-b5a5-44923aaaa7e1",
   "metadata": {},
   "source": [
    "#### RMS"
   ]
  },
  {
   "cell_type": "code",
   "execution_count": 19,
   "id": "7abec896-f975-483d-b69a-28106fdcddfd",
   "metadata": {},
   "outputs": [
    {
     "name": "stdout",
     "output_type": "stream",
     "text": [
      "RMSE value : 0.04\n"
     ]
    }
   ],
   "source": [
    "mse = mean_squared_error(y_test, y_pred)\n",
    "rmse = np.sqrt(mse)\n",
    "print(\"RMSE value : {:.2f}\".format(rmse))"
   ]
  },
  {
   "cell_type": "markdown",
   "id": "d2258d6c-58b0-40ae-9781-b63c7c0dc8c5",
   "metadata": {},
   "source": [
    "#### Model slop and intercept"
   ]
  },
  {
   "cell_type": "markdown",
   "id": "6e118f56-49f4-45b4-9873-a86011785e55",
   "metadata": {},
   "source": [
    "#### R2"
   ]
  },
  {
   "cell_type": "code",
   "execution_count": 20,
   "id": "734e9f5c-7545-44d0-ac5c-4bb2de580b1a",
   "metadata": {},
   "outputs": [
    {
     "name": "stdout",
     "output_type": "stream",
     "text": [
      "R2 Score value: 0.31\n"
     ]
    }
   ],
   "source": [
    "print(\"R2 Score value: {:.2f}\".format(r2_score(y_test, y_pred)))"
   ]
  },
  {
   "cell_type": "code",
   "execution_count": 21,
   "id": "ed308907-3c25-463f-8b53-89d68ee6b12e",
   "metadata": {},
   "outputs": [
    {
     "name": "stdout",
     "output_type": "stream",
     "text": [
      "Training set score: 1.00\n"
     ]
    }
   ],
   "source": [
    "print(\"Training set score: {:.2f}\".format(logreg.score(X_train, y_train)))"
   ]
  },
  {
   "cell_type": "code",
   "execution_count": 22,
   "id": "fa9046b5-b4f7-449f-bd29-b1ea70b13731",
   "metadata": {},
   "outputs": [
    {
     "name": "stdout",
     "output_type": "stream",
     "text": [
      "Test set score: 1.00\n"
     ]
    }
   ],
   "source": [
    "print(\"Test set score: {:.2f}\".format(logreg.score(X_test, y_test)))"
   ]
  },
  {
   "cell_type": "markdown",
   "id": "4ec71fb2-b8ef-4999-aa24-dfbd7ec35954",
   "metadata": {},
   "source": [
    "#### Cross-validation"
   ]
  },
  {
   "cell_type": "code",
   "execution_count": 23,
   "id": "2dfae6fb-a9bb-4de1-a217-ce39de36b1dd",
   "metadata": {},
   "outputs": [
    {
     "name": "stderr",
     "output_type": "stream",
     "text": [
      "C:\\ProgramData\\anaconda3\\envs\\CAS_ML\\Lib\\site-packages\\sklearn\\linear_model\\_logistic.py:1247: FutureWarning: 'multi_class' was deprecated in version 1.5 and will be removed in 1.7. From then on, it will always use 'multinomial'. Leave it to its default value to avoid this warning.\n",
      "  warnings.warn(\n",
      "C:\\ProgramData\\anaconda3\\envs\\CAS_ML\\Lib\\site-packages\\sklearn\\linear_model\\_logistic.py:1247: FutureWarning: 'multi_class' was deprecated in version 1.5 and will be removed in 1.7. From then on, it will always use 'multinomial'. Leave it to its default value to avoid this warning.\n",
      "  warnings.warn(\n",
      "C:\\ProgramData\\anaconda3\\envs\\CAS_ML\\Lib\\site-packages\\sklearn\\linear_model\\_logistic.py:1247: FutureWarning: 'multi_class' was deprecated in version 1.5 and will be removed in 1.7. From then on, it will always use 'multinomial'. Leave it to its default value to avoid this warning.\n",
      "  warnings.warn(\n",
      "C:\\ProgramData\\anaconda3\\envs\\CAS_ML\\Lib\\site-packages\\sklearn\\linear_model\\_logistic.py:1247: FutureWarning: 'multi_class' was deprecated in version 1.5 and will be removed in 1.7. From then on, it will always use 'multinomial'. Leave it to its default value to avoid this warning.\n",
      "  warnings.warn(\n",
      "C:\\ProgramData\\anaconda3\\envs\\CAS_ML\\Lib\\site-packages\\sklearn\\linear_model\\_logistic.py:1247: FutureWarning: 'multi_class' was deprecated in version 1.5 and will be removed in 1.7. From then on, it will always use 'multinomial'. Leave it to its default value to avoid this warning.\n",
      "  warnings.warn(\n"
     ]
    }
   ],
   "source": [
    "# Compute 5-fold cross-validation scores: cv_scores\n",
    "cv_scores = cross_val_score(logreg, X, y, cv=5)"
   ]
  },
  {
   "cell_type": "code",
   "execution_count": 24,
   "id": "1eef00cb-cfa5-4aba-ae09-b597c9a138d2",
   "metadata": {},
   "outputs": [
    {
     "name": "stdout",
     "output_type": "stream",
     "text": [
      "[0.9992 0.9988 0.9985 0.9981 0.9687]\n"
     ]
    }
   ],
   "source": [
    "# print the 5-fold cross-validation scores\n",
    "print(cv_scores.round(4))"
   ]
  },
  {
   "cell_type": "code",
   "execution_count": 25,
   "id": "11e7d909-e84e-414c-897b-8d145d0b169f",
   "metadata": {},
   "outputs": [
    {
     "name": "stdout",
     "output_type": "stream",
     "text": [
      "Average 5-Fold CV Score: 0.9927\n"
     ]
    }
   ],
   "source": [
    "# print the avarage 5-fold cross-validation scores\n",
    "print(\"Average 5-Fold CV Score: {}\".format(np.mean(cv_scores).round(4)))"
   ]
  },
  {
   "cell_type": "markdown",
   "id": "87cdb4be-bb2b-46ff-a4ff-2df77cf57fa7",
   "metadata": {},
   "source": [
    "### Plotting Residual Error"
   ]
  },
  {
   "cell_type": "code",
   "execution_count": 26,
   "id": "208e83a2-efb8-4db6-ac85-c79dbb63cb70",
   "metadata": {},
   "outputs": [
    {
     "data": {
      "image/png": "[encoded data removed]",
      "text/plain": [
       "<Figure size 1000x800 with 1 Axes>"
      ]
     },
     "metadata": {},
     "output_type": "display_data"
    }
   ],
   "source": [
    "%matplotlib inline\n",
    "plt.figure(figsize=(10,8))\n",
    "\n",
    "# plotting residual errors in training data\n",
    "plt.scatter(logreg.predict(X_train), logreg.predict(X_train) - y_train, c = 'g', s = 40, label = 'Train data', alpha = 0.5)\n",
    "\n",
    "# plotting residual errors in test data\n",
    "plt.scatter(logreg.predict(X_test), logreg.predict(X_test) - y_test, c = 'r', s = 20, label = 'Test data')\n",
    "\n",
    "# plotting line for zero residual error\n",
    "plt.hlines(y = 0, xmin = -1, xmax = 2, linewidth = 3)\n",
    "\n",
    "# plotting legend\n",
    "plt.legend(loc = 'upper right')\n",
    "\n",
    "# plot title\n",
    "plt.title(\"Residual errors plot\")\n",
    "\n",
    "# function to show plot\n",
    "plt.show()"
   ]
  },
  {
   "cell_type": "code",
   "execution_count": 27,
   "id": "e61a528e-8bf9-4879-b498-def31c85b22f",
   "metadata": {},
   "outputs": [
    {
     "name": "stdout",
     "output_type": "stream",
     "text": [
      "              precision    recall  f1-score   support\n",
      "\n",
      "     non-PHA       1.00      1.00      1.00     27511\n",
      "         PHA       0.83      0.40      0.54        73\n",
      "\n",
      "    accuracy                           1.00     27584\n",
      "   macro avg       0.91      0.70      0.77     27584\n",
      "weighted avg       1.00      1.00      1.00     27584\n",
      "\n"
     ]
    }
   ],
   "source": [
    "target_names = ['non-PHA', 'PHA']\n",
    "print(classification_report(y_test, y_pred, target_names=target_names))"
   ]
  },
  {
   "cell_type": "code",
   "execution_count": 28,
   "id": "0e4fd841-26f1-41a7-a11f-7abb5bc0d7e3",
   "metadata": {},
   "outputs": [
    {
     "name": "stdout",
     "output_type": "stream",
     "text": [
      "Precision metric: 0.91\n",
      "Recall Metric: 0.7\n",
      "Accuracy Metric: 0.9982\n",
      "F1 score: 0.77\n"
     ]
    }
   ],
   "source": [
    "precision_metric_macro = precision_score(y_test, y_pred, average = \"macro\")\n",
    "recall_metric_macro = recall_score(y_test, y_pred, average = \"macro\")\n",
    "accuracy_metric = accuracy_score(y_test, y_pred)\n",
    "f1_metric_macro = f1_score(y_test, y_pred, average = \"macro\")\n",
    "    \n",
    "print('Precision metric:',round(precision_metric_macro, 2))\n",
    "print('Recall Metric:',round(recall_metric_macro, 2))\n",
    "print('Accuracy Metric:',round(accuracy_metric, 4))\n",
    "print('F1 score:',round(f1_metric_macro, 2))"
   ]
  },
  {
   "cell_type": "code",
   "execution_count": 29,
   "id": "5d4259f0-be74-4acf-b0d7-f8a928f68ae6",
   "metadata": {},
   "outputs": [
    {
     "name": "stdout",
     "output_type": "stream",
     "text": [
      "Precision metric: 1.0\n",
      "Recall Metric: 1.0\n",
      "F1 score: 1.0\n"
     ]
    }
   ],
   "source": [
    "precision_metric_micro = precision_score(y_test, y_pred, average = \"micro\")\n",
    "recall_metric_micro = recall_score(y_test, y_pred, average = \"micro\")\n",
    "f1_metric_micro = f1_score(y_test, y_pred, average = \"micro\")\n",
    "    \n",
    "print('Precision metric:',round(precision_metric_micro, 2))\n",
    "print('Recall Metric:',round(recall_metric_micro, 2))\n",
    "print('F1 score:',round(f1_metric_micro, 2))"
   ]
  },
  {
   "cell_type": "code",
   "execution_count": 30,
   "id": "719b8c41-01a4-433d-b429-78949d00349e",
   "metadata": {},
   "outputs": [
    {
     "name": "stdout",
     "output_type": "stream",
     "text": [
      "Precision metric: 1.0\n",
      "Recall Metric: 1.0\n",
      "F1 score: 1.0\n"
     ]
    }
   ],
   "source": [
    "precision_metric_weighted = precision_score(y_test, y_pred, average = \"weighted\")\n",
    "recall_metric_weighted = recall_score(y_test, y_pred, average = \"weighted\")\n",
    "f1_metric_weighted = f1_score(y_test, y_pred, average = \"weighted\")\n",
    "    \n",
    "print('Precision metric:',round(precision_metric_weighted, 2))\n",
    "print('Recall Metric:',round(recall_metric_weighted, 2))\n",
    "print('F1 score:',round(f1_metric_weighted, 2))"
   ]
  },
  {
   "cell_type": "markdown",
   "id": "9fc089fa-ebd1-461d-a81b-19c8814491a4",
   "metadata": {},
   "source": [
    "### Q-Q Plot"
   ]
  },
  {
   "cell_type": "code",
   "execution_count": 31,
   "id": "06b78a82-6ada-47ad-b05e-e7e789c88dd8",
   "metadata": {},
   "outputs": [
    {
     "data": {
      "image/png": "[encoded data removed]",
      "text/plain": [
       "<Figure size 1500x600 with 2 Axes>"
      ]
     },
     "metadata": {},
     "output_type": "display_data"
    },
    {
     "data": {
      "image/png": "[encoded data removed]",
      "text/plain": [
       "<Figure size 1500x600 with 2 Axes>"
      ]
     },
     "metadata": {},
     "output_type": "display_data"
    },
    {
     "data": {
      "image/png": "[encoded data removed]",
      "text/plain": [
       "<Figure size 1500x600 with 2 Axes>"
      ]
     },
     "metadata": {},
     "output_type": "display_data"
    },
    {
     "data": {
      "image/png": "[encoded data removed]",
      "text/plain": [
       "<Figure size 1500x600 with 2 Axes>"
      ]
     },
     "metadata": {},
     "output_type": "display_data"
    },
    {
     "data": {
      "image/png": "[encoded data removed]",
      "text/plain": [
       "<Figure size 1500x600 with 2 Axes>"
      ]
     },
     "metadata": {},
     "output_type": "display_data"
    }
   ],
   "source": [
    "import pylab \n",
    "import scipy.stats as stats\n",
    "\n",
    "exclude_col = ['pha', 'spkid', 'full_name']\n",
    "asteroid_plot = asteroid_df.drop(columns = exclude_col)         \n",
    "\n",
    "for var in asteroid_plot.columns:\n",
    "        plt.figure(figsize=(15, 6))\n",
    "\n",
    "        # Histogram of the variable\n",
    "        plt.subplot(1, 2, 1)\n",
    "        asteroid_df[var].hist()\n",
    "        plt.title('Distribution of ' + var)\n",
    "\n",
    "        # Q-Q plot for normality\n",
    "        plt.subplot(1, 2, 2)\n",
    "        stats.probplot(asteroid_df[var], dist=\"norm\", plot=pylab)\n",
    "        plt.title('Q-Q plot of ' + var)\n",
    "\n",
    "        # Display the plots\n",
    "        plt.show()"
   ]
  },
  {
   "cell_type": "markdown",
   "id": "dbc90e4f-e97b-4c37-b5f8-6222e826aecb",
   "metadata": {},
   "source": [
    "# Using SMOTE to Even out Data Set"
   ]
  },
  {
   "cell_type": "code",
   "execution_count": 32,
   "id": "25e29a45-36ed-4870-9f6f-a5d99e0c5516",
   "metadata": {},
   "outputs": [
    {
     "name": "stderr",
     "output_type": "stream",
     "text": [
      "C:\\Users\\stack\\AppData\\Local\\Temp\\ipykernel_26700\\1757892739.py:2: FutureWarning: Series.ravel is deprecated. The underlying array is already 1D, so ravel is not necessary.  Use `to_numpy()` for conversion to a numpy array instead.\n",
      "  X_train_over, y_train_over = sm.fit_resample(X_train, y_train.ravel())\n"
     ]
    }
   ],
   "source": [
    "sm = SMOTE(random_state = 42) \n",
    "X_train_over, y_train_over = sm.fit_resample(X_train, y_train.ravel())"
   ]
  },
  {
   "cell_type": "code",
   "execution_count": 33,
   "id": "17cc7a19-b09c-411a-b558-7737af15bfa2",
   "metadata": {},
   "outputs": [
    {
     "data": {
      "text/html": [
       "<style>#sk-container-id-2 {\n",
       "  /* Definition of color scheme common for light and dark mode */\n",
       "  --sklearn-color-text: black;\n",
       "  --sklearn-color-line: gray;\n",
       "  /* Definition of color scheme for unfitted estimators */\n",
       "  --sklearn-color-unfitted-level-0: #fff5e6;\n",
       "  --sklearn-color-unfitted-level-1: #f6e4d2;\n",
       "  --sklearn-color-unfitted-level-2: #ffe0b3;\n",
       "  --sklearn-color-unfitted-level-3: chocolate;\n",
       "  /* Definition of color scheme for fitted estimators */\n",
       "  --sklearn-color-fitted-level-0: #f0f8ff;\n",
       "  --sklearn-color-fitted-level-1: #d4ebff;\n",
       "  --sklearn-color-fitted-level-2: #b3dbfd;\n",
       "  --sklearn-color-fitted-level-3: cornflowerblue;\n",
       "\n",
       "  /* Specific color for light theme */\n",
       "  --sklearn-color-text-on-default-background: var(--sg-text-color, var(--theme-code-foreground, var(--jp-content-font-color1, black)));\n",
       "  --sklearn-color-background: var(--sg-background-color, var(--theme-background, var(--jp-layout-color0, white)));\n",
       "  --sklearn-color-border-box: var(--sg-text-color, var(--theme-code-foreground, var(--jp-content-font-color1, black)));\n",
       "  --sklearn-color-icon: #696969;\n",
       "\n",
       "  @media (prefers-color-scheme: dark) {\n",
       "    /* Redefinition of color scheme for dark theme */\n",
       "    --sklearn-color-text-on-default-background: var(--sg-text-color, var(--theme-code-foreground, var(--jp-content-font-color1, white)));\n",
       "    --sklearn-color-background: var(--sg-background-color, var(--theme-background, var(--jp-layout-color0, #111)));\n",
       "    --sklearn-color-border-box: var(--sg-text-color, var(--theme-code-foreground, var(--jp-content-font-color1, white)));\n",
       "    --sklearn-color-icon: #878787;\n",
       "  }\n",
       "}\n",
       "\n",
       "#sk-container-id-2 {\n",
       "  color: var(--sklearn-color-text);\n",
       "}\n",
       "\n",
       "#sk-container-id-2 pre {\n",
       "  padding: 0;\n",
       "}\n",
       "\n",
       "#sk-container-id-2 input.sk-hidden--visually {\n",
       "  border: 0;\n",
       "  clip: rect(1px 1px 1px 1px);\n",
       "  clip: rect(1px, 1px, 1px, 1px);\n",
       "  height: 1px;\n",
       "  margin: -1px;\n",
       "  overflow: hidden;\n",
       "  padding: 0;\n",
       "  position: absolute;\n",
       "  width: 1px;\n",
       "}\n",
       "\n",
       "#sk-container-id-2 div.sk-dashed-wrapped {\n",
       "  border: 1px dashed var(--sklearn-color-line);\n",
       "  margin: 0 0.4em 0.5em 0.4em;\n",
       "  box-sizing: border-box;\n",
       "  padding-bottom: 0.4em;\n",
       "  background-color: var(--sklearn-color-background);\n",
       "}\n",
       "\n",
       "#sk-container-id-2 div.sk-container {\n",
       "  /* jupyter's `normalize.less` sets `[hidden] { display: none; }`\n",
       "     but bootstrap.min.css set `[hidden] { display: none !important; }`\n",
       "     so we also need the `!important` here to be able to override the\n",
       "     default hidden behavior on the sphinx rendered scikit-learn.org.\n",
       "     See: https://github.com/scikit-learn/scikit-learn/issues/21755 */\n",
       "  display: inline-block !important;\n",
       "  position: relative;\n",
       "}\n",
       "\n",
       "#sk-container-id-2 div.sk-text-repr-fallback {\n",
       "  display: none;\n",
       "}\n",
       "\n",
       "div.sk-parallel-item,\n",
       "div.sk-serial,\n",
       "div.sk-item {\n",
       "  /* draw centered vertical line to link estimators */\n",
       "  background-image: linear-gradient(var(--sklearn-color-text-on-default-background), var(--sklearn-color-text-on-default-background));\n",
       "  background-size: 2px 100%;\n",
       "  background-repeat: no-repeat;\n",
       "  background-position: center center;\n",
       "}\n",
       "\n",
       "/* Parallel-specific style estimator block */\n",
       "\n",
       "#sk-container-id-2 div.sk-parallel-item::after {\n",
       "  content: \"\";\n",
       "  width: 100%;\n",
       "  border-bottom: 2px solid var(--sklearn-color-text-on-default-background);\n",
       "  flex-grow: 1;\n",
       "}\n",
       "\n",
       "#sk-container-id-2 div.sk-parallel {\n",
       "  display: flex;\n",
       "  align-items: stretch;\n",
       "  justify-content: center;\n",
       "  background-color: var(--sklearn-color-background);\n",
       "  position: relative;\n",
       "}\n",
       "\n",
       "#sk-container-id-2 div.sk-parallel-item {\n",
       "  display: flex;\n",
       "  flex-direction: column;\n",
       "}\n",
       "\n",
       "#sk-container-id-2 div.sk-parallel-item:first-child::after {\n",
       "  align-self: flex-end;\n",
       "  width: 50%;\n",
       "}\n",
       "\n",
       "#sk-container-id-2 div.sk-parallel-item:last-child::after {\n",
       "  align-self: flex-start;\n",
       "  width: 50%;\n",
       "}\n",
       "\n",
       "#sk-container-id-2 div.sk-parallel-item:only-child::after {\n",
       "  width: 0;\n",
       "}\n",
       "\n",
       "/* Serial-specific style estimator block */\n",
       "\n",
       "#sk-container-id-2 div.sk-serial {\n",
       "  display: flex;\n",
       "  flex-direction: column;\n",
       "  align-items: center;\n",
       "  background-color: var(--sklearn-color-background);\n",
       "  padding-right: 1em;\n",
       "  padding-left: 1em;\n",
       "}\n",
       "\n",
       "\n",
       "/* Toggleable style: style used for estimator/Pipeline/ColumnTransformer box that is\n",
       "clickable and can be expanded/collapsed.\n",
       "- Pipeline and ColumnTransformer use this feature and define the default style\n",
       "- Estimators will overwrite some part of the style using the `sk-estimator` class\n",
       "*/\n",
       "\n",
       "/* Pipeline and ColumnTransformer style (default) */\n",
       "\n",
       "#sk-container-id-2 div.sk-toggleable {\n",
       "  /* Default theme specific background. It is overwritten whether we have a\n",
       "  specific estimator or a Pipeline/ColumnTransformer */\n",
       "  background-color: var(--sklearn-color-background);\n",
       "}\n",
       "\n",
       "/* Toggleable label */\n",
       "#sk-container-id-2 label.sk-toggleable__label {\n",
       "  cursor: pointer;\n",
       "  display: block;\n",
       "  width: 100%;\n",
       "  margin-bottom: 0;\n",
       "  padding: 0.5em;\n",
       "  box-sizing: border-box;\n",
       "  text-align: center;\n",
       "}\n",
       "\n",
       "#sk-container-id-2 label.sk-toggleable__label-arrow:before {\n",
       "  /* Arrow on the left of the label */\n",
       "  content: \"▸\";\n",
       "  float: left;\n",
       "  margin-right: 0.25em;\n",
       "  color: var(--sklearn-color-icon);\n",
       "}\n",
       "\n",
       "#sk-container-id-2 label.sk-toggleable__label-arrow:hover:before {\n",
       "  color: var(--sklearn-color-text);\n",
       "}\n",
       "\n",
       "/* Toggleable content - dropdown */\n",
       "\n",
       "#sk-container-id-2 div.sk-toggleable__content {\n",
       "  max-height: 0;\n",
       "  max-width: 0;\n",
       "  overflow: hidden;\n",
       "  text-align: left;\n",
       "  /* unfitted */\n",
       "  background-color: var(--sklearn-color-unfitted-level-0);\n",
       "}\n",
       "\n",
       "#sk-container-id-2 div.sk-toggleable__content.fitted {\n",
       "  /* fitted */\n",
       "  background-color: var(--sklearn-color-fitted-level-0);\n",
       "}\n",
       "\n",
       "#sk-container-id-2 div.sk-toggleable__content pre {\n",
       "  margin: 0.2em;\n",
       "  border-radius: 0.25em;\n",
       "  color: var(--sklearn-color-text);\n",
       "  /* unfitted */\n",
       "  background-color: var(--sklearn-color-unfitted-level-0);\n",
       "}\n",
       "\n",
       "#sk-container-id-2 div.sk-toggleable__content.fitted pre {\n",
       "  /* unfitted */\n",
       "  background-color: var(--sklearn-color-fitted-level-0);\n",
       "}\n",
       "\n",
       "#sk-container-id-2 input.sk-toggleable__control:checked~div.sk-toggleable__content {\n",
       "  /* Expand drop-down */\n",
       "  max-height: 200px;\n",
       "  max-width: 100%;\n",
       "  overflow: auto;\n",
       "}\n",
       "\n",
       "#sk-container-id-2 input.sk-toggleable__control:checked~label.sk-toggleable__label-arrow:before {\n",
       "  content: \"▾\";\n",
       "}\n",
       "\n",
       "/* Pipeline/ColumnTransformer-specific style */\n",
       "\n",
       "#sk-container-id-2 div.sk-label input.sk-toggleable__control:checked~label.sk-toggleable__label {\n",
       "  color: var(--sklearn-color-text);\n",
       "  background-color: var(--sklearn-color-unfitted-level-2);\n",
       "}\n",
       "\n",
       "#sk-container-id-2 div.sk-label.fitted input.sk-toggleable__control:checked~label.sk-toggleable__label {\n",
       "  background-color: var(--sklearn-color-fitted-level-2);\n",
       "}\n",
       "\n",
       "/* Estimator-specific style */\n",
       "\n",
       "/* Colorize estimator box */\n",
       "#sk-container-id-2 div.sk-estimator input.sk-toggleable__control:checked~label.sk-toggleable__label {\n",
       "  /* unfitted */\n",
       "  background-color: var(--sklearn-color-unfitted-level-2);\n",
       "}\n",
       "\n",
       "#sk-container-id-2 div.sk-estimator.fitted input.sk-toggleable__control:checked~label.sk-toggleable__label {\n",
       "  /* fitted */\n",
       "  background-color: var(--sklearn-color-fitted-level-2);\n",
       "}\n",
       "\n",
       "#sk-container-id-2 div.sk-label label.sk-toggleable__label,\n",
       "#sk-container-id-2 div.sk-label label {\n",
       "  /* The background is the default theme color */\n",
       "  color: var(--sklearn-color-text-on-default-background);\n",
       "}\n",
       "\n",
       "/* On hover, darken the color of the background */\n",
       "#sk-container-id-2 div.sk-label:hover label.sk-toggleable__label {\n",
       "  color: var(--sklearn-color-text);\n",
       "  background-color: var(--sklearn-color-unfitted-level-2);\n",
       "}\n",
       "\n",
       "/* Label box, darken color on hover, fitted */\n",
       "#sk-container-id-2 div.sk-label.fitted:hover label.sk-toggleable__label.fitted {\n",
       "  color: var(--sklearn-color-text);\n",
       "  background-color: var(--sklearn-color-fitted-level-2);\n",
       "}\n",
       "\n",
       "/* Estimator label */\n",
       "\n",
       "#sk-container-id-2 div.sk-label label {\n",
       "  font-family: monospace;\n",
       "  font-weight: bold;\n",
       "  display: inline-block;\n",
       "  line-height: 1.2em;\n",
       "}\n",
       "\n",
       "#sk-container-id-2 div.sk-label-container {\n",
       "  text-align: center;\n",
       "}\n",
       "\n",
       "/* Estimator-specific */\n",
       "#sk-container-id-2 div.sk-estimator {\n",
       "  font-family: monospace;\n",
       "  border: 1px dotted var(--sklearn-color-border-box);\n",
       "  border-radius: 0.25em;\n",
       "  box-sizing: border-box;\n",
       "  margin-bottom: 0.5em;\n",
       "  /* unfitted */\n",
       "  background-color: var(--sklearn-color-unfitted-level-0);\n",
       "}\n",
       "\n",
       "#sk-container-id-2 div.sk-estimator.fitted {\n",
       "  /* fitted */\n",
       "  background-color: var(--sklearn-color-fitted-level-0);\n",
       "}\n",
       "\n",
       "/* on hover */\n",
       "#sk-container-id-2 div.sk-estimator:hover {\n",
       "  /* unfitted */\n",
       "  background-color: var(--sklearn-color-unfitted-level-2);\n",
       "}\n",
       "\n",
       "#sk-container-id-2 div.sk-estimator.fitted:hover {\n",
       "  /* fitted */\n",
       "  background-color: var(--sklearn-color-fitted-level-2);\n",
       "}\n",
       "\n",
       "/* Specification for estimator info (e.g. \"i\" and \"?\") */\n",
       "\n",
       "/* Common style for \"i\" and \"?\" */\n",
       "\n",
       ".sk-estimator-doc-link,\n",
       "a:link.sk-estimator-doc-link,\n",
       "a:visited.sk-estimator-doc-link {\n",
       "  float: right;\n",
       "  font-size: smaller;\n",
       "  line-height: 1em;\n",
       "  font-family: monospace;\n",
       "  background-color: var(--sklearn-color-background);\n",
       "  border-radius: 1em;\n",
       "  height: 1em;\n",
       "  width: 1em;\n",
       "  text-decoration: none !important;\n",
       "  margin-left: 1ex;\n",
       "  /* unfitted */\n",
       "  border: var(--sklearn-color-unfitted-level-1) 1pt solid;\n",
       "  color: var(--sklearn-color-unfitted-level-1);\n",
       "}\n",
       "\n",
       ".sk-estimator-doc-link.fitted,\n",
       "a:link.sk-estimator-doc-link.fitted,\n",
       "a:visited.sk-estimator-doc-link.fitted {\n",
       "  /* fitted */\n",
       "  border: var(--sklearn-color-fitted-level-1) 1pt solid;\n",
       "  color: var(--sklearn-color-fitted-level-1);\n",
       "}\n",
       "\n",
       "/* On hover */\n",
       "div.sk-estimator:hover .sk-estimator-doc-link:hover,\n",
       ".sk-estimator-doc-link:hover,\n",
       "div.sk-label-container:hover .sk-estimator-doc-link:hover,\n",
       ".sk-estimator-doc-link:hover {\n",
       "  /* unfitted */\n",
       "  background-color: var(--sklearn-color-unfitted-level-3);\n",
       "  color: var(--sklearn-color-background);\n",
       "  text-decoration: none;\n",
       "}\n",
       "\n",
       "div.sk-estimator.fitted:hover .sk-estimator-doc-link.fitted:hover,\n",
       ".sk-estimator-doc-link.fitted:hover,\n",
       "div.sk-label-container:hover .sk-estimator-doc-link.fitted:hover,\n",
       ".sk-estimator-doc-link.fitted:hover {\n",
       "  /* fitted */\n",
       "  background-color: var(--sklearn-color-fitted-level-3);\n",
       "  color: var(--sklearn-color-background);\n",
       "  text-decoration: none;\n",
       "}\n",
       "\n",
       "/* Span, style for the box shown on hovering the info icon */\n",
       ".sk-estimator-doc-link span {\n",
       "  display: none;\n",
       "  z-index: 9999;\n",
       "  position: relative;\n",
       "  font-weight: normal;\n",
       "  right: .2ex;\n",
       "  padding: .5ex;\n",
       "  margin: .5ex;\n",
       "  width: min-content;\n",
       "  min-width: 20ex;\n",
       "  max-width: 50ex;\n",
       "  color: var(--sklearn-color-text);\n",
       "  box-shadow: 2pt 2pt 4pt #999;\n",
       "  /* unfitted */\n",
       "  background: var(--sklearn-color-unfitted-level-0);\n",
       "  border: .5pt solid var(--sklearn-color-unfitted-level-3);\n",
       "}\n",
       "\n",
       ".sk-estimator-doc-link.fitted span {\n",
       "  /* fitted */\n",
       "  background: var(--sklearn-color-fitted-level-0);\n",
       "  border: var(--sklearn-color-fitted-level-3);\n",
       "}\n",
       "\n",
       ".sk-estimator-doc-link:hover span {\n",
       "  display: block;\n",
       "}\n",
       "\n",
       "/* \"?\"-specific style due to the `<a>` HTML tag */\n",
       "\n",
       "#sk-container-id-2 a.estimator_doc_link {\n",
       "  float: right;\n",
       "  font-size: 1rem;\n",
       "  line-height: 1em;\n",
       "  font-family: monospace;\n",
       "  background-color: var(--sklearn-color-background);\n",
       "  border-radius: 1rem;\n",
       "  height: 1rem;\n",
       "  width: 1rem;\n",
       "  text-decoration: none;\n",
       "  /* unfitted */\n",
       "  color: var(--sklearn-color-unfitted-level-1);\n",
       "  border: var(--sklearn-color-unfitted-level-1) 1pt solid;\n",
       "}\n",
       "\n",
       "#sk-container-id-2 a.estimator_doc_link.fitted {\n",
       "  /* fitted */\n",
       "  border: var(--sklearn-color-fitted-level-1) 1pt solid;\n",
       "  color: var(--sklearn-color-fitted-level-1);\n",
       "}\n",
       "\n",
       "/* On hover */\n",
       "#sk-container-id-2 a.estimator_doc_link:hover {\n",
       "  /* unfitted */\n",
       "  background-color: var(--sklearn-color-unfitted-level-3);\n",
       "  color: var(--sklearn-color-background);\n",
       "  text-decoration: none;\n",
       "}\n",
       "\n",
       "#sk-container-id-2 a.estimator_doc_link.fitted:hover {\n",
       "  /* fitted */\n",
       "  background-color: var(--sklearn-color-fitted-level-3);\n",
       "}\n",
       "</style><div id=\"sk-container-id-2\" class=\"sk-top-container\"><div class=\"sk-text-repr-fallback\"><pre>LogisticRegression()</pre><b>In a Jupyter environment, please rerun this cell to show the HTML representation or trust the notebook. <br />On GitHub, the HTML representation is unable to render, please try loading this page with nbviewer.org.</b></div><div class=\"sk-container\" hidden><div class=\"sk-item\"><div class=\"sk-estimator fitted sk-toggleable\"><input class=\"sk-toggleable__control sk-hidden--visually\" id=\"sk-estimator-id-2\" type=\"checkbox\" checked><label for=\"sk-estimator-id-2\" class=\"sk-toggleable__label fitted sk-toggleable__label-arrow fitted\">&nbsp;&nbsp;LogisticRegression<a class=\"sk-estimator-doc-link fitted\" rel=\"noreferrer\" target=\"_blank\" href=\"https://scikit-learn.org/1.5/modules/generated/sklearn.linear_model.LogisticRegression.html\">?<span>Documentation for LogisticRegression</span></a><span class=\"sk-estimator-doc-link fitted\">i<span>Fitted</span></span></label><div class=\"sk-toggleable__content fitted\"><pre>LogisticRegression()</pre></div> </div></div></div></div>"
      ],
      "text/plain": [
       "LogisticRegression()"
      ]
     },
     "execution_count": 33,
     "metadata": {},
     "output_type": "execute_result"
    }
   ],
   "source": [
    "logreg2 = LogisticRegression()   # instantiate an object lr\n",
    "\n",
    "logreg2.fit(X_train_over, y_train_over)    # Train the model using the training sets"
   ]
  },
  {
   "cell_type": "code",
   "execution_count": 34,
   "id": "a936d2ed-93f6-4174-b6a8-fc021709a1cc",
   "metadata": {},
   "outputs": [],
   "source": [
    "# Predict on the test data set\n",
    "y_pred2 = logreg2.predict(X_test)"
   ]
  },
  {
   "cell_type": "code",
   "execution_count": 35,
   "id": "67f4e4a7-bccf-475b-a857-bc5139888777",
   "metadata": {},
   "outputs": [
    {
     "data": {
      "text/plain": [
       "array([0, 0, 0, 0, 0], dtype=int64)"
      ]
     },
     "execution_count": 35,
     "metadata": {},
     "output_type": "execute_result"
    }
   ],
   "source": [
    "logreg2.predict(X_test)[0:5]"
   ]
  },
  {
   "cell_type": "code",
   "execution_count": 36,
   "id": "e8a4a2e0-fe4f-45ba-b1b7-726c16172024",
   "metadata": {},
   "outputs": [
    {
     "name": "stdout",
     "output_type": "stream",
     "text": [
      "Number of coefficients: 1\n",
      "Estimated coefficients: [[ -0.59385138  -0.18664779  -0.69213746  -0.03447168 -29.83719561]]\n",
      "Estimated intercept: [-59.36271466]\n"
     ]
    }
   ],
   "source": [
    "print(\"Number of coefficients:\", len(logreg2.coef_))\n",
    "print(\"Estimated coefficients: {}\".format(logreg2.coef_))\n",
    "print(\"Estimated intercept: {}\".format(logreg2.intercept_))"
   ]
  },
  {
   "cell_type": "markdown",
   "id": "ebf9b6f7-d3f9-4bac-a2f2-2fc8aacf557d",
   "metadata": {},
   "source": [
    "### Evaluate logistic regression model"
   ]
  },
  {
   "cell_type": "markdown",
   "id": "d09bc9a6-fa51-480a-8107-b9357ea5d8a1",
   "metadata": {},
   "source": [
    "#### RMS"
   ]
  },
  {
   "cell_type": "code",
   "execution_count": 37,
   "id": "5705d7e5-f6e9-457e-8a0e-c5e1e1795302",
   "metadata": {},
   "outputs": [
    {
     "name": "stdout",
     "output_type": "stream",
     "text": [
      "RMSE value : 0.06\n"
     ]
    }
   ],
   "source": [
    "mse = mean_squared_error(y_test, y_pred2)\n",
    "rmse = np.sqrt(mse)\n",
    "print(\"RMSE value : {:.2f}\".format(rmse))"
   ]
  },
  {
   "cell_type": "markdown",
   "id": "48ff7665-278e-47b4-a310-58720695877c",
   "metadata": {},
   "source": [
    "#### R2"
   ]
  },
  {
   "cell_type": "code",
   "execution_count": 38,
   "id": "57172510-f45d-4eca-96b4-c33430e80b47",
   "metadata": {},
   "outputs": [
    {
     "name": "stdout",
     "output_type": "stream",
     "text": [
      "R2 Score value: -0.41\n"
     ]
    }
   ],
   "source": [
    "print(\"R2 Score value: {:.2f}\".format(r2_score(y_test, y_pred2)))"
   ]
  },
  {
   "cell_type": "code",
   "execution_count": 39,
   "id": "b9834972-6840-4924-a07e-b71a15bce64c",
   "metadata": {},
   "outputs": [
    {
     "name": "stdout",
     "output_type": "stream",
     "text": [
      "Training set score: 1.00\n"
     ]
    }
   ],
   "source": [
    "print(\"Training set score: {:.2f}\".format(logreg2.score(X_train_over, y_train_over)))"
   ]
  },
  {
   "cell_type": "code",
   "execution_count": 40,
   "id": "150a5084-4b8c-42c4-a70c-3cd197acac00",
   "metadata": {},
   "outputs": [
    {
     "name": "stdout",
     "output_type": "stream",
     "text": [
      "Test set score: 1.00\n"
     ]
    }
   ],
   "source": [
    "print(\"Test set score: {:.2f}\".format(logreg2.score(X_test, y_test)))"
   ]
  },
  {
   "cell_type": "markdown",
   "id": "3b934559-fb4b-4c13-96f9-f6dbcd54205f",
   "metadata": {},
   "source": [
    "#### Cross-validation"
   ]
  },
  {
   "cell_type": "code",
   "execution_count": 41,
   "id": "f968e5c9-5986-45a7-b4ac-abd098d19594",
   "metadata": {},
   "outputs": [],
   "source": [
    "# Compute 5-fold cross-validation scores: cv_scores\n",
    "cv_scores = cross_val_score(logreg2, X, y, cv=5)"
   ]
  },
  {
   "cell_type": "code",
   "execution_count": 42,
   "id": "bf3f1ebb-0392-4fae-bb01-c3d56f9739a8",
   "metadata": {},
   "outputs": [
    {
     "name": "stdout",
     "output_type": "stream",
     "text": [
      "[0.9992 0.9988 0.9985 0.9981 0.9687]\n"
     ]
    }
   ],
   "source": [
    "# print the 5-fold cross-validation scores\n",
    "print(cv_scores.round(4))"
   ]
  },
  {
   "cell_type": "code",
   "execution_count": 43,
   "id": "fff64083-3b70-4a42-aa0f-f1ff96065821",
   "metadata": {},
   "outputs": [
    {
     "name": "stdout",
     "output_type": "stream",
     "text": [
      "Average 5-Fold CV Score: 0.9927\n"
     ]
    }
   ],
   "source": [
    "# print the avarage 5-fold cross-validation scores\n",
    "print(\"Average 5-Fold CV Score: {}\".format(np.mean(cv_scores).round(4)))"
   ]
  },
  {
   "cell_type": "code",
   "execution_count": 44,
   "id": "4ced5445-9aec-46a7-89c0-967b1e1ba194",
   "metadata": {},
   "outputs": [
    {
     "name": "stdout",
     "output_type": "stream",
     "text": [
      "[[27408   103]\n",
      " [    0    73]]\n"
     ]
    }
   ],
   "source": [
    "print(metrics.confusion_matrix(y_test, y_pred2))"
   ]
  },
  {
   "cell_type": "code",
   "execution_count": 45,
   "id": "d0bbcd0d-fa87-4270-9dd0-d7fc264db3e4",
   "metadata": {},
   "outputs": [
    {
     "name": "stdout",
     "output_type": "stream",
     "text": [
      "Precision metric: 0.71\n",
      "Recall Metric: 1.0\n",
      "Accuracy Metric: 0.9963\n",
      "F1 score: 0.79\n"
     ]
    }
   ],
   "source": [
    "precision_metric_macro = precision_score(y_test, y_pred2, average = \"macro\")\n",
    "recall_metric_macro = recall_score(y_test, y_pred2, average = \"macro\")\n",
    "accuracy_metric = accuracy_score(y_test, y_pred2)\n",
    "f1_metric_macro = f1_score(y_test, y_pred2, average = \"macro\")\n",
    "    \n",
    "print('Precision metric:',round(precision_metric_macro, 2))\n",
    "print('Recall Metric:',round(recall_metric_macro, 2))\n",
    "print('Accuracy Metric:',round(accuracy_metric, 4))\n",
    "print('F1 score:',round(f1_metric_macro, 2))"
   ]
  },
  {
   "cell_type": "code",
   "execution_count": 46,
   "id": "6dbc7773-46b8-4bde-b877-130f11fa2fc5",
   "metadata": {},
   "outputs": [
    {
     "name": "stdout",
     "output_type": "stream",
     "text": [
      "Precision metric: 0.71\n",
      "Recall Metric: 1.0\n",
      "F1 score: 1.0\n"
     ]
    }
   ],
   "source": [
    "precision_metric_micro = precision_score(y_test, y_pred2, average = \"micro\")\n",
    "recall_metric_micro = recall_score(y_test, y_pred2, average = \"micro\")\n",
    "f1_metric_micro = f1_score(y_test, y_pred2, average = \"micro\")\n",
    "    \n",
    "print('Precision metric:',round(precision_metric_macro, 2))\n",
    "print('Recall Metric:',round(recall_metric_micro, 2))\n",
    "print('F1 score:',round(f1_metric_micro, 2))"
   ]
  },
  {
   "cell_type": "code",
   "execution_count": 47,
   "id": "a5b5da49-9149-4c6f-9a78-0c63cd848d03",
   "metadata": {},
   "outputs": [
    {
     "name": "stdout",
     "output_type": "stream",
     "text": [
      "Precision metric: 1.0\n",
      "Recall Metric: 0.99\n",
      "F1 score: 1.0\n"
     ]
    }
   ],
   "source": [
    "precision_metric_weighted = precision_score(y_test, y_pred2, average = \"weighted\")\n",
    "recall_metric_weighted = recall_score(y_pred2, y_pred, average = \"weighted\")\n",
    "f1_metric_weighted = f1_score(y_test, y_pred2, average = \"weighted\")\n",
    "    \n",
    "print('Precision metric:',round(precision_metric_weighted, 2))\n",
    "print('Recall Metric:',round(recall_metric_weighted, 2))\n",
    "print('F1 score:',round(f1_metric_weighted, 2))"
   ]
  },
  {
   "cell_type": "markdown",
   "id": "eea724aa-bfa2-4474-997c-7dbcb68e3bc1",
   "metadata": {},
   "source": [
    "### Plotting Residual Error"
   ]
  },
  {
   "cell_type": "code",
   "execution_count": 48,
   "id": "b12db7b7-f0da-4f84-a47f-c1a3a34bcb00",
   "metadata": {},
   "outputs": [
    {
     "data": {
      "image/png": "[encoded data removed]",
      "text/plain": [
       "<Figure size 1000x800 with 1 Axes>"
      ]
     },
     "metadata": {},
     "output_type": "display_data"
    }
   ],
   "source": [
    "%matplotlib inline\n",
    "plt.figure(figsize=(10,8))\n",
    "\n",
    "# plotting residual errors in training data\n",
    "plt.scatter(logreg2.predict(X_train_over), logreg2.predict(X_train_over) - y_train_over, c = 'g', s = 40, label = 'Train data', alpha = 0.5)\n",
    "\n",
    "# plotting residual errors in test data\n",
    "plt.scatter(logreg2.predict(X_test), logreg2.predict(X_test) - y_test, c = 'r', s = 40, label = 'Test data')\n",
    "\n",
    "# plotting line for zero residual error\n",
    "plt.hlines(y = 0, xmin = -1, xmax = 2, linewidth = 3)\n",
    "\n",
    "# plotting legend\n",
    "plt.legend(loc = 'upper right')\n",
    "\n",
    "# plot title\n",
    "plt.title(\"Residual errors plot\")\n",
    "\n",
    "# function to show plot\n",
    "plt.show()"
   ]
  },
  {
   "cell_type": "markdown",
   "id": "42d98617-f05c-4e91-8120-285c48f4ef0d",
   "metadata": {},
   "source": [
    "## Validation in Practice: Grid Search"
   ]
  },
  {
   "cell_type": "code",
   "execution_count": 69,
   "id": "f11e402a-1c42-4d81-8cb7-ac4b4ff8bb78",
   "metadata": {},
   "outputs": [],
   "source": [
    "param_grid = {\n",
    "    'penalty': ['l2', 'elasticnet'],  # Regularization penalty types\n",
    "    'C': [ 1, 10, 20],  # Regularization strength (inverse)\n",
    "    'solver': ['newton-cg', 'lbfgs', 'liblinear', 'saga'],  # Solvers for optimization\n",
    "    'max_iter': [300, 500],  # Maximum number of iterations for convergence\n",
    "    'l1_ratio': [0, 0.5, 1]  # Only used with 'elasticnet' penalty\n",
    "}\n",
    "\n",
    "# Initialize logistic regression model\n",
    "logreg = LogisticRegression()\n",
    "\n",
    "# Initialize GridSearchCV with logistic regression and the parameter grid\n",
    "grid_search = GridSearchCV(estimator=logreg, param_grid=param_grid, cv=5, scoring='accuracy', verbose = 5)"
   ]
  },
  {
   "cell_type": "code",
   "execution_count": 70,
   "id": "26eeb0f5-8e38-47a7-ae18-cbefe0a796e2",
   "metadata": {},
   "outputs": [],
   "source": [
    "import warnings\n",
    "warnings.filterwarnings(\"ignore\")"
   ]
  },
  {
   "cell_type": "code",
   "execution_count": 68,
   "id": "2a364e5a-4fcd-4eb0-9c5e-2606308c3506",
   "metadata": {
    "scrolled": true
   },
   "outputs": [
    {
     "name": "stdout",
     "output_type": "stream",
     "text": [
      "Fitting 5 folds for each of 144 candidates, totalling 720 fits\n",
      "Execution time: 318.95 seconds\n"
     ]
    }
   ],
   "source": [
    "start_time = time.time() \n",
    "grid_search.fit(X_train, y_train)\n",
    "end_time = time.time()\n",
    "execution_time = end_time - start_time\n",
    "print(f\"Execution time: {execution_time:.2f} seconds\")       #Execution time: 318.95 seconds"
   ]
  },
  {
   "cell_type": "code",
   "execution_count": 71,
   "id": "e5226c30-8a21-4bb0-b2fd-708a9dc1945c",
   "metadata": {
    "scrolled": true
   },
   "outputs": [
    {
     "name": "stdout",
     "output_type": "stream",
     "text": [
      "Fitting 5 folds for each of 144 candidates, totalling 720 fits\n",
      "[CV 1/5] END C=1, l1_ratio=0, max_iter=300, penalty=l2, solver=newton-cg;, score=0.998 total time=   0.1s\n",
      "[CV 2/5] END C=1, l1_ratio=0, max_iter=300, penalty=l2, solver=newton-cg;, score=0.999 total time=   0.1s\n",
      "[CV 3/5] END C=1, l1_ratio=0, max_iter=300, penalty=l2, solver=newton-cg;, score=0.999 total time=   0.1s\n",
      "[CV 4/5] END C=1, l1_ratio=0, max_iter=300, penalty=l2, solver=newton-cg;, score=0.998 total time=   0.1s\n",
      "[CV 5/5] END C=1, l1_ratio=0, max_iter=300, penalty=l2, solver=newton-cg;, score=0.999 total time=   0.1s\n",
      "[CV 1/5] END C=1, l1_ratio=0, max_iter=300, penalty=l2, solver=lbfgs;, score=0.999 total time=   0.0s\n",
      "[CV 2/5] END C=1, l1_ratio=0, max_iter=300, penalty=l2, solver=lbfgs;, score=0.999 total time=   0.0s\n",
      "[CV 3/5] END C=1, l1_ratio=0, max_iter=300, penalty=l2, solver=lbfgs;, score=0.999 total time=   0.0s\n",
      "[CV 4/5] END C=1, l1_ratio=0, max_iter=300, penalty=l2, solver=lbfgs;, score=0.999 total time=   0.0s\n",
      "[CV 5/5] END C=1, l1_ratio=0, max_iter=300, penalty=l2, solver=lbfgs;, score=0.999 total time=   0.0s\n",
      "[CV 1/5] END C=1, l1_ratio=0, max_iter=300, penalty=l2, solver=liblinear;, score=0.998 total time=   0.1s\n",
      "[CV 2/5] END C=1, l1_ratio=0, max_iter=300, penalty=l2, solver=liblinear;, score=0.998 total time=   0.0s\n",
      "[CV 3/5] END C=1, l1_ratio=0, max_iter=300, penalty=l2, solver=liblinear;, score=0.998 total time=   0.0s\n",
      "[CV 4/5] END C=1, l1_ratio=0, max_iter=300, penalty=l2, solver=liblinear;, score=0.998 total time=   0.0s\n",
      "[CV 5/5] END C=1, l1_ratio=0, max_iter=300, penalty=l2, solver=liblinear;, score=0.998 total time=   0.1s\n",
      "[CV 1/5] END C=1, l1_ratio=0, max_iter=300, penalty=l2, solver=saga;, score=0.998 total time=   2.1s\n",
      "[CV 2/5] END C=1, l1_ratio=0, max_iter=300, penalty=l2, solver=saga;, score=0.998 total time=   2.1s\n",
      "[CV 3/5] END C=1, l1_ratio=0, max_iter=300, penalty=l2, solver=saga;, score=0.998 total time=   2.0s\n",
      "[CV 4/5] END C=1, l1_ratio=0, max_iter=300, penalty=l2, solver=saga;, score=0.998 total time=   2.2s\n",
      "[CV 5/5] END C=1, l1_ratio=0, max_iter=300, penalty=l2, solver=saga;, score=0.998 total time=   2.2s\n",
      "[CV 1/5] END C=1, l1_ratio=0, max_iter=300, penalty=elasticnet, solver=newton-cg;, score=nan total time=   0.0s\n",
      "[CV 2/5] END C=1, l1_ratio=0, max_iter=300, penalty=elasticnet, solver=newton-cg;, score=nan total time=   0.0s\n",
      "[CV 3/5] END C=1, l1_ratio=0, max_iter=300, penalty=elasticnet, solver=newton-cg;, score=nan total time=   0.0s\n",
      "[CV 4/5] END C=1, l1_ratio=0, max_iter=300, penalty=elasticnet, solver=newton-cg;, score=nan total time=   0.0s\n",
      "[CV 5/5] END C=1, l1_ratio=0, max_iter=300, penalty=elasticnet, solver=newton-cg;, score=nan total time=   0.0s\n",
      "[CV 1/5] END C=1, l1_ratio=0, max_iter=300, penalty=elasticnet, solver=lbfgs;, score=nan total time=   0.0s\n",
      "[CV 2/5] END C=1, l1_ratio=0, max_iter=300, penalty=elasticnet, solver=lbfgs;, score=nan total time=   0.0s\n",
      "[CV 3/5] END C=1, l1_ratio=0, max_iter=300, penalty=elasticnet, solver=lbfgs;, score=nan total time=   0.0s\n",
      "[CV 4/5] END C=1, l1_ratio=0, max_iter=300, penalty=elasticnet, solver=lbfgs;, score=nan total time=   0.0s\n",
      "[CV 5/5] END C=1, l1_ratio=0, max_iter=300, penalty=elasticnet, solver=lbfgs;, score=nan total time=   0.0s\n",
      "[CV 1/5] END C=1, l1_ratio=0, max_iter=300, penalty=elasticnet, solver=liblinear;, score=nan total time=   0.0s\n",
      "[CV 2/5] END C=1, l1_ratio=0, max_iter=300, penalty=elasticnet, solver=liblinear;, score=nan total time=   0.0s\n",
      "[CV 3/5] END C=1, l1_ratio=0, max_iter=300, penalty=elasticnet, solver=liblinear;, score=nan total time=   0.0s\n",
      "[CV 4/5] END C=1, l1_ratio=0, max_iter=300, penalty=elasticnet, solver=liblinear;, score=nan total time=   0.0s\n",
      "[CV 5/5] END C=1, l1_ratio=0, max_iter=300, penalty=elasticnet, solver=liblinear;, score=nan total time=   0.0s\n",
      "[CV 1/5] END C=1, l1_ratio=0, max_iter=300, penalty=elasticnet, solver=saga;, score=0.998 total time=   2.1s\n",
      "[CV 2/5] END C=1, l1_ratio=0, max_iter=300, penalty=elasticnet, solver=saga;, score=0.998 total time=   2.7s\n",
      "[CV 3/5] END C=1, l1_ratio=0, max_iter=300, penalty=elasticnet, solver=saga;, score=0.998 total time=   2.2s\n",
      "[CV 4/5] END C=1, l1_ratio=0, max_iter=300, penalty=elasticnet, solver=saga;, score=0.998 total time=   2.2s\n",
      "[CV 5/5] END C=1, l1_ratio=0, max_iter=300, penalty=elasticnet, solver=saga;, score=0.998 total time=   2.1s\n",
      "[CV 1/5] END C=1, l1_ratio=0, max_iter=500, penalty=l2, solver=newton-cg;, score=0.998 total time=   0.0s\n",
      "[CV 2/5] END C=1, l1_ratio=0, max_iter=500, penalty=l2, solver=newton-cg;, score=0.999 total time=   0.0s\n",
      "[CV 3/5] END C=1, l1_ratio=0, max_iter=500, penalty=l2, solver=newton-cg;, score=0.999 total time=   0.0s\n",
      "[CV 4/5] END C=1, l1_ratio=0, max_iter=500, penalty=l2, solver=newton-cg;, score=0.998 total time=   0.0s\n",
      "[CV 5/5] END C=1, l1_ratio=0, max_iter=500, penalty=l2, solver=newton-cg;, score=0.999 total time=   0.0s\n",
      "[CV 1/5] END C=1, l1_ratio=0, max_iter=500, penalty=l2, solver=lbfgs;, score=0.999 total time=   0.0s\n",
      "[CV 2/5] END C=1, l1_ratio=0, max_iter=500, penalty=l2, solver=lbfgs;, score=0.999 total time=   0.0s\n",
      "[CV 3/5] END C=1, l1_ratio=0, max_iter=500, penalty=l2, solver=lbfgs;, score=0.999 total time=   0.0s\n",
      "[CV 4/5] END C=1, l1_ratio=0, max_iter=500, penalty=l2, solver=lbfgs;, score=0.999 total time=   0.0s\n",
      "[CV 5/5] END C=1, l1_ratio=0, max_iter=500, penalty=l2, solver=lbfgs;, score=0.999 total time=   0.0s\n",
      "[CV 1/5] END C=1, l1_ratio=0, max_iter=500, penalty=l2, solver=liblinear;, score=0.998 total time=   0.0s\n",
      "[CV 2/5] END C=1, l1_ratio=0, max_iter=500, penalty=l2, solver=liblinear;, score=0.998 total time=   0.1s\n",
      "[CV 3/5] END C=1, l1_ratio=0, max_iter=500, penalty=l2, solver=liblinear;, score=0.998 total time=   0.0s\n",
      "[CV 4/5] END C=1, l1_ratio=0, max_iter=500, penalty=l2, solver=liblinear;, score=0.998 total time=   0.0s\n",
      "[CV 5/5] END C=1, l1_ratio=0, max_iter=500, penalty=l2, solver=liblinear;, score=0.998 total time=   0.0s\n",
      "[CV 1/5] END C=1, l1_ratio=0, max_iter=500, penalty=l2, solver=saga;, score=0.998 total time=   3.8s\n",
      "[CV 2/5] END C=1, l1_ratio=0, max_iter=500, penalty=l2, solver=saga;, score=0.998 total time=   4.0s\n",
      "[CV 3/5] END C=1, l1_ratio=0, max_iter=500, penalty=l2, solver=saga;, score=0.998 total time=   3.6s\n",
      "[CV 4/5] END C=1, l1_ratio=0, max_iter=500, penalty=l2, solver=saga;, score=0.998 total time=   3.8s\n",
      "[CV 5/5] END C=1, l1_ratio=0, max_iter=500, penalty=l2, solver=saga;, score=0.998 total time=   3.5s\n",
      "[CV 1/5] END C=1, l1_ratio=0, max_iter=500, penalty=elasticnet, solver=newton-cg;, score=nan total time=   0.0s\n",
      "[CV 2/5] END C=1, l1_ratio=0, max_iter=500, penalty=elasticnet, solver=newton-cg;, score=nan total time=   0.0s\n",
      "[CV 3/5] END C=1, l1_ratio=0, max_iter=500, penalty=elasticnet, solver=newton-cg;, score=nan total time=   0.0s\n",
      "[CV 4/5] END C=1, l1_ratio=0, max_iter=500, penalty=elasticnet, solver=newton-cg;, score=nan total time=   0.0s\n",
      "[CV 5/5] END C=1, l1_ratio=0, max_iter=500, penalty=elasticnet, solver=newton-cg;, score=nan total time=   0.0s\n",
      "[CV 1/5] END C=1, l1_ratio=0, max_iter=500, penalty=elasticnet, solver=lbfgs;, score=nan total time=   0.0s\n",
      "[CV 2/5] END C=1, l1_ratio=0, max_iter=500, penalty=elasticnet, solver=lbfgs;, score=nan total time=   0.0s\n",
      "[CV 3/5] END C=1, l1_ratio=0, max_iter=500, penalty=elasticnet, solver=lbfgs;, score=nan total time=   0.0s\n",
      "[CV 4/5] END C=1, l1_ratio=0, max_iter=500, penalty=elasticnet, solver=lbfgs;, score=nan total time=   0.0s\n",
      "[CV 5/5] END C=1, l1_ratio=0, max_iter=500, penalty=elasticnet, solver=lbfgs;, score=nan total time=   0.0s\n",
      "[CV 1/5] END C=1, l1_ratio=0, max_iter=500, penalty=elasticnet, solver=liblinear;, score=nan total time=   0.0s\n",
      "[CV 2/5] END C=1, l1_ratio=0, max_iter=500, penalty=elasticnet, solver=liblinear;, score=nan total time=   0.0s\n",
      "[CV 3/5] END C=1, l1_ratio=0, max_iter=500, penalty=elasticnet, solver=liblinear;, score=nan total time=   0.0s\n",
      "[CV 4/5] END C=1, l1_ratio=0, max_iter=500, penalty=elasticnet, solver=liblinear;, score=nan total time=   0.0s\n",
      "[CV 5/5] END C=1, l1_ratio=0, max_iter=500, penalty=elasticnet, solver=liblinear;, score=nan total time=   0.0s\n",
      "[CV 1/5] END C=1, l1_ratio=0, max_iter=500, penalty=elasticnet, solver=saga;, score=0.998 total time=   4.1s\n",
      "[CV 2/5] END C=1, l1_ratio=0, max_iter=500, penalty=elasticnet, solver=saga;, score=0.998 total time=   4.3s\n",
      "[CV 3/5] END C=1, l1_ratio=0, max_iter=500, penalty=elasticnet, solver=saga;, score=0.998 total time=   3.8s\n",
      "[CV 4/5] END C=1, l1_ratio=0, max_iter=500, penalty=elasticnet, solver=saga;, score=0.998 total time=   3.8s\n",
      "[CV 5/5] END C=1, l1_ratio=0, max_iter=500, penalty=elasticnet, solver=saga;, score=0.998 total time=   4.3s\n",
      "[CV 1/5] END C=1, l1_ratio=0.5, max_iter=300, penalty=l2, solver=newton-cg;, score=0.998 total time=   0.0s\n",
      "[CV 2/5] END C=1, l1_ratio=0.5, max_iter=300, penalty=l2, solver=newton-cg;, score=0.999 total time=   0.1s\n",
      "[CV 3/5] END C=1, l1_ratio=0.5, max_iter=300, penalty=l2, solver=newton-cg;, score=0.999 total time=   0.0s\n",
      "[CV 4/5] END C=1, l1_ratio=0.5, max_iter=300, penalty=l2, solver=newton-cg;, score=0.998 total time=   0.0s\n",
      "[CV 5/5] END C=1, l1_ratio=0.5, max_iter=300, penalty=l2, solver=newton-cg;, score=0.999 total time=   0.0s\n",
      "[CV 1/5] END C=1, l1_ratio=0.5, max_iter=300, penalty=l2, solver=lbfgs;, score=0.999 total time=   0.0s\n",
      "[CV 2/5] END C=1, l1_ratio=0.5, max_iter=300, penalty=l2, solver=lbfgs;, score=0.999 total time=   0.0s\n",
      "[CV 3/5] END C=1, l1_ratio=0.5, max_iter=300, penalty=l2, solver=lbfgs;, score=0.999 total time=   0.0s\n",
      "[CV 4/5] END C=1, l1_ratio=0.5, max_iter=300, penalty=l2, solver=lbfgs;, score=0.999 total time=   0.0s\n",
      "[CV 5/5] END C=1, l1_ratio=0.5, max_iter=300, penalty=l2, solver=lbfgs;, score=0.999 total time=   0.0s\n",
      "[CV 1/5] END C=1, l1_ratio=0.5, max_iter=300, penalty=l2, solver=liblinear;, score=0.998 total time=   0.1s\n",
      "[CV 2/5] END C=1, l1_ratio=0.5, max_iter=300, penalty=l2, solver=liblinear;, score=0.998 total time=   0.0s\n",
      "[CV 3/5] END C=1, l1_ratio=0.5, max_iter=300, penalty=l2, solver=liblinear;, score=0.998 total time=   0.0s\n",
      "[CV 4/5] END C=1, l1_ratio=0.5, max_iter=300, penalty=l2, solver=liblinear;, score=0.998 total time=   0.0s\n",
      "[CV 5/5] END C=1, l1_ratio=0.5, max_iter=300, penalty=l2, solver=liblinear;, score=0.998 total time=   0.0s\n",
      "[CV 1/5] END C=1, l1_ratio=0.5, max_iter=300, penalty=l2, solver=saga;, score=0.998 total time=   2.3s\n",
      "[CV 2/5] END C=1, l1_ratio=0.5, max_iter=300, penalty=l2, solver=saga;, score=0.998 total time=   2.4s\n",
      "[CV 3/5] END C=1, l1_ratio=0.5, max_iter=300, penalty=l2, solver=saga;, score=0.998 total time=   2.3s\n",
      "[CV 4/5] END C=1, l1_ratio=0.5, max_iter=300, penalty=l2, solver=saga;, score=0.998 total time=   2.3s\n",
      "[CV 5/5] END C=1, l1_ratio=0.5, max_iter=300, penalty=l2, solver=saga;, score=0.998 total time=   2.5s\n",
      "[CV 1/5] END C=1, l1_ratio=0.5, max_iter=300, penalty=elasticnet, solver=newton-cg;, score=nan total time=   0.0s\n",
      "[CV 2/5] END C=1, l1_ratio=0.5, max_iter=300, penalty=elasticnet, solver=newton-cg;, score=nan total time=   0.0s\n",
      "[CV 3/5] END C=1, l1_ratio=0.5, max_iter=300, penalty=elasticnet, solver=newton-cg;, score=nan total time=   0.0s\n",
      "[CV 4/5] END C=1, l1_ratio=0.5, max_iter=300, penalty=elasticnet, solver=newton-cg;, score=nan total time=   0.0s\n",
      "[CV 5/5] END C=1, l1_ratio=0.5, max_iter=300, penalty=elasticnet, solver=newton-cg;, score=nan total time=   0.0s\n",
      "[CV 1/5] END C=1, l1_ratio=0.5, max_iter=300, penalty=elasticnet, solver=lbfgs;, score=nan total time=   0.0s\n",
      "[CV 2/5] END C=1, l1_ratio=0.5, max_iter=300, penalty=elasticnet, solver=lbfgs;, score=nan total time=   0.0s\n",
      "[CV 3/5] END C=1, l1_ratio=0.5, max_iter=300, penalty=elasticnet, solver=lbfgs;, score=nan total time=   0.0s\n",
      "[CV 4/5] END C=1, l1_ratio=0.5, max_iter=300, penalty=elasticnet, solver=lbfgs;, score=nan total time=   0.0s\n",
      "[CV 5/5] END C=1, l1_ratio=0.5, max_iter=300, penalty=elasticnet, solver=lbfgs;, score=nan total time=   0.0s\n",
      "[CV 1/5] END C=1, l1_ratio=0.5, max_iter=300, penalty=elasticnet, solver=liblinear;, score=nan total time=   0.0s\n",
      "[CV 2/5] END C=1, l1_ratio=0.5, max_iter=300, penalty=elasticnet, solver=liblinear;, score=nan total time=   0.0s\n",
      "[CV 3/5] END C=1, l1_ratio=0.5, max_iter=300, penalty=elasticnet, solver=liblinear;, score=nan total time=   0.0s\n",
      "[CV 4/5] END C=1, l1_ratio=0.5, max_iter=300, penalty=elasticnet, solver=liblinear;, score=nan total time=   0.0s\n",
      "[CV 5/5] END C=1, l1_ratio=0.5, max_iter=300, penalty=elasticnet, solver=liblinear;, score=nan total time=   0.0s\n",
      "[CV 1/5] END C=1, l1_ratio=0.5, max_iter=300, penalty=elasticnet, solver=saga;, score=0.998 total time=   3.0s\n",
      "[CV 2/5] END C=1, l1_ratio=0.5, max_iter=300, penalty=elasticnet, solver=saga;, score=0.998 total time=   2.6s\n",
      "[CV 3/5] END C=1, l1_ratio=0.5, max_iter=300, penalty=elasticnet, solver=saga;, score=0.998 total time=   2.9s\n",
      "[CV 4/5] END C=1, l1_ratio=0.5, max_iter=300, penalty=elasticnet, solver=saga;, score=0.998 total time=   2.8s\n",
      "[CV 5/5] END C=1, l1_ratio=0.5, max_iter=300, penalty=elasticnet, solver=saga;, score=0.998 total time=   2.8s\n",
      "[CV 1/5] END C=1, l1_ratio=0.5, max_iter=500, penalty=l2, solver=newton-cg;, score=0.998 total time=   0.1s\n",
      "[CV 2/5] END C=1, l1_ratio=0.5, max_iter=500, penalty=l2, solver=newton-cg;, score=0.999 total time=   0.1s\n",
      "[CV 3/5] END C=1, l1_ratio=0.5, max_iter=500, penalty=l2, solver=newton-cg;, score=0.999 total time=   0.1s\n",
      "[CV 4/5] END C=1, l1_ratio=0.5, max_iter=500, penalty=l2, solver=newton-cg;, score=0.998 total time=   0.1s\n",
      "[CV 5/5] END C=1, l1_ratio=0.5, max_iter=500, penalty=l2, solver=newton-cg;, score=0.999 total time=   0.0s\n",
      "[CV 1/5] END C=1, l1_ratio=0.5, max_iter=500, penalty=l2, solver=lbfgs;, score=0.999 total time=   0.0s\n",
      "[CV 2/5] END C=1, l1_ratio=0.5, max_iter=500, penalty=l2, solver=lbfgs;, score=0.999 total time=   0.0s\n",
      "[CV 3/5] END C=1, l1_ratio=0.5, max_iter=500, penalty=l2, solver=lbfgs;, score=0.999 total time=   0.0s\n",
      "[CV 4/5] END C=1, l1_ratio=0.5, max_iter=500, penalty=l2, solver=lbfgs;, score=0.999 total time=   0.0s\n",
      "[CV 5/5] END C=1, l1_ratio=0.5, max_iter=500, penalty=l2, solver=lbfgs;, score=0.999 total time=   0.0s\n",
      "[CV 1/5] END C=1, l1_ratio=0.5, max_iter=500, penalty=l2, solver=liblinear;, score=0.998 total time=   0.1s\n",
      "[CV 2/5] END C=1, l1_ratio=0.5, max_iter=500, penalty=l2, solver=liblinear;, score=0.998 total time=   0.0s\n",
      "[CV 3/5] END C=1, l1_ratio=0.5, max_iter=500, penalty=l2, solver=liblinear;, score=0.998 total time=   0.0s\n",
      "[CV 4/5] END C=1, l1_ratio=0.5, max_iter=500, penalty=l2, solver=liblinear;, score=0.998 total time=   0.1s\n",
      "[CV 5/5] END C=1, l1_ratio=0.5, max_iter=500, penalty=l2, solver=liblinear;, score=0.998 total time=   0.0s\n",
      "[CV 1/5] END C=1, l1_ratio=0.5, max_iter=500, penalty=l2, solver=saga;, score=0.998 total time=   3.8s\n",
      "[CV 2/5] END C=1, l1_ratio=0.5, max_iter=500, penalty=l2, solver=saga;, score=0.998 total time=   4.1s\n",
      "[CV 3/5] END C=1, l1_ratio=0.5, max_iter=500, penalty=l2, solver=saga;, score=0.998 total time=   4.0s\n",
      "[CV 4/5] END C=1, l1_ratio=0.5, max_iter=500, penalty=l2, solver=saga;, score=0.998 total time=   4.2s\n",
      "[CV 5/5] END C=1, l1_ratio=0.5, max_iter=500, penalty=l2, solver=saga;, score=0.998 total time=   3.8s\n",
      "[CV 1/5] END C=1, l1_ratio=0.5, max_iter=500, penalty=elasticnet, solver=newton-cg;, score=nan total time=   0.0s\n",
      "[CV 2/5] END C=1, l1_ratio=0.5, max_iter=500, penalty=elasticnet, solver=newton-cg;, score=nan total time=   0.0s\n",
      "[CV 3/5] END C=1, l1_ratio=0.5, max_iter=500, penalty=elasticnet, solver=newton-cg;, score=nan total time=   0.0s\n",
      "[CV 4/5] END C=1, l1_ratio=0.5, max_iter=500, penalty=elasticnet, solver=newton-cg;, score=nan total time=   0.0s\n",
      "[CV 5/5] END C=1, l1_ratio=0.5, max_iter=500, penalty=elasticnet, solver=newton-cg;, score=nan total time=   0.0s\n",
      "[CV 1/5] END C=1, l1_ratio=0.5, max_iter=500, penalty=elasticnet, solver=lbfgs;, score=nan total time=   0.0s\n",
      "[CV 2/5] END C=1, l1_ratio=0.5, max_iter=500, penalty=elasticnet, solver=lbfgs;, score=nan total time=   0.0s\n",
      "[CV 3/5] END C=1, l1_ratio=0.5, max_iter=500, penalty=elasticnet, solver=lbfgs;, score=nan total time=   0.0s\n",
      "[CV 4/5] END C=1, l1_ratio=0.5, max_iter=500, penalty=elasticnet, solver=lbfgs;, score=nan total time=   0.0s\n",
      "[CV 5/5] END C=1, l1_ratio=0.5, max_iter=500, penalty=elasticnet, solver=lbfgs;, score=nan total time=   0.0s\n",
      "[CV 1/5] END C=1, l1_ratio=0.5, max_iter=500, penalty=elasticnet, solver=liblinear;, score=nan total time=   0.0s\n",
      "[CV 2/5] END C=1, l1_ratio=0.5, max_iter=500, penalty=elasticnet, solver=liblinear;, score=nan total time=   0.0s\n",
      "[CV 3/5] END C=1, l1_ratio=0.5, max_iter=500, penalty=elasticnet, solver=liblinear;, score=nan total time=   0.0s\n",
      "[CV 4/5] END C=1, l1_ratio=0.5, max_iter=500, penalty=elasticnet, solver=liblinear;, score=nan total time=   0.0s\n",
      "[CV 5/5] END C=1, l1_ratio=0.5, max_iter=500, penalty=elasticnet, solver=liblinear;, score=nan total time=   0.0s\n",
      "[CV 1/5] END C=1, l1_ratio=0.5, max_iter=500, penalty=elasticnet, solver=saga;, score=0.998 total time=   4.7s\n",
      "[CV 2/5] END C=1, l1_ratio=0.5, max_iter=500, penalty=elasticnet, solver=saga;, score=0.998 total time=   5.1s\n",
      "[CV 3/5] END C=1, l1_ratio=0.5, max_iter=500, penalty=elasticnet, solver=saga;, score=0.998 total time=   5.5s\n",
      "[CV 4/5] END C=1, l1_ratio=0.5, max_iter=500, penalty=elasticnet, solver=saga;, score=0.998 total time=   4.7s\n",
      "[CV 5/5] END C=1, l1_ratio=0.5, max_iter=500, penalty=elasticnet, solver=saga;, score=0.998 total time=   4.5s\n",
      "[CV 1/5] END C=1, l1_ratio=1, max_iter=300, penalty=l2, solver=newton-cg;, score=0.998 total time=   0.0s\n",
      "[CV 2/5] END C=1, l1_ratio=1, max_iter=300, penalty=l2, solver=newton-cg;, score=0.999 total time=   0.0s\n",
      "[CV 3/5] END C=1, l1_ratio=1, max_iter=300, penalty=l2, solver=newton-cg;, score=0.999 total time=   0.0s\n",
      "[CV 4/5] END C=1, l1_ratio=1, max_iter=300, penalty=l2, solver=newton-cg;, score=0.998 total time=   0.1s\n",
      "[CV 5/5] END C=1, l1_ratio=1, max_iter=300, penalty=l2, solver=newton-cg;, score=0.999 total time=   0.1s\n",
      "[CV 1/5] END C=1, l1_ratio=1, max_iter=300, penalty=l2, solver=lbfgs;, score=0.999 total time=   0.0s\n",
      "[CV 2/5] END C=1, l1_ratio=1, max_iter=300, penalty=l2, solver=lbfgs;, score=0.999 total time=   0.0s\n",
      "[CV 3/5] END C=1, l1_ratio=1, max_iter=300, penalty=l2, solver=lbfgs;, score=0.999 total time=   0.0s\n",
      "[CV 4/5] END C=1, l1_ratio=1, max_iter=300, penalty=l2, solver=lbfgs;, score=0.999 total time=   0.0s\n",
      "[CV 5/5] END C=1, l1_ratio=1, max_iter=300, penalty=l2, solver=lbfgs;, score=0.999 total time=   0.0s\n",
      "[CV 1/5] END C=1, l1_ratio=1, max_iter=300, penalty=l2, solver=liblinear;, score=0.998 total time=   0.1s\n",
      "[CV 2/5] END C=1, l1_ratio=1, max_iter=300, penalty=l2, solver=liblinear;, score=0.998 total time=   0.1s\n",
      "[CV 3/5] END C=1, l1_ratio=1, max_iter=300, penalty=l2, solver=liblinear;, score=0.998 total time=   0.1s\n",
      "[CV 4/5] END C=1, l1_ratio=1, max_iter=300, penalty=l2, solver=liblinear;, score=0.998 total time=   0.0s\n",
      "[CV 5/5] END C=1, l1_ratio=1, max_iter=300, penalty=l2, solver=liblinear;, score=0.998 total time=   0.0s\n",
      "[CV 1/5] END C=1, l1_ratio=1, max_iter=300, penalty=l2, solver=saga;, score=0.998 total time=   2.4s\n",
      "[CV 2/5] END C=1, l1_ratio=1, max_iter=300, penalty=l2, solver=saga;, score=0.998 total time=   2.2s\n",
      "[CV 3/5] END C=1, l1_ratio=1, max_iter=300, penalty=l2, solver=saga;, score=0.998 total time=   2.3s\n",
      "[CV 4/5] END C=1, l1_ratio=1, max_iter=300, penalty=l2, solver=saga;, score=0.998 total time=   2.6s\n",
      "[CV 5/5] END C=1, l1_ratio=1, max_iter=300, penalty=l2, solver=saga;, score=0.998 total time=   2.5s\n",
      "[CV 1/5] END C=1, l1_ratio=1, max_iter=300, penalty=elasticnet, solver=newton-cg;, score=nan total time=   0.0s\n",
      "[CV 2/5] END C=1, l1_ratio=1, max_iter=300, penalty=elasticnet, solver=newton-cg;, score=nan total time=   0.0s\n",
      "[CV 3/5] END C=1, l1_ratio=1, max_iter=300, penalty=elasticnet, solver=newton-cg;, score=nan total time=   0.0s\n",
      "[CV 4/5] END C=1, l1_ratio=1, max_iter=300, penalty=elasticnet, solver=newton-cg;, score=nan total time=   0.0s\n",
      "[CV 5/5] END C=1, l1_ratio=1, max_iter=300, penalty=elasticnet, solver=newton-cg;, score=nan total time=   0.0s\n",
      "[CV 1/5] END C=1, l1_ratio=1, max_iter=300, penalty=elasticnet, solver=lbfgs;, score=nan total time=   0.0s\n",
      "[CV 2/5] END C=1, l1_ratio=1, max_iter=300, penalty=elasticnet, solver=lbfgs;, score=nan total time=   0.0s\n",
      "[CV 3/5] END C=1, l1_ratio=1, max_iter=300, penalty=elasticnet, solver=lbfgs;, score=nan total time=   0.0s\n",
      "[CV 4/5] END C=1, l1_ratio=1, max_iter=300, penalty=elasticnet, solver=lbfgs;, score=nan total time=   0.0s\n",
      "[CV 5/5] END C=1, l1_ratio=1, max_iter=300, penalty=elasticnet, solver=lbfgs;, score=nan total time=   0.0s\n",
      "[CV 1/5] END C=1, l1_ratio=1, max_iter=300, penalty=elasticnet, solver=liblinear;, score=nan total time=   0.0s\n",
      "[CV 2/5] END C=1, l1_ratio=1, max_iter=300, penalty=elasticnet, solver=liblinear;, score=nan total time=   0.0s\n",
      "[CV 3/5] END C=1, l1_ratio=1, max_iter=300, penalty=elasticnet, solver=liblinear;, score=nan total time=   0.0s\n",
      "[CV 4/5] END C=1, l1_ratio=1, max_iter=300, penalty=elasticnet, solver=liblinear;, score=nan total time=   0.0s\n",
      "[CV 5/5] END C=1, l1_ratio=1, max_iter=300, penalty=elasticnet, solver=liblinear;, score=nan total time=   0.0s\n",
      "[CV 1/5] END C=1, l1_ratio=1, max_iter=300, penalty=elasticnet, solver=saga;, score=0.998 total time=   3.1s\n",
      "[CV 2/5] END C=1, l1_ratio=1, max_iter=300, penalty=elasticnet, solver=saga;, score=0.998 total time=   3.0s\n",
      "[CV 3/5] END C=1, l1_ratio=1, max_iter=300, penalty=elasticnet, solver=saga;, score=0.998 total time=   2.6s\n",
      "[CV 4/5] END C=1, l1_ratio=1, max_iter=300, penalty=elasticnet, solver=saga;, score=0.998 total time=   2.8s\n",
      "[CV 5/5] END C=1, l1_ratio=1, max_iter=300, penalty=elasticnet, solver=saga;, score=0.998 total time=   2.6s\n",
      "[CV 1/5] END C=1, l1_ratio=1, max_iter=500, penalty=l2, solver=newton-cg;, score=0.998 total time=   0.1s\n",
      "[CV 2/5] END C=1, l1_ratio=1, max_iter=500, penalty=l2, solver=newton-cg;, score=0.999 total time=   0.1s\n",
      "[CV 3/5] END C=1, l1_ratio=1, max_iter=500, penalty=l2, solver=newton-cg;, score=0.999 total time=   0.1s\n",
      "[CV 4/5] END C=1, l1_ratio=1, max_iter=500, penalty=l2, solver=newton-cg;, score=0.998 total time=   0.1s\n",
      "[CV 5/5] END C=1, l1_ratio=1, max_iter=500, penalty=l2, solver=newton-cg;, score=0.999 total time=   0.0s\n",
      "[CV 1/5] END C=1, l1_ratio=1, max_iter=500, penalty=l2, solver=lbfgs;, score=0.999 total time=   0.0s\n",
      "[CV 2/5] END C=1, l1_ratio=1, max_iter=500, penalty=l2, solver=lbfgs;, score=0.999 total time=   0.0s\n",
      "[CV 3/5] END C=1, l1_ratio=1, max_iter=500, penalty=l2, solver=lbfgs;, score=0.999 total time=   0.0s\n",
      "[CV 4/5] END C=1, l1_ratio=1, max_iter=500, penalty=l2, solver=lbfgs;, score=0.999 total time=   0.0s\n",
      "[CV 5/5] END C=1, l1_ratio=1, max_iter=500, penalty=l2, solver=lbfgs;, score=0.999 total time=   0.0s\n",
      "[CV 1/5] END C=1, l1_ratio=1, max_iter=500, penalty=l2, solver=liblinear;, score=0.998 total time=   0.0s\n",
      "[CV 2/5] END C=1, l1_ratio=1, max_iter=500, penalty=l2, solver=liblinear;, score=0.998 total time=   0.1s\n",
      "[CV 3/5] END C=1, l1_ratio=1, max_iter=500, penalty=l2, solver=liblinear;, score=0.998 total time=   0.0s\n",
      "[CV 4/5] END C=1, l1_ratio=1, max_iter=500, penalty=l2, solver=liblinear;, score=0.998 total time=   0.0s\n",
      "[CV 5/5] END C=1, l1_ratio=1, max_iter=500, penalty=l2, solver=liblinear;, score=0.998 total time=   0.0s\n",
      "[CV 1/5] END C=1, l1_ratio=1, max_iter=500, penalty=l2, solver=saga;, score=0.998 total time=   3.7s\n",
      "[CV 2/5] END C=1, l1_ratio=1, max_iter=500, penalty=l2, solver=saga;, score=0.998 total time=   3.9s\n",
      "[CV 3/5] END C=1, l1_ratio=1, max_iter=500, penalty=l2, solver=saga;, score=0.998 total time=   3.7s\n",
      "[CV 4/5] END C=1, l1_ratio=1, max_iter=500, penalty=l2, solver=saga;, score=0.998 total time=   3.7s\n",
      "[CV 5/5] END C=1, l1_ratio=1, max_iter=500, penalty=l2, solver=saga;, score=0.998 total time=   4.0s\n",
      "[CV 1/5] END C=1, l1_ratio=1, max_iter=500, penalty=elasticnet, solver=newton-cg;, score=nan total time=   0.0s\n",
      "[CV 2/5] END C=1, l1_ratio=1, max_iter=500, penalty=elasticnet, solver=newton-cg;, score=nan total time=   0.0s\n",
      "[CV 3/5] END C=1, l1_ratio=1, max_iter=500, penalty=elasticnet, solver=newton-cg;, score=nan total time=   0.0s\n",
      "[CV 4/5] END C=1, l1_ratio=1, max_iter=500, penalty=elasticnet, solver=newton-cg;, score=nan total time=   0.0s\n",
      "[CV 5/5] END C=1, l1_ratio=1, max_iter=500, penalty=elasticnet, solver=newton-cg;, score=nan total time=   0.0s\n",
      "[CV 1/5] END C=1, l1_ratio=1, max_iter=500, penalty=elasticnet, solver=lbfgs;, score=nan total time=   0.0s\n",
      "[CV 2/5] END C=1, l1_ratio=1, max_iter=500, penalty=elasticnet, solver=lbfgs;, score=nan total time=   0.0s\n",
      "[CV 3/5] END C=1, l1_ratio=1, max_iter=500, penalty=elasticnet, solver=lbfgs;, score=nan total time=   0.0s\n",
      "[CV 4/5] END C=1, l1_ratio=1, max_iter=500, penalty=elasticnet, solver=lbfgs;, score=nan total time=   0.0s\n",
      "[CV 5/5] END C=1, l1_ratio=1, max_iter=500, penalty=elasticnet, solver=lbfgs;, score=nan total time=   0.0s\n",
      "[CV 1/5] END C=1, l1_ratio=1, max_iter=500, penalty=elasticnet, solver=liblinear;, score=nan total time=   0.0s\n",
      "[CV 2/5] END C=1, l1_ratio=1, max_iter=500, penalty=elasticnet, solver=liblinear;, score=nan total time=   0.0s\n",
      "[CV 3/5] END C=1, l1_ratio=1, max_iter=500, penalty=elasticnet, solver=liblinear;, score=nan total time=   0.0s\n",
      "[CV 4/5] END C=1, l1_ratio=1, max_iter=500, penalty=elasticnet, solver=liblinear;, score=nan total time=   0.0s\n",
      "[CV 5/5] END C=1, l1_ratio=1, max_iter=500, penalty=elasticnet, solver=liblinear;, score=nan total time=   0.0s\n",
      "[CV 1/5] END C=1, l1_ratio=1, max_iter=500, penalty=elasticnet, solver=saga;, score=0.998 total time=   4.4s\n",
      "[CV 2/5] END C=1, l1_ratio=1, max_iter=500, penalty=elasticnet, solver=saga;, score=0.998 total time=   4.6s\n",
      "[CV 3/5] END C=1, l1_ratio=1, max_iter=500, penalty=elasticnet, solver=saga;, score=0.998 total time=   4.8s\n",
      "[CV 4/5] END C=1, l1_ratio=1, max_iter=500, penalty=elasticnet, solver=saga;, score=0.998 total time=   4.9s\n",
      "[CV 5/5] END C=1, l1_ratio=1, max_iter=500, penalty=elasticnet, solver=saga;, score=0.998 total time=   4.5s\n",
      "[CV 1/5] END C=10, l1_ratio=0, max_iter=300, penalty=l2, solver=newton-cg;, score=0.999 total time=   0.1s\n",
      "[CV 2/5] END C=10, l1_ratio=0, max_iter=300, penalty=l2, solver=newton-cg;, score=0.999 total time=   0.1s\n",
      "[CV 3/5] END C=10, l1_ratio=0, max_iter=300, penalty=l2, solver=newton-cg;, score=0.999 total time=   0.1s\n",
      "[CV 4/5] END C=10, l1_ratio=0, max_iter=300, penalty=l2, solver=newton-cg;, score=0.999 total time=   0.1s\n",
      "[CV 5/5] END C=10, l1_ratio=0, max_iter=300, penalty=l2, solver=newton-cg;, score=0.999 total time=   0.1s\n",
      "[CV 1/5] END C=10, l1_ratio=0, max_iter=300, penalty=l2, solver=lbfgs;, score=0.999 total time=   0.0s\n",
      "[CV 2/5] END C=10, l1_ratio=0, max_iter=300, penalty=l2, solver=lbfgs;, score=0.999 total time=   0.0s\n",
      "[CV 3/5] END C=10, l1_ratio=0, max_iter=300, penalty=l2, solver=lbfgs;, score=0.999 total time=   0.0s\n",
      "[CV 4/5] END C=10, l1_ratio=0, max_iter=300, penalty=l2, solver=lbfgs;, score=0.999 total time=   0.0s\n",
      "[CV 5/5] END C=10, l1_ratio=0, max_iter=300, penalty=l2, solver=lbfgs;, score=0.999 total time=   0.0s\n",
      "[CV 1/5] END C=10, l1_ratio=0, max_iter=300, penalty=l2, solver=liblinear;, score=0.999 total time=   0.1s\n",
      "[CV 2/5] END C=10, l1_ratio=0, max_iter=300, penalty=l2, solver=liblinear;, score=0.999 total time=   0.1s\n",
      "[CV 3/5] END C=10, l1_ratio=0, max_iter=300, penalty=l2, solver=liblinear;, score=0.999 total time=   0.1s\n",
      "[CV 4/5] END C=10, l1_ratio=0, max_iter=300, penalty=l2, solver=liblinear;, score=0.999 total time=   0.0s\n",
      "[CV 5/5] END C=10, l1_ratio=0, max_iter=300, penalty=l2, solver=liblinear;, score=0.999 total time=   0.1s\n",
      "[CV 1/5] END C=10, l1_ratio=0, max_iter=300, penalty=l2, solver=saga;, score=0.998 total time=   2.2s\n",
      "[CV 2/5] END C=10, l1_ratio=0, max_iter=300, penalty=l2, solver=saga;, score=0.998 total time=   2.6s\n",
      "[CV 3/5] END C=10, l1_ratio=0, max_iter=300, penalty=l2, solver=saga;, score=0.998 total time=   2.1s\n",
      "[CV 4/5] END C=10, l1_ratio=0, max_iter=300, penalty=l2, solver=saga;, score=0.998 total time=   2.4s\n",
      "[CV 5/5] END C=10, l1_ratio=0, max_iter=300, penalty=l2, solver=saga;, score=0.998 total time=   2.4s\n",
      "[CV 1/5] END C=10, l1_ratio=0, max_iter=300, penalty=elasticnet, solver=newton-cg;, score=nan total time=   0.0s\n",
      "[CV 2/5] END C=10, l1_ratio=0, max_iter=300, penalty=elasticnet, solver=newton-cg;, score=nan total time=   0.0s\n",
      "[CV 3/5] END C=10, l1_ratio=0, max_iter=300, penalty=elasticnet, solver=newton-cg;, score=nan total time=   0.0s\n",
      "[CV 4/5] END C=10, l1_ratio=0, max_iter=300, penalty=elasticnet, solver=newton-cg;, score=nan total time=   0.0s\n",
      "[CV 5/5] END C=10, l1_ratio=0, max_iter=300, penalty=elasticnet, solver=newton-cg;, score=nan total time=   0.0s\n",
      "[CV 1/5] END C=10, l1_ratio=0, max_iter=300, penalty=elasticnet, solver=lbfgs;, score=nan total time=   0.0s\n",
      "[CV 2/5] END C=10, l1_ratio=0, max_iter=300, penalty=elasticnet, solver=lbfgs;, score=nan total time=   0.0s\n",
      "[CV 3/5] END C=10, l1_ratio=0, max_iter=300, penalty=elasticnet, solver=lbfgs;, score=nan total time=   0.0s\n",
      "[CV 4/5] END C=10, l1_ratio=0, max_iter=300, penalty=elasticnet, solver=lbfgs;, score=nan total time=   0.0s\n",
      "[CV 5/5] END C=10, l1_ratio=0, max_iter=300, penalty=elasticnet, solver=lbfgs;, score=nan total time=   0.0s\n",
      "[CV 1/5] END C=10, l1_ratio=0, max_iter=300, penalty=elasticnet, solver=liblinear;, score=nan total time=   0.0s\n",
      "[CV 2/5] END C=10, l1_ratio=0, max_iter=300, penalty=elasticnet, solver=liblinear;, score=nan total time=   0.0s\n",
      "[CV 3/5] END C=10, l1_ratio=0, max_iter=300, penalty=elasticnet, solver=liblinear;, score=nan total time=   0.0s\n",
      "[CV 4/5] END C=10, l1_ratio=0, max_iter=300, penalty=elasticnet, solver=liblinear;, score=nan total time=   0.0s\n",
      "[CV 5/5] END C=10, l1_ratio=0, max_iter=300, penalty=elasticnet, solver=liblinear;, score=nan total time=   0.0s\n",
      "[CV 1/5] END C=10, l1_ratio=0, max_iter=300, penalty=elasticnet, solver=saga;, score=0.998 total time=   2.3s\n",
      "[CV 2/5] END C=10, l1_ratio=0, max_iter=300, penalty=elasticnet, solver=saga;, score=0.998 total time=   2.3s\n",
      "[CV 3/5] END C=10, l1_ratio=0, max_iter=300, penalty=elasticnet, solver=saga;, score=0.998 total time=   2.3s\n",
      "[CV 4/5] END C=10, l1_ratio=0, max_iter=300, penalty=elasticnet, solver=saga;, score=0.998 total time=   2.5s\n",
      "[CV 5/5] END C=10, l1_ratio=0, max_iter=300, penalty=elasticnet, solver=saga;, score=0.998 total time=   2.0s\n",
      "[CV 1/5] END C=10, l1_ratio=0, max_iter=500, penalty=l2, solver=newton-cg;, score=0.999 total time=   0.1s\n",
      "[CV 2/5] END C=10, l1_ratio=0, max_iter=500, penalty=l2, solver=newton-cg;, score=0.999 total time=   0.1s\n",
      "[CV 3/5] END C=10, l1_ratio=0, max_iter=500, penalty=l2, solver=newton-cg;, score=0.999 total time=   0.1s\n",
      "[CV 4/5] END C=10, l1_ratio=0, max_iter=500, penalty=l2, solver=newton-cg;, score=0.999 total time=   0.1s\n",
      "[CV 5/5] END C=10, l1_ratio=0, max_iter=500, penalty=l2, solver=newton-cg;, score=0.999 total time=   0.1s\n",
      "[CV 1/5] END C=10, l1_ratio=0, max_iter=500, penalty=l2, solver=lbfgs;, score=0.999 total time=   0.0s\n",
      "[CV 2/5] END C=10, l1_ratio=0, max_iter=500, penalty=l2, solver=lbfgs;, score=0.999 total time=   0.0s\n",
      "[CV 3/5] END C=10, l1_ratio=0, max_iter=500, penalty=l2, solver=lbfgs;, score=0.999 total time=   0.0s\n",
      "[CV 4/5] END C=10, l1_ratio=0, max_iter=500, penalty=l2, solver=lbfgs;, score=0.999 total time=   0.0s\n",
      "[CV 5/5] END C=10, l1_ratio=0, max_iter=500, penalty=l2, solver=lbfgs;, score=0.999 total time=   0.0s\n",
      "[CV 1/5] END C=10, l1_ratio=0, max_iter=500, penalty=l2, solver=liblinear;, score=0.999 total time=   0.0s\n",
      "[CV 2/5] END C=10, l1_ratio=0, max_iter=500, penalty=l2, solver=liblinear;, score=0.999 total time=   0.1s\n",
      "[CV 3/5] END C=10, l1_ratio=0, max_iter=500, penalty=l2, solver=liblinear;, score=0.999 total time=   0.0s\n",
      "[CV 4/5] END C=10, l1_ratio=0, max_iter=500, penalty=l2, solver=liblinear;, score=0.999 total time=   0.0s\n",
      "[CV 5/5] END C=10, l1_ratio=0, max_iter=500, penalty=l2, solver=liblinear;, score=0.999 total time=   0.1s\n",
      "[CV 1/5] END C=10, l1_ratio=0, max_iter=500, penalty=l2, solver=saga;, score=0.998 total time=   3.7s\n",
      "[CV 2/5] END C=10, l1_ratio=0, max_iter=500, penalty=l2, solver=saga;, score=0.998 total time=   3.6s\n",
      "[CV 3/5] END C=10, l1_ratio=0, max_iter=500, penalty=l2, solver=saga;, score=0.998 total time=   4.0s\n",
      "[CV 4/5] END C=10, l1_ratio=0, max_iter=500, penalty=l2, solver=saga;, score=0.998 total time=   3.5s\n",
      "[CV 5/5] END C=10, l1_ratio=0, max_iter=500, penalty=l2, solver=saga;, score=0.998 total time=   3.6s\n",
      "[CV 1/5] END C=10, l1_ratio=0, max_iter=500, penalty=elasticnet, solver=newton-cg;, score=nan total time=   0.0s\n",
      "[CV 2/5] END C=10, l1_ratio=0, max_iter=500, penalty=elasticnet, solver=newton-cg;, score=nan total time=   0.0s\n",
      "[CV 3/5] END C=10, l1_ratio=0, max_iter=500, penalty=elasticnet, solver=newton-cg;, score=nan total time=   0.0s\n",
      "[CV 4/5] END C=10, l1_ratio=0, max_iter=500, penalty=elasticnet, solver=newton-cg;, score=nan total time=   0.0s\n",
      "[CV 5/5] END C=10, l1_ratio=0, max_iter=500, penalty=elasticnet, solver=newton-cg;, score=nan total time=   0.0s\n",
      "[CV 1/5] END C=10, l1_ratio=0, max_iter=500, penalty=elasticnet, solver=lbfgs;, score=nan total time=   0.0s\n",
      "[CV 2/5] END C=10, l1_ratio=0, max_iter=500, penalty=elasticnet, solver=lbfgs;, score=nan total time=   0.0s\n",
      "[CV 3/5] END C=10, l1_ratio=0, max_iter=500, penalty=elasticnet, solver=lbfgs;, score=nan total time=   0.0s\n",
      "[CV 4/5] END C=10, l1_ratio=0, max_iter=500, penalty=elasticnet, solver=lbfgs;, score=nan total time=   0.0s\n",
      "[CV 5/5] END C=10, l1_ratio=0, max_iter=500, penalty=elasticnet, solver=lbfgs;, score=nan total time=   0.0s\n",
      "[CV 1/5] END C=10, l1_ratio=0, max_iter=500, penalty=elasticnet, solver=liblinear;, score=nan total time=   0.0s\n",
      "[CV 2/5] END C=10, l1_ratio=0, max_iter=500, penalty=elasticnet, solver=liblinear;, score=nan total time=   0.0s\n",
      "[CV 3/5] END C=10, l1_ratio=0, max_iter=500, penalty=elasticnet, solver=liblinear;, score=nan total time=   0.0s\n",
      "[CV 4/5] END C=10, l1_ratio=0, max_iter=500, penalty=elasticnet, solver=liblinear;, score=nan total time=   0.0s\n",
      "[CV 5/5] END C=10, l1_ratio=0, max_iter=500, penalty=elasticnet, solver=liblinear;, score=nan total time=   0.0s\n",
      "[CV 1/5] END C=10, l1_ratio=0, max_iter=500, penalty=elasticnet, solver=saga;, score=0.998 total time=   3.7s\n",
      "[CV 2/5] END C=10, l1_ratio=0, max_iter=500, penalty=elasticnet, solver=saga;, score=0.998 total time=   4.3s\n",
      "[CV 3/5] END C=10, l1_ratio=0, max_iter=500, penalty=elasticnet, solver=saga;, score=0.998 total time=   3.7s\n",
      "[CV 4/5] END C=10, l1_ratio=0, max_iter=500, penalty=elasticnet, solver=saga;, score=0.998 total time=   3.6s\n",
      "[CV 5/5] END C=10, l1_ratio=0, max_iter=500, penalty=elasticnet, solver=saga;, score=0.998 total time=   3.7s\n",
      "[CV 1/5] END C=10, l1_ratio=0.5, max_iter=300, penalty=l2, solver=newton-cg;, score=0.999 total time=   0.1s\n",
      "[CV 2/5] END C=10, l1_ratio=0.5, max_iter=300, penalty=l2, solver=newton-cg;, score=0.999 total time=   0.1s\n",
      "[CV 3/5] END C=10, l1_ratio=0.5, max_iter=300, penalty=l2, solver=newton-cg;, score=0.999 total time=   0.1s\n",
      "[CV 4/5] END C=10, l1_ratio=0.5, max_iter=300, penalty=l2, solver=newton-cg;, score=0.999 total time=   0.1s\n",
      "[CV 5/5] END C=10, l1_ratio=0.5, max_iter=300, penalty=l2, solver=newton-cg;, score=0.999 total time=   0.1s\n",
      "[CV 1/5] END C=10, l1_ratio=0.5, max_iter=300, penalty=l2, solver=lbfgs;, score=0.999 total time=   0.0s\n",
      "[CV 2/5] END C=10, l1_ratio=0.5, max_iter=300, penalty=l2, solver=lbfgs;, score=0.999 total time=   0.0s\n",
      "[CV 3/5] END C=10, l1_ratio=0.5, max_iter=300, penalty=l2, solver=lbfgs;, score=0.999 total time=   0.0s\n",
      "[CV 4/5] END C=10, l1_ratio=0.5, max_iter=300, penalty=l2, solver=lbfgs;, score=0.999 total time=   0.0s\n",
      "[CV 5/5] END C=10, l1_ratio=0.5, max_iter=300, penalty=l2, solver=lbfgs;, score=0.999 total time=   0.0s\n",
      "[CV 1/5] END C=10, l1_ratio=0.5, max_iter=300, penalty=l2, solver=liblinear;, score=0.999 total time=   0.1s\n",
      "[CV 2/5] END C=10, l1_ratio=0.5, max_iter=300, penalty=l2, solver=liblinear;, score=0.999 total time=   0.1s\n",
      "[CV 3/5] END C=10, l1_ratio=0.5, max_iter=300, penalty=l2, solver=liblinear;, score=0.999 total time=   0.1s\n",
      "[CV 4/5] END C=10, l1_ratio=0.5, max_iter=300, penalty=l2, solver=liblinear;, score=0.999 total time=   0.0s\n",
      "[CV 5/5] END C=10, l1_ratio=0.5, max_iter=300, penalty=l2, solver=liblinear;, score=0.999 total time=   0.1s\n",
      "[CV 1/5] END C=10, l1_ratio=0.5, max_iter=300, penalty=l2, solver=saga;, score=0.998 total time=   2.8s\n",
      "[CV 2/5] END C=10, l1_ratio=0.5, max_iter=300, penalty=l2, solver=saga;, score=0.998 total time=   2.2s\n",
      "[CV 3/5] END C=10, l1_ratio=0.5, max_iter=300, penalty=l2, solver=saga;, score=0.998 total time=   2.2s\n",
      "[CV 4/5] END C=10, l1_ratio=0.5, max_iter=300, penalty=l2, solver=saga;, score=0.998 total time=   2.4s\n",
      "[CV 5/5] END C=10, l1_ratio=0.5, max_iter=300, penalty=l2, solver=saga;, score=0.998 total time=   2.1s\n",
      "[CV 1/5] END C=10, l1_ratio=0.5, max_iter=300, penalty=elasticnet, solver=newton-cg;, score=nan total time=   0.0s\n",
      "[CV 2/5] END C=10, l1_ratio=0.5, max_iter=300, penalty=elasticnet, solver=newton-cg;, score=nan total time=   0.0s\n",
      "[CV 3/5] END C=10, l1_ratio=0.5, max_iter=300, penalty=elasticnet, solver=newton-cg;, score=nan total time=   0.0s\n",
      "[CV 4/5] END C=10, l1_ratio=0.5, max_iter=300, penalty=elasticnet, solver=newton-cg;, score=nan total time=   0.0s\n",
      "[CV 5/5] END C=10, l1_ratio=0.5, max_iter=300, penalty=elasticnet, solver=newton-cg;, score=nan total time=   0.0s\n",
      "[CV 1/5] END C=10, l1_ratio=0.5, max_iter=300, penalty=elasticnet, solver=lbfgs;, score=nan total time=   0.0s\n",
      "[CV 2/5] END C=10, l1_ratio=0.5, max_iter=300, penalty=elasticnet, solver=lbfgs;, score=nan total time=   0.0s\n",
      "[CV 3/5] END C=10, l1_ratio=0.5, max_iter=300, penalty=elasticnet, solver=lbfgs;, score=nan total time=   0.0s\n",
      "[CV 4/5] END C=10, l1_ratio=0.5, max_iter=300, penalty=elasticnet, solver=lbfgs;, score=nan total time=   0.0s\n",
      "[CV 5/5] END C=10, l1_ratio=0.5, max_iter=300, penalty=elasticnet, solver=lbfgs;, score=nan total time=   0.0s\n",
      "[CV 1/5] END C=10, l1_ratio=0.5, max_iter=300, penalty=elasticnet, solver=liblinear;, score=nan total time=   0.0s\n",
      "[CV 2/5] END C=10, l1_ratio=0.5, max_iter=300, penalty=elasticnet, solver=liblinear;, score=nan total time=   0.0s\n",
      "[CV 3/5] END C=10, l1_ratio=0.5, max_iter=300, penalty=elasticnet, solver=liblinear;, score=nan total time=   0.0s\n",
      "[CV 4/5] END C=10, l1_ratio=0.5, max_iter=300, penalty=elasticnet, solver=liblinear;, score=nan total time=   0.0s\n",
      "[CV 5/5] END C=10, l1_ratio=0.5, max_iter=300, penalty=elasticnet, solver=liblinear;, score=nan total time=   0.0s\n",
      "[CV 1/5] END C=10, l1_ratio=0.5, max_iter=300, penalty=elasticnet, solver=saga;, score=0.998 total time=   2.8s\n",
      "[CV 2/5] END C=10, l1_ratio=0.5, max_iter=300, penalty=elasticnet, solver=saga;, score=0.998 total time=   3.3s\n",
      "[CV 3/5] END C=10, l1_ratio=0.5, max_iter=300, penalty=elasticnet, solver=saga;, score=0.998 total time=   2.9s\n",
      "[CV 4/5] END C=10, l1_ratio=0.5, max_iter=300, penalty=elasticnet, solver=saga;, score=0.998 total time=   2.7s\n",
      "[CV 5/5] END C=10, l1_ratio=0.5, max_iter=300, penalty=elasticnet, solver=saga;, score=0.998 total time=   2.7s\n",
      "[CV 1/5] END C=10, l1_ratio=0.5, max_iter=500, penalty=l2, solver=newton-cg;, score=0.999 total time=   0.1s\n",
      "[CV 2/5] END C=10, l1_ratio=0.5, max_iter=500, penalty=l2, solver=newton-cg;, score=0.999 total time=   0.1s\n",
      "[CV 3/5] END C=10, l1_ratio=0.5, max_iter=500, penalty=l2, solver=newton-cg;, score=0.999 total time=   0.1s\n",
      "[CV 4/5] END C=10, l1_ratio=0.5, max_iter=500, penalty=l2, solver=newton-cg;, score=0.999 total time=   0.1s\n",
      "[CV 5/5] END C=10, l1_ratio=0.5, max_iter=500, penalty=l2, solver=newton-cg;, score=0.999 total time=   0.1s\n",
      "[CV 1/5] END C=10, l1_ratio=0.5, max_iter=500, penalty=l2, solver=lbfgs;, score=0.999 total time=   0.0s\n",
      "[CV 2/5] END C=10, l1_ratio=0.5, max_iter=500, penalty=l2, solver=lbfgs;, score=0.999 total time=   0.0s\n",
      "[CV 3/5] END C=10, l1_ratio=0.5, max_iter=500, penalty=l2, solver=lbfgs;, score=0.999 total time=   0.0s\n",
      "[CV 4/5] END C=10, l1_ratio=0.5, max_iter=500, penalty=l2, solver=lbfgs;, score=0.999 total time=   0.0s\n",
      "[CV 5/5] END C=10, l1_ratio=0.5, max_iter=500, penalty=l2, solver=lbfgs;, score=0.999 total time=   0.0s\n",
      "[CV 1/5] END C=10, l1_ratio=0.5, max_iter=500, penalty=l2, solver=liblinear;, score=0.999 total time=   0.1s\n",
      "[CV 2/5] END C=10, l1_ratio=0.5, max_iter=500, penalty=l2, solver=liblinear;, score=0.999 total time=   0.1s\n",
      "[CV 3/5] END C=10, l1_ratio=0.5, max_iter=500, penalty=l2, solver=liblinear;, score=0.999 total time=   0.0s\n",
      "[CV 4/5] END C=10, l1_ratio=0.5, max_iter=500, penalty=l2, solver=liblinear;, score=0.999 total time=   0.1s\n",
      "[CV 5/5] END C=10, l1_ratio=0.5, max_iter=500, penalty=l2, solver=liblinear;, score=0.999 total time=   0.0s\n",
      "[CV 1/5] END C=10, l1_ratio=0.5, max_iter=500, penalty=l2, solver=saga;, score=0.998 total time=   4.5s\n",
      "[CV 2/5] END C=10, l1_ratio=0.5, max_iter=500, penalty=l2, solver=saga;, score=0.998 total time=   4.2s\n",
      "[CV 3/5] END C=10, l1_ratio=0.5, max_iter=500, penalty=l2, solver=saga;, score=0.998 total time=   4.2s\n",
      "[CV 4/5] END C=10, l1_ratio=0.5, max_iter=500, penalty=l2, solver=saga;, score=0.998 total time=   4.2s\n",
      "[CV 5/5] END C=10, l1_ratio=0.5, max_iter=500, penalty=l2, solver=saga;, score=0.998 total time=   4.4s\n",
      "[CV 1/5] END C=10, l1_ratio=0.5, max_iter=500, penalty=elasticnet, solver=newton-cg;, score=nan total time=   0.0s\n",
      "[CV 2/5] END C=10, l1_ratio=0.5, max_iter=500, penalty=elasticnet, solver=newton-cg;, score=nan total time=   0.0s\n",
      "[CV 3/5] END C=10, l1_ratio=0.5, max_iter=500, penalty=elasticnet, solver=newton-cg;, score=nan total time=   0.0s\n",
      "[CV 4/5] END C=10, l1_ratio=0.5, max_iter=500, penalty=elasticnet, solver=newton-cg;, score=nan total time=   0.0s\n",
      "[CV 5/5] END C=10, l1_ratio=0.5, max_iter=500, penalty=elasticnet, solver=newton-cg;, score=nan total time=   0.0s\n",
      "[CV 1/5] END C=10, l1_ratio=0.5, max_iter=500, penalty=elasticnet, solver=lbfgs;, score=nan total time=   0.0s\n",
      "[CV 2/5] END C=10, l1_ratio=0.5, max_iter=500, penalty=elasticnet, solver=lbfgs;, score=nan total time=   0.0s\n",
      "[CV 3/5] END C=10, l1_ratio=0.5, max_iter=500, penalty=elasticnet, solver=lbfgs;, score=nan total time=   0.0s\n",
      "[CV 4/5] END C=10, l1_ratio=0.5, max_iter=500, penalty=elasticnet, solver=lbfgs;, score=nan total time=   0.0s\n",
      "[CV 5/5] END C=10, l1_ratio=0.5, max_iter=500, penalty=elasticnet, solver=lbfgs;, score=nan total time=   0.0s\n",
      "[CV 1/5] END C=10, l1_ratio=0.5, max_iter=500, penalty=elasticnet, solver=liblinear;, score=nan total time=   0.0s\n",
      "[CV 2/5] END C=10, l1_ratio=0.5, max_iter=500, penalty=elasticnet, solver=liblinear;, score=nan total time=   0.0s\n",
      "[CV 3/5] END C=10, l1_ratio=0.5, max_iter=500, penalty=elasticnet, solver=liblinear;, score=nan total time=   0.0s\n",
      "[CV 4/5] END C=10, l1_ratio=0.5, max_iter=500, penalty=elasticnet, solver=liblinear;, score=nan total time=   0.0s\n",
      "[CV 5/5] END C=10, l1_ratio=0.5, max_iter=500, penalty=elasticnet, solver=liblinear;, score=nan total time=   0.0s\n",
      "[CV 1/5] END C=10, l1_ratio=0.5, max_iter=500, penalty=elasticnet, solver=saga;, score=0.998 total time=   4.9s\n",
      "[CV 2/5] END C=10, l1_ratio=0.5, max_iter=500, penalty=elasticnet, solver=saga;, score=0.998 total time=   5.3s\n",
      "[CV 3/5] END C=10, l1_ratio=0.5, max_iter=500, penalty=elasticnet, solver=saga;, score=0.998 total time=   5.4s\n",
      "[CV 4/5] END C=10, l1_ratio=0.5, max_iter=500, penalty=elasticnet, solver=saga;, score=0.998 total time=   4.6s\n",
      "[CV 5/5] END C=10, l1_ratio=0.5, max_iter=500, penalty=elasticnet, solver=saga;, score=0.998 total time=   5.0s\n",
      "[CV 1/5] END C=10, l1_ratio=1, max_iter=300, penalty=l2, solver=newton-cg;, score=0.999 total time=   0.1s\n",
      "[CV 2/5] END C=10, l1_ratio=1, max_iter=300, penalty=l2, solver=newton-cg;, score=0.999 total time=   0.1s\n",
      "[CV 3/5] END C=10, l1_ratio=1, max_iter=300, penalty=l2, solver=newton-cg;, score=0.999 total time=   0.1s\n",
      "[CV 4/5] END C=10, l1_ratio=1, max_iter=300, penalty=l2, solver=newton-cg;, score=0.999 total time=   0.1s\n",
      "[CV 5/5] END C=10, l1_ratio=1, max_iter=300, penalty=l2, solver=newton-cg;, score=0.999 total time=   0.1s\n",
      "[CV 1/5] END C=10, l1_ratio=1, max_iter=300, penalty=l2, solver=lbfgs;, score=0.999 total time=   0.0s\n",
      "[CV 2/5] END C=10, l1_ratio=1, max_iter=300, penalty=l2, solver=lbfgs;, score=0.999 total time=   0.0s\n",
      "[CV 3/5] END C=10, l1_ratio=1, max_iter=300, penalty=l2, solver=lbfgs;, score=0.999 total time=   0.0s\n",
      "[CV 4/5] END C=10, l1_ratio=1, max_iter=300, penalty=l2, solver=lbfgs;, score=0.999 total time=   0.0s\n",
      "[CV 5/5] END C=10, l1_ratio=1, max_iter=300, penalty=l2, solver=lbfgs;, score=0.999 total time=   0.0s\n",
      "[CV 1/5] END C=10, l1_ratio=1, max_iter=300, penalty=l2, solver=liblinear;, score=0.999 total time=   0.1s\n",
      "[CV 2/5] END C=10, l1_ratio=1, max_iter=300, penalty=l2, solver=liblinear;, score=0.999 total time=   0.1s\n",
      "[CV 3/5] END C=10, l1_ratio=1, max_iter=300, penalty=l2, solver=liblinear;, score=0.999 total time=   0.1s\n",
      "[CV 4/5] END C=10, l1_ratio=1, max_iter=300, penalty=l2, solver=liblinear;, score=0.999 total time=   0.1s\n",
      "[CV 5/5] END C=10, l1_ratio=1, max_iter=300, penalty=l2, solver=liblinear;, score=0.999 total time=   0.1s\n",
      "[CV 1/5] END C=10, l1_ratio=1, max_iter=300, penalty=l2, solver=saga;, score=0.998 total time=   3.3s\n",
      "[CV 2/5] END C=10, l1_ratio=1, max_iter=300, penalty=l2, solver=saga;, score=0.998 total time=   2.8s\n",
      "[CV 3/5] END C=10, l1_ratio=1, max_iter=300, penalty=l2, solver=saga;, score=0.998 total time=   2.2s\n",
      "[CV 4/5] END C=10, l1_ratio=1, max_iter=300, penalty=l2, solver=saga;, score=0.998 total time=   2.3s\n",
      "[CV 5/5] END C=10, l1_ratio=1, max_iter=300, penalty=l2, solver=saga;, score=0.998 total time=   2.2s\n",
      "[CV 1/5] END C=10, l1_ratio=1, max_iter=300, penalty=elasticnet, solver=newton-cg;, score=nan total time=   0.0s\n",
      "[CV 2/5] END C=10, l1_ratio=1, max_iter=300, penalty=elasticnet, solver=newton-cg;, score=nan total time=   0.0s\n",
      "[CV 3/5] END C=10, l1_ratio=1, max_iter=300, penalty=elasticnet, solver=newton-cg;, score=nan total time=   0.0s\n",
      "[CV 4/5] END C=10, l1_ratio=1, max_iter=300, penalty=elasticnet, solver=newton-cg;, score=nan total time=   0.0s\n",
      "[CV 5/5] END C=10, l1_ratio=1, max_iter=300, penalty=elasticnet, solver=newton-cg;, score=nan total time=   0.0s\n",
      "[CV 1/5] END C=10, l1_ratio=1, max_iter=300, penalty=elasticnet, solver=lbfgs;, score=nan total time=   0.0s\n",
      "[CV 2/5] END C=10, l1_ratio=1, max_iter=300, penalty=elasticnet, solver=lbfgs;, score=nan total time=   0.0s\n",
      "[CV 3/5] END C=10, l1_ratio=1, max_iter=300, penalty=elasticnet, solver=lbfgs;, score=nan total time=   0.0s\n",
      "[CV 4/5] END C=10, l1_ratio=1, max_iter=300, penalty=elasticnet, solver=lbfgs;, score=nan total time=   0.0s\n",
      "[CV 5/5] END C=10, l1_ratio=1, max_iter=300, penalty=elasticnet, solver=lbfgs;, score=nan total time=   0.0s\n",
      "[CV 1/5] END C=10, l1_ratio=1, max_iter=300, penalty=elasticnet, solver=liblinear;, score=nan total time=   0.0s\n",
      "[CV 2/5] END C=10, l1_ratio=1, max_iter=300, penalty=elasticnet, solver=liblinear;, score=nan total time=   0.0s\n",
      "[CV 3/5] END C=10, l1_ratio=1, max_iter=300, penalty=elasticnet, solver=liblinear;, score=nan total time=   0.0s\n",
      "[CV 4/5] END C=10, l1_ratio=1, max_iter=300, penalty=elasticnet, solver=liblinear;, score=nan total time=   0.0s\n",
      "[CV 5/5] END C=10, l1_ratio=1, max_iter=300, penalty=elasticnet, solver=liblinear;, score=nan total time=   0.0s\n",
      "[CV 1/5] END C=10, l1_ratio=1, max_iter=300, penalty=elasticnet, solver=saga;, score=0.998 total time=   2.9s\n",
      "[CV 2/5] END C=10, l1_ratio=1, max_iter=300, penalty=elasticnet, solver=saga;, score=0.998 total time=   3.5s\n",
      "[CV 3/5] END C=10, l1_ratio=1, max_iter=300, penalty=elasticnet, solver=saga;, score=0.998 total time=   3.1s\n",
      "[CV 4/5] END C=10, l1_ratio=1, max_iter=300, penalty=elasticnet, solver=saga;, score=0.998 total time=   3.1s\n",
      "[CV 5/5] END C=10, l1_ratio=1, max_iter=300, penalty=elasticnet, solver=saga;, score=0.998 total time=   2.9s\n",
      "[CV 1/5] END C=10, l1_ratio=1, max_iter=500, penalty=l2, solver=newton-cg;, score=0.999 total time=   0.1s\n",
      "[CV 2/5] END C=10, l1_ratio=1, max_iter=500, penalty=l2, solver=newton-cg;, score=0.999 total time=   0.1s\n",
      "[CV 3/5] END C=10, l1_ratio=1, max_iter=500, penalty=l2, solver=newton-cg;, score=0.999 total time=   0.1s\n",
      "[CV 4/5] END C=10, l1_ratio=1, max_iter=500, penalty=l2, solver=newton-cg;, score=0.999 total time=   0.1s\n",
      "[CV 5/5] END C=10, l1_ratio=1, max_iter=500, penalty=l2, solver=newton-cg;, score=0.999 total time=   0.1s\n",
      "[CV 1/5] END C=10, l1_ratio=1, max_iter=500, penalty=l2, solver=lbfgs;, score=0.999 total time=   0.0s\n",
      "[CV 2/5] END C=10, l1_ratio=1, max_iter=500, penalty=l2, solver=lbfgs;, score=0.999 total time=   0.0s\n",
      "[CV 3/5] END C=10, l1_ratio=1, max_iter=500, penalty=l2, solver=lbfgs;, score=0.999 total time=   0.0s\n",
      "[CV 4/5] END C=10, l1_ratio=1, max_iter=500, penalty=l2, solver=lbfgs;, score=0.999 total time=   0.0s\n",
      "[CV 5/5] END C=10, l1_ratio=1, max_iter=500, penalty=l2, solver=lbfgs;, score=0.999 total time=   0.0s\n",
      "[CV 1/5] END C=10, l1_ratio=1, max_iter=500, penalty=l2, solver=liblinear;, score=0.999 total time=   0.1s\n",
      "[CV 2/5] END C=10, l1_ratio=1, max_iter=500, penalty=l2, solver=liblinear;, score=0.999 total time=   0.1s\n",
      "[CV 3/5] END C=10, l1_ratio=1, max_iter=500, penalty=l2, solver=liblinear;, score=0.999 total time=   0.1s\n",
      "[CV 4/5] END C=10, l1_ratio=1, max_iter=500, penalty=l2, solver=liblinear;, score=0.999 total time=   0.0s\n",
      "[CV 5/5] END C=10, l1_ratio=1, max_iter=500, penalty=l2, solver=liblinear;, score=0.999 total time=   0.1s\n",
      "[CV 1/5] END C=10, l1_ratio=1, max_iter=500, penalty=l2, solver=saga;, score=0.998 total time=   4.4s\n",
      "[CV 2/5] END C=10, l1_ratio=1, max_iter=500, penalty=l2, solver=saga;, score=0.998 total time=   3.7s\n",
      "[CV 3/5] END C=10, l1_ratio=1, max_iter=500, penalty=l2, solver=saga;, score=0.998 total time=   3.9s\n",
      "[CV 4/5] END C=10, l1_ratio=1, max_iter=500, penalty=l2, solver=saga;, score=0.998 total time=   3.8s\n",
      "[CV 5/5] END C=10, l1_ratio=1, max_iter=500, penalty=l2, solver=saga;, score=0.998 total time=   4.2s\n",
      "[CV 1/5] END C=10, l1_ratio=1, max_iter=500, penalty=elasticnet, solver=newton-cg;, score=nan total time=   0.0s\n",
      "[CV 2/5] END C=10, l1_ratio=1, max_iter=500, penalty=elasticnet, solver=newton-cg;, score=nan total time=   0.0s\n",
      "[CV 3/5] END C=10, l1_ratio=1, max_iter=500, penalty=elasticnet, solver=newton-cg;, score=nan total time=   0.0s\n",
      "[CV 4/5] END C=10, l1_ratio=1, max_iter=500, penalty=elasticnet, solver=newton-cg;, score=nan total time=   0.0s\n",
      "[CV 5/5] END C=10, l1_ratio=1, max_iter=500, penalty=elasticnet, solver=newton-cg;, score=nan total time=   0.0s\n",
      "[CV 1/5] END C=10, l1_ratio=1, max_iter=500, penalty=elasticnet, solver=lbfgs;, score=nan total time=   0.0s\n",
      "[CV 2/5] END C=10, l1_ratio=1, max_iter=500, penalty=elasticnet, solver=lbfgs;, score=nan total time=   0.0s\n",
      "[CV 3/5] END C=10, l1_ratio=1, max_iter=500, penalty=elasticnet, solver=lbfgs;, score=nan total time=   0.0s\n",
      "[CV 4/5] END C=10, l1_ratio=1, max_iter=500, penalty=elasticnet, solver=lbfgs;, score=nan total time=   0.0s\n",
      "[CV 5/5] END C=10, l1_ratio=1, max_iter=500, penalty=elasticnet, solver=lbfgs;, score=nan total time=   0.0s\n",
      "[CV 1/5] END C=10, l1_ratio=1, max_iter=500, penalty=elasticnet, solver=liblinear;, score=nan total time=   0.0s\n",
      "[CV 2/5] END C=10, l1_ratio=1, max_iter=500, penalty=elasticnet, solver=liblinear;, score=nan total time=   0.0s\n",
      "[CV 3/5] END C=10, l1_ratio=1, max_iter=500, penalty=elasticnet, solver=liblinear;, score=nan total time=   0.0s\n",
      "[CV 4/5] END C=10, l1_ratio=1, max_iter=500, penalty=elasticnet, solver=liblinear;, score=nan total time=   0.0s\n",
      "[CV 5/5] END C=10, l1_ratio=1, max_iter=500, penalty=elasticnet, solver=liblinear;, score=nan total time=   0.0s\n",
      "[CV 1/5] END C=10, l1_ratio=1, max_iter=500, penalty=elasticnet, solver=saga;, score=0.998 total time=   4.6s\n",
      "[CV 2/5] END C=10, l1_ratio=1, max_iter=500, penalty=elasticnet, solver=saga;, score=0.998 total time=   4.6s\n",
      "[CV 3/5] END C=10, l1_ratio=1, max_iter=500, penalty=elasticnet, solver=saga;, score=0.998 total time=   4.9s\n",
      "[CV 4/5] END C=10, l1_ratio=1, max_iter=500, penalty=elasticnet, solver=saga;, score=0.998 total time=   4.6s\n",
      "[CV 5/5] END C=10, l1_ratio=1, max_iter=500, penalty=elasticnet, solver=saga;, score=0.998 total time=   4.8s\n",
      "[CV 1/5] END C=20, l1_ratio=0, max_iter=300, penalty=l2, solver=newton-cg;, score=0.999 total time=   0.1s\n",
      "[CV 2/5] END C=20, l1_ratio=0, max_iter=300, penalty=l2, solver=newton-cg;, score=0.999 total time=   0.1s\n",
      "[CV 3/5] END C=20, l1_ratio=0, max_iter=300, penalty=l2, solver=newton-cg;, score=0.999 total time=   0.1s\n",
      "[CV 4/5] END C=20, l1_ratio=0, max_iter=300, penalty=l2, solver=newton-cg;, score=0.999 total time=   0.1s\n",
      "[CV 5/5] END C=20, l1_ratio=0, max_iter=300, penalty=l2, solver=newton-cg;, score=0.999 total time=   0.1s\n",
      "[CV 1/5] END C=20, l1_ratio=0, max_iter=300, penalty=l2, solver=lbfgs;, score=0.999 total time=   0.0s\n",
      "[CV 2/5] END C=20, l1_ratio=0, max_iter=300, penalty=l2, solver=lbfgs;, score=0.999 total time=   0.0s\n",
      "[CV 3/5] END C=20, l1_ratio=0, max_iter=300, penalty=l2, solver=lbfgs;, score=0.999 total time=   0.0s\n",
      "[CV 4/5] END C=20, l1_ratio=0, max_iter=300, penalty=l2, solver=lbfgs;, score=0.999 total time=   0.0s\n",
      "[CV 5/5] END C=20, l1_ratio=0, max_iter=300, penalty=l2, solver=lbfgs;, score=0.999 total time=   0.0s\n",
      "[CV 1/5] END C=20, l1_ratio=0, max_iter=300, penalty=l2, solver=liblinear;, score=0.999 total time=   0.1s\n",
      "[CV 2/5] END C=20, l1_ratio=0, max_iter=300, penalty=l2, solver=liblinear;, score=0.999 total time=   0.1s\n",
      "[CV 3/5] END C=20, l1_ratio=0, max_iter=300, penalty=l2, solver=liblinear;, score=0.999 total time=   0.1s\n",
      "[CV 4/5] END C=20, l1_ratio=0, max_iter=300, penalty=l2, solver=liblinear;, score=0.999 total time=   0.1s\n",
      "[CV 5/5] END C=20, l1_ratio=0, max_iter=300, penalty=l2, solver=liblinear;, score=0.999 total time=   0.1s\n",
      "[CV 1/5] END C=20, l1_ratio=0, max_iter=300, penalty=l2, solver=saga;, score=0.998 total time=   2.4s\n",
      "[CV 2/5] END C=20, l1_ratio=0, max_iter=300, penalty=l2, solver=saga;, score=0.998 total time=   2.6s\n",
      "[CV 3/5] END C=20, l1_ratio=0, max_iter=300, penalty=l2, solver=saga;, score=0.998 total time=   2.4s\n",
      "[CV 4/5] END C=20, l1_ratio=0, max_iter=300, penalty=l2, solver=saga;, score=0.998 total time=   2.3s\n",
      "[CV 5/5] END C=20, l1_ratio=0, max_iter=300, penalty=l2, solver=saga;, score=0.998 total time=   2.3s\n",
      "[CV 1/5] END C=20, l1_ratio=0, max_iter=300, penalty=elasticnet, solver=newton-cg;, score=nan total time=   0.0s\n",
      "[CV 2/5] END C=20, l1_ratio=0, max_iter=300, penalty=elasticnet, solver=newton-cg;, score=nan total time=   0.0s\n",
      "[CV 3/5] END C=20, l1_ratio=0, max_iter=300, penalty=elasticnet, solver=newton-cg;, score=nan total time=   0.0s\n",
      "[CV 4/5] END C=20, l1_ratio=0, max_iter=300, penalty=elasticnet, solver=newton-cg;, score=nan total time=   0.0s\n",
      "[CV 5/5] END C=20, l1_ratio=0, max_iter=300, penalty=elasticnet, solver=newton-cg;, score=nan total time=   0.0s\n",
      "[CV 1/5] END C=20, l1_ratio=0, max_iter=300, penalty=elasticnet, solver=lbfgs;, score=nan total time=   0.0s\n",
      "[CV 2/5] END C=20, l1_ratio=0, max_iter=300, penalty=elasticnet, solver=lbfgs;, score=nan total time=   0.0s\n",
      "[CV 3/5] END C=20, l1_ratio=0, max_iter=300, penalty=elasticnet, solver=lbfgs;, score=nan total time=   0.0s\n",
      "[CV 4/5] END C=20, l1_ratio=0, max_iter=300, penalty=elasticnet, solver=lbfgs;, score=nan total time=   0.0s\n",
      "[CV 5/5] END C=20, l1_ratio=0, max_iter=300, penalty=elasticnet, solver=lbfgs;, score=nan total time=   0.0s\n",
      "[CV 1/5] END C=20, l1_ratio=0, max_iter=300, penalty=elasticnet, solver=liblinear;, score=nan total time=   0.0s\n",
      "[CV 2/5] END C=20, l1_ratio=0, max_iter=300, penalty=elasticnet, solver=liblinear;, score=nan total time=   0.0s\n",
      "[CV 3/5] END C=20, l1_ratio=0, max_iter=300, penalty=elasticnet, solver=liblinear;, score=nan total time=   0.0s\n",
      "[CV 4/5] END C=20, l1_ratio=0, max_iter=300, penalty=elasticnet, solver=liblinear;, score=nan total time=   0.0s\n",
      "[CV 5/5] END C=20, l1_ratio=0, max_iter=300, penalty=elasticnet, solver=liblinear;, score=nan total time=   0.0s\n",
      "[CV 1/5] END C=20, l1_ratio=0, max_iter=300, penalty=elasticnet, solver=saga;, score=0.998 total time=   2.4s\n",
      "[CV 2/5] END C=20, l1_ratio=0, max_iter=300, penalty=elasticnet, solver=saga;, score=0.998 total time=   2.6s\n",
      "[CV 3/5] END C=20, l1_ratio=0, max_iter=300, penalty=elasticnet, solver=saga;, score=0.998 total time=   2.8s\n",
      "[CV 4/5] END C=20, l1_ratio=0, max_iter=300, penalty=elasticnet, solver=saga;, score=0.998 total time=   2.2s\n",
      "[CV 5/5] END C=20, l1_ratio=0, max_iter=300, penalty=elasticnet, solver=saga;, score=0.998 total time=   2.5s\n",
      "[CV 1/5] END C=20, l1_ratio=0, max_iter=500, penalty=l2, solver=newton-cg;, score=0.999 total time=   0.1s\n",
      "[CV 2/5] END C=20, l1_ratio=0, max_iter=500, penalty=l2, solver=newton-cg;, score=0.999 total time=   0.1s\n",
      "[CV 3/5] END C=20, l1_ratio=0, max_iter=500, penalty=l2, solver=newton-cg;, score=0.999 total time=   0.1s\n",
      "[CV 4/5] END C=20, l1_ratio=0, max_iter=500, penalty=l2, solver=newton-cg;, score=0.999 total time=   0.1s\n",
      "[CV 5/5] END C=20, l1_ratio=0, max_iter=500, penalty=l2, solver=newton-cg;, score=0.999 total time=   0.1s\n",
      "[CV 1/5] END C=20, l1_ratio=0, max_iter=500, penalty=l2, solver=lbfgs;, score=0.999 total time=   0.0s\n",
      "[CV 2/5] END C=20, l1_ratio=0, max_iter=500, penalty=l2, solver=lbfgs;, score=0.999 total time=   0.0s\n",
      "[CV 3/5] END C=20, l1_ratio=0, max_iter=500, penalty=l2, solver=lbfgs;, score=0.999 total time=   0.0s\n",
      "[CV 4/5] END C=20, l1_ratio=0, max_iter=500, penalty=l2, solver=lbfgs;, score=0.999 total time=   0.0s\n",
      "[CV 5/5] END C=20, l1_ratio=0, max_iter=500, penalty=l2, solver=lbfgs;, score=0.999 total time=   0.0s\n",
      "[CV 1/5] END C=20, l1_ratio=0, max_iter=500, penalty=l2, solver=liblinear;, score=0.999 total time=   0.1s\n",
      "[CV 2/5] END C=20, l1_ratio=0, max_iter=500, penalty=l2, solver=liblinear;, score=0.999 total time=   0.1s\n",
      "[CV 3/5] END C=20, l1_ratio=0, max_iter=500, penalty=l2, solver=liblinear;, score=0.999 total time=   0.1s\n",
      "[CV 4/5] END C=20, l1_ratio=0, max_iter=500, penalty=l2, solver=liblinear;, score=0.999 total time=   0.1s\n",
      "[CV 5/5] END C=20, l1_ratio=0, max_iter=500, penalty=l2, solver=liblinear;, score=0.999 total time=   0.1s\n",
      "[CV 1/5] END C=20, l1_ratio=0, max_iter=500, penalty=l2, solver=saga;, score=0.998 total time=   3.8s\n",
      "[CV 2/5] END C=20, l1_ratio=0, max_iter=500, penalty=l2, solver=saga;, score=0.998 total time=   4.5s\n",
      "[CV 3/5] END C=20, l1_ratio=0, max_iter=500, penalty=l2, solver=saga;, score=0.998 total time=   4.1s\n",
      "[CV 4/5] END C=20, l1_ratio=0, max_iter=500, penalty=l2, solver=saga;, score=0.998 total time=   3.7s\n",
      "[CV 5/5] END C=20, l1_ratio=0, max_iter=500, penalty=l2, solver=saga;, score=0.998 total time=   3.7s\n",
      "[CV 1/5] END C=20, l1_ratio=0, max_iter=500, penalty=elasticnet, solver=newton-cg;, score=nan total time=   0.0s\n",
      "[CV 2/5] END C=20, l1_ratio=0, max_iter=500, penalty=elasticnet, solver=newton-cg;, score=nan total time=   0.0s\n",
      "[CV 3/5] END C=20, l1_ratio=0, max_iter=500, penalty=elasticnet, solver=newton-cg;, score=nan total time=   0.0s\n",
      "[CV 4/5] END C=20, l1_ratio=0, max_iter=500, penalty=elasticnet, solver=newton-cg;, score=nan total time=   0.0s\n",
      "[CV 5/5] END C=20, l1_ratio=0, max_iter=500, penalty=elasticnet, solver=newton-cg;, score=nan total time=   0.0s\n",
      "[CV 1/5] END C=20, l1_ratio=0, max_iter=500, penalty=elasticnet, solver=lbfgs;, score=nan total time=   0.0s\n",
      "[CV 2/5] END C=20, l1_ratio=0, max_iter=500, penalty=elasticnet, solver=lbfgs;, score=nan total time=   0.0s\n",
      "[CV 3/5] END C=20, l1_ratio=0, max_iter=500, penalty=elasticnet, solver=lbfgs;, score=nan total time=   0.0s\n",
      "[CV 4/5] END C=20, l1_ratio=0, max_iter=500, penalty=elasticnet, solver=lbfgs;, score=nan total time=   0.0s\n",
      "[CV 5/5] END C=20, l1_ratio=0, max_iter=500, penalty=elasticnet, solver=lbfgs;, score=nan total time=   0.0s\n",
      "[CV 1/5] END C=20, l1_ratio=0, max_iter=500, penalty=elasticnet, solver=liblinear;, score=nan total time=   0.0s\n",
      "[CV 2/5] END C=20, l1_ratio=0, max_iter=500, penalty=elasticnet, solver=liblinear;, score=nan total time=   0.0s\n",
      "[CV 3/5] END C=20, l1_ratio=0, max_iter=500, penalty=elasticnet, solver=liblinear;, score=nan total time=   0.0s\n",
      "[CV 4/5] END C=20, l1_ratio=0, max_iter=500, penalty=elasticnet, solver=liblinear;, score=nan total time=   0.0s\n",
      "[CV 5/5] END C=20, l1_ratio=0, max_iter=500, penalty=elasticnet, solver=liblinear;, score=nan total time=   0.0s\n",
      "[CV 1/5] END C=20, l1_ratio=0, max_iter=500, penalty=elasticnet, solver=saga;, score=0.998 total time=   4.1s\n",
      "[CV 2/5] END C=20, l1_ratio=0, max_iter=500, penalty=elasticnet, solver=saga;, score=0.998 total time=   4.0s\n",
      "[CV 3/5] END C=20, l1_ratio=0, max_iter=500, penalty=elasticnet, solver=saga;, score=0.998 total time=   3.9s\n",
      "[CV 4/5] END C=20, l1_ratio=0, max_iter=500, penalty=elasticnet, solver=saga;, score=0.998 total time=   3.8s\n",
      "[CV 5/5] END C=20, l1_ratio=0, max_iter=500, penalty=elasticnet, solver=saga;, score=0.998 total time=   4.4s\n",
      "[CV 1/5] END C=20, l1_ratio=0.5, max_iter=300, penalty=l2, solver=newton-cg;, score=0.999 total time=   0.1s\n",
      "[CV 2/5] END C=20, l1_ratio=0.5, max_iter=300, penalty=l2, solver=newton-cg;, score=0.999 total time=   0.1s\n",
      "[CV 3/5] END C=20, l1_ratio=0.5, max_iter=300, penalty=l2, solver=newton-cg;, score=0.999 total time=   0.1s\n",
      "[CV 4/5] END C=20, l1_ratio=0.5, max_iter=300, penalty=l2, solver=newton-cg;, score=0.999 total time=   0.1s\n",
      "[CV 5/5] END C=20, l1_ratio=0.5, max_iter=300, penalty=l2, solver=newton-cg;, score=0.999 total time=   0.1s\n",
      "[CV 1/5] END C=20, l1_ratio=0.5, max_iter=300, penalty=l2, solver=lbfgs;, score=0.999 total time=   0.0s\n",
      "[CV 2/5] END C=20, l1_ratio=0.5, max_iter=300, penalty=l2, solver=lbfgs;, score=0.999 total time=   0.0s\n",
      "[CV 3/5] END C=20, l1_ratio=0.5, max_iter=300, penalty=l2, solver=lbfgs;, score=0.999 total time=   0.0s\n",
      "[CV 4/5] END C=20, l1_ratio=0.5, max_iter=300, penalty=l2, solver=lbfgs;, score=0.999 total time=   0.1s\n",
      "[CV 5/5] END C=20, l1_ratio=0.5, max_iter=300, penalty=l2, solver=lbfgs;, score=0.999 total time=   0.0s\n",
      "[CV 1/5] END C=20, l1_ratio=0.5, max_iter=300, penalty=l2, solver=liblinear;, score=0.999 total time=   0.1s\n",
      "[CV 2/5] END C=20, l1_ratio=0.5, max_iter=300, penalty=l2, solver=liblinear;, score=0.999 total time=   0.1s\n",
      "[CV 3/5] END C=20, l1_ratio=0.5, max_iter=300, penalty=l2, solver=liblinear;, score=0.999 total time=   0.1s\n",
      "[CV 4/5] END C=20, l1_ratio=0.5, max_iter=300, penalty=l2, solver=liblinear;, score=0.999 total time=   0.1s\n",
      "[CV 5/5] END C=20, l1_ratio=0.5, max_iter=300, penalty=l2, solver=liblinear;, score=0.999 total time=   0.1s\n",
      "[CV 1/5] END C=20, l1_ratio=0.5, max_iter=300, penalty=l2, solver=saga;, score=0.998 total time=   2.3s\n",
      "[CV 2/5] END C=20, l1_ratio=0.5, max_iter=300, penalty=l2, solver=saga;, score=0.998 total time=   2.3s\n",
      "[CV 3/5] END C=20, l1_ratio=0.5, max_iter=300, penalty=l2, solver=saga;, score=0.998 total time=   2.2s\n",
      "[CV 4/5] END C=20, l1_ratio=0.5, max_iter=300, penalty=l2, solver=saga;, score=0.998 total time=   2.3s\n",
      "[CV 5/5] END C=20, l1_ratio=0.5, max_iter=300, penalty=l2, solver=saga;, score=0.998 total time=   2.6s\n",
      "[CV 1/5] END C=20, l1_ratio=0.5, max_iter=300, penalty=elasticnet, solver=newton-cg;, score=nan total time=   0.0s\n",
      "[CV 2/5] END C=20, l1_ratio=0.5, max_iter=300, penalty=elasticnet, solver=newton-cg;, score=nan total time=   0.0s\n",
      "[CV 3/5] END C=20, l1_ratio=0.5, max_iter=300, penalty=elasticnet, solver=newton-cg;, score=nan total time=   0.0s\n",
      "[CV 4/5] END C=20, l1_ratio=0.5, max_iter=300, penalty=elasticnet, solver=newton-cg;, score=nan total time=   0.0s\n",
      "[CV 5/5] END C=20, l1_ratio=0.5, max_iter=300, penalty=elasticnet, solver=newton-cg;, score=nan total time=   0.0s\n",
      "[CV 1/5] END C=20, l1_ratio=0.5, max_iter=300, penalty=elasticnet, solver=lbfgs;, score=nan total time=   0.0s\n",
      "[CV 2/5] END C=20, l1_ratio=0.5, max_iter=300, penalty=elasticnet, solver=lbfgs;, score=nan total time=   0.0s\n",
      "[CV 3/5] END C=20, l1_ratio=0.5, max_iter=300, penalty=elasticnet, solver=lbfgs;, score=nan total time=   0.0s\n",
      "[CV 4/5] END C=20, l1_ratio=0.5, max_iter=300, penalty=elasticnet, solver=lbfgs;, score=nan total time=   0.0s\n",
      "[CV 5/5] END C=20, l1_ratio=0.5, max_iter=300, penalty=elasticnet, solver=lbfgs;, score=nan total time=   0.0s\n",
      "[CV 1/5] END C=20, l1_ratio=0.5, max_iter=300, penalty=elasticnet, solver=liblinear;, score=nan total time=   0.0s\n",
      "[CV 2/5] END C=20, l1_ratio=0.5, max_iter=300, penalty=elasticnet, solver=liblinear;, score=nan total time=   0.0s\n",
      "[CV 3/5] END C=20, l1_ratio=0.5, max_iter=300, penalty=elasticnet, solver=liblinear;, score=nan total time=   0.0s\n",
      "[CV 4/5] END C=20, l1_ratio=0.5, max_iter=300, penalty=elasticnet, solver=liblinear;, score=nan total time=   0.0s\n",
      "[CV 5/5] END C=20, l1_ratio=0.5, max_iter=300, penalty=elasticnet, solver=liblinear;, score=nan total time=   0.0s\n",
      "[CV 1/5] END C=20, l1_ratio=0.5, max_iter=300, penalty=elasticnet, solver=saga;, score=0.998 total time=   2.9s\n",
      "[CV 2/5] END C=20, l1_ratio=0.5, max_iter=300, penalty=elasticnet, solver=saga;, score=0.998 total time=   2.8s\n",
      "[CV 3/5] END C=20, l1_ratio=0.5, max_iter=300, penalty=elasticnet, solver=saga;, score=0.998 total time=   2.8s\n",
      "[CV 4/5] END C=20, l1_ratio=0.5, max_iter=300, penalty=elasticnet, solver=saga;, score=0.998 total time=   2.9s\n",
      "[CV 5/5] END C=20, l1_ratio=0.5, max_iter=300, penalty=elasticnet, solver=saga;, score=0.998 total time=   3.3s\n",
      "[CV 1/5] END C=20, l1_ratio=0.5, max_iter=500, penalty=l2, solver=newton-cg;, score=0.999 total time=   0.2s\n",
      "[CV 2/5] END C=20, l1_ratio=0.5, max_iter=500, penalty=l2, solver=newton-cg;, score=0.999 total time=   0.2s\n",
      "[CV 3/5] END C=20, l1_ratio=0.5, max_iter=500, penalty=l2, solver=newton-cg;, score=0.999 total time=   0.2s\n",
      "[CV 4/5] END C=20, l1_ratio=0.5, max_iter=500, penalty=l2, solver=newton-cg;, score=0.999 total time=   0.2s\n",
      "[CV 5/5] END C=20, l1_ratio=0.5, max_iter=500, penalty=l2, solver=newton-cg;, score=0.999 total time=   0.1s\n",
      "[CV 1/5] END C=20, l1_ratio=0.5, max_iter=500, penalty=l2, solver=lbfgs;, score=0.999 total time=   0.0s\n",
      "[CV 2/5] END C=20, l1_ratio=0.5, max_iter=500, penalty=l2, solver=lbfgs;, score=0.999 total time=   0.1s\n",
      "[CV 3/5] END C=20, l1_ratio=0.5, max_iter=500, penalty=l2, solver=lbfgs;, score=0.999 total time=   0.1s\n",
      "[CV 4/5] END C=20, l1_ratio=0.5, max_iter=500, penalty=l2, solver=lbfgs;, score=0.999 total time=   0.0s\n",
      "[CV 5/5] END C=20, l1_ratio=0.5, max_iter=500, penalty=l2, solver=lbfgs;, score=0.999 total time=   0.0s\n",
      "[CV 1/5] END C=20, l1_ratio=0.5, max_iter=500, penalty=l2, solver=liblinear;, score=0.999 total time=   0.2s\n",
      "[CV 2/5] END C=20, l1_ratio=0.5, max_iter=500, penalty=l2, solver=liblinear;, score=0.999 total time=   0.1s\n",
      "[CV 3/5] END C=20, l1_ratio=0.5, max_iter=500, penalty=l2, solver=liblinear;, score=0.999 total time=   0.1s\n",
      "[CV 4/5] END C=20, l1_ratio=0.5, max_iter=500, penalty=l2, solver=liblinear;, score=0.999 total time=   0.1s\n",
      "[CV 5/5] END C=20, l1_ratio=0.5, max_iter=500, penalty=l2, solver=liblinear;, score=0.999 total time=   0.1s\n",
      "[CV 1/5] END C=20, l1_ratio=0.5, max_iter=500, penalty=l2, solver=saga;, score=0.998 total time=   4.9s\n",
      "[CV 2/5] END C=20, l1_ratio=0.5, max_iter=500, penalty=l2, solver=saga;, score=0.998 total time=   4.7s\n",
      "[CV 3/5] END C=20, l1_ratio=0.5, max_iter=500, penalty=l2, solver=saga;, score=0.998 total time=   5.6s\n",
      "[CV 4/5] END C=20, l1_ratio=0.5, max_iter=500, penalty=l2, solver=saga;, score=0.998 total time=   4.2s\n",
      "[CV 5/5] END C=20, l1_ratio=0.5, max_iter=500, penalty=l2, solver=saga;, score=0.998 total time=   4.6s\n",
      "[CV 1/5] END C=20, l1_ratio=0.5, max_iter=500, penalty=elasticnet, solver=newton-cg;, score=nan total time=   0.0s\n",
      "[CV 2/5] END C=20, l1_ratio=0.5, max_iter=500, penalty=elasticnet, solver=newton-cg;, score=nan total time=   0.0s\n",
      "[CV 3/5] END C=20, l1_ratio=0.5, max_iter=500, penalty=elasticnet, solver=newton-cg;, score=nan total time=   0.0s\n",
      "[CV 4/5] END C=20, l1_ratio=0.5, max_iter=500, penalty=elasticnet, solver=newton-cg;, score=nan total time=   0.0s\n",
      "[CV 5/5] END C=20, l1_ratio=0.5, max_iter=500, penalty=elasticnet, solver=newton-cg;, score=nan total time=   0.0s\n",
      "[CV 1/5] END C=20, l1_ratio=0.5, max_iter=500, penalty=elasticnet, solver=lbfgs;, score=nan total time=   0.0s\n",
      "[CV 2/5] END C=20, l1_ratio=0.5, max_iter=500, penalty=elasticnet, solver=lbfgs;, score=nan total time=   0.0s\n",
      "[CV 3/5] END C=20, l1_ratio=0.5, max_iter=500, penalty=elasticnet, solver=lbfgs;, score=nan total time=   0.0s\n",
      "[CV 4/5] END C=20, l1_ratio=0.5, max_iter=500, penalty=elasticnet, solver=lbfgs;, score=nan total time=   0.0s\n",
      "[CV 5/5] END C=20, l1_ratio=0.5, max_iter=500, penalty=elasticnet, solver=lbfgs;, score=nan total time=   0.0s\n",
      "[CV 1/5] END C=20, l1_ratio=0.5, max_iter=500, penalty=elasticnet, solver=liblinear;, score=nan total time=   0.0s\n",
      "[CV 2/5] END C=20, l1_ratio=0.5, max_iter=500, penalty=elasticnet, solver=liblinear;, score=nan total time=   0.0s\n",
      "[CV 3/5] END C=20, l1_ratio=0.5, max_iter=500, penalty=elasticnet, solver=liblinear;, score=nan total time=   0.0s\n",
      "[CV 4/5] END C=20, l1_ratio=0.5, max_iter=500, penalty=elasticnet, solver=liblinear;, score=nan total time=   0.0s\n",
      "[CV 5/5] END C=20, l1_ratio=0.5, max_iter=500, penalty=elasticnet, solver=liblinear;, score=nan total time=   0.0s\n",
      "[CV 1/5] END C=20, l1_ratio=0.5, max_iter=500, penalty=elasticnet, solver=saga;, score=0.998 total time=   6.5s\n",
      "[CV 2/5] END C=20, l1_ratio=0.5, max_iter=500, penalty=elasticnet, solver=saga;, score=0.998 total time=   5.2s\n",
      "[CV 3/5] END C=20, l1_ratio=0.5, max_iter=500, penalty=elasticnet, solver=saga;, score=0.998 total time=   4.7s\n",
      "[CV 4/5] END C=20, l1_ratio=0.5, max_iter=500, penalty=elasticnet, solver=saga;, score=0.998 total time=   6.7s\n",
      "[CV 5/5] END C=20, l1_ratio=0.5, max_iter=500, penalty=elasticnet, solver=saga;, score=0.998 total time=   5.8s\n",
      "[CV 1/5] END C=20, l1_ratio=1, max_iter=300, penalty=l2, solver=newton-cg;, score=0.999 total time=   0.1s\n",
      "[CV 2/5] END C=20, l1_ratio=1, max_iter=300, penalty=l2, solver=newton-cg;, score=0.999 total time=   0.1s\n",
      "[CV 3/5] END C=20, l1_ratio=1, max_iter=300, penalty=l2, solver=newton-cg;, score=0.999 total time=   0.1s\n",
      "[CV 4/5] END C=20, l1_ratio=1, max_iter=300, penalty=l2, solver=newton-cg;, score=0.999 total time=   0.1s\n",
      "[CV 5/5] END C=20, l1_ratio=1, max_iter=300, penalty=l2, solver=newton-cg;, score=0.999 total time=   0.1s\n",
      "[CV 1/5] END C=20, l1_ratio=1, max_iter=300, penalty=l2, solver=lbfgs;, score=0.999 total time=   0.0s\n",
      "[CV 2/5] END C=20, l1_ratio=1, max_iter=300, penalty=l2, solver=lbfgs;, score=0.999 total time=   0.0s\n",
      "[CV 3/5] END C=20, l1_ratio=1, max_iter=300, penalty=l2, solver=lbfgs;, score=0.999 total time=   0.0s\n",
      "[CV 4/5] END C=20, l1_ratio=1, max_iter=300, penalty=l2, solver=lbfgs;, score=0.999 total time=   0.0s\n",
      "[CV 5/5] END C=20, l1_ratio=1, max_iter=300, penalty=l2, solver=lbfgs;, score=0.999 total time=   0.0s\n",
      "[CV 1/5] END C=20, l1_ratio=1, max_iter=300, penalty=l2, solver=liblinear;, score=0.999 total time=   0.1s\n",
      "[CV 2/5] END C=20, l1_ratio=1, max_iter=300, penalty=l2, solver=liblinear;, score=0.999 total time=   0.1s\n",
      "[CV 3/5] END C=20, l1_ratio=1, max_iter=300, penalty=l2, solver=liblinear;, score=0.999 total time=   0.1s\n",
      "[CV 4/5] END C=20, l1_ratio=1, max_iter=300, penalty=l2, solver=liblinear;, score=0.999 total time=   0.1s\n",
      "[CV 5/5] END C=20, l1_ratio=1, max_iter=300, penalty=l2, solver=liblinear;, score=0.999 total time=   0.1s\n",
      "[CV 1/5] END C=20, l1_ratio=1, max_iter=300, penalty=l2, solver=saga;, score=0.998 total time=   2.7s\n",
      "[CV 2/5] END C=20, l1_ratio=1, max_iter=300, penalty=l2, solver=saga;, score=0.998 total time=   2.9s\n",
      "[CV 3/5] END C=20, l1_ratio=1, max_iter=300, penalty=l2, solver=saga;, score=0.998 total time=   3.1s\n",
      "[CV 4/5] END C=20, l1_ratio=1, max_iter=300, penalty=l2, solver=saga;, score=0.998 total time=   3.2s\n",
      "[CV 5/5] END C=20, l1_ratio=1, max_iter=300, penalty=l2, solver=saga;, score=0.998 total time=   2.8s\n",
      "[CV 1/5] END C=20, l1_ratio=1, max_iter=300, penalty=elasticnet, solver=newton-cg;, score=nan total time=   0.0s\n",
      "[CV 2/5] END C=20, l1_ratio=1, max_iter=300, penalty=elasticnet, solver=newton-cg;, score=nan total time=   0.0s\n",
      "[CV 3/5] END C=20, l1_ratio=1, max_iter=300, penalty=elasticnet, solver=newton-cg;, score=nan total time=   0.0s\n",
      "[CV 4/5] END C=20, l1_ratio=1, max_iter=300, penalty=elasticnet, solver=newton-cg;, score=nan total time=   0.0s\n",
      "[CV 5/5] END C=20, l1_ratio=1, max_iter=300, penalty=elasticnet, solver=newton-cg;, score=nan total time=   0.0s\n",
      "[CV 1/5] END C=20, l1_ratio=1, max_iter=300, penalty=elasticnet, solver=lbfgs;, score=nan total time=   0.0s\n",
      "[CV 2/5] END C=20, l1_ratio=1, max_iter=300, penalty=elasticnet, solver=lbfgs;, score=nan total time=   0.0s\n",
      "[CV 3/5] END C=20, l1_ratio=1, max_iter=300, penalty=elasticnet, solver=lbfgs;, score=nan total time=   0.0s\n",
      "[CV 4/5] END C=20, l1_ratio=1, max_iter=300, penalty=elasticnet, solver=lbfgs;, score=nan total time=   0.0s\n",
      "[CV 5/5] END C=20, l1_ratio=1, max_iter=300, penalty=elasticnet, solver=lbfgs;, score=nan total time=   0.0s\n",
      "[CV 1/5] END C=20, l1_ratio=1, max_iter=300, penalty=elasticnet, solver=liblinear;, score=nan total time=   0.0s\n",
      "[CV 2/5] END C=20, l1_ratio=1, max_iter=300, penalty=elasticnet, solver=liblinear;, score=nan total time=   0.0s\n",
      "[CV 3/5] END C=20, l1_ratio=1, max_iter=300, penalty=elasticnet, solver=liblinear;, score=nan total time=   0.0s\n",
      "[CV 4/5] END C=20, l1_ratio=1, max_iter=300, penalty=elasticnet, solver=liblinear;, score=nan total time=   0.0s\n",
      "[CV 5/5] END C=20, l1_ratio=1, max_iter=300, penalty=elasticnet, solver=liblinear;, score=nan total time=   0.0s\n",
      "[CV 1/5] END C=20, l1_ratio=1, max_iter=300, penalty=elasticnet, solver=saga;, score=0.998 total time=   3.9s\n",
      "[CV 2/5] END C=20, l1_ratio=1, max_iter=300, penalty=elasticnet, solver=saga;, score=0.998 total time=   4.0s\n",
      "[CV 3/5] END C=20, l1_ratio=1, max_iter=300, penalty=elasticnet, solver=saga;, score=0.998 total time=   3.2s\n",
      "[CV 4/5] END C=20, l1_ratio=1, max_iter=300, penalty=elasticnet, solver=saga;, score=0.998 total time=   4.5s\n",
      "[CV 5/5] END C=20, l1_ratio=1, max_iter=300, penalty=elasticnet, solver=saga;, score=0.998 total time=   4.3s\n",
      "[CV 1/5] END C=20, l1_ratio=1, max_iter=500, penalty=l2, solver=newton-cg;, score=0.999 total time=   0.1s\n",
      "[CV 2/5] END C=20, l1_ratio=1, max_iter=500, penalty=l2, solver=newton-cg;, score=0.999 total time=   0.1s\n",
      "[CV 3/5] END C=20, l1_ratio=1, max_iter=500, penalty=l2, solver=newton-cg;, score=0.999 total time=   0.1s\n",
      "[CV 4/5] END C=20, l1_ratio=1, max_iter=500, penalty=l2, solver=newton-cg;, score=0.999 total time=   0.1s\n",
      "[CV 5/5] END C=20, l1_ratio=1, max_iter=500, penalty=l2, solver=newton-cg;, score=0.999 total time=   0.1s\n",
      "[CV 1/5] END C=20, l1_ratio=1, max_iter=500, penalty=l2, solver=lbfgs;, score=0.999 total time=   0.0s\n",
      "[CV 2/5] END C=20, l1_ratio=1, max_iter=500, penalty=l2, solver=lbfgs;, score=0.999 total time=   0.0s\n",
      "[CV 3/5] END C=20, l1_ratio=1, max_iter=500, penalty=l2, solver=lbfgs;, score=0.999 total time=   0.0s\n",
      "[CV 4/5] END C=20, l1_ratio=1, max_iter=500, penalty=l2, solver=lbfgs;, score=0.999 total time=   0.0s\n",
      "[CV 5/5] END C=20, l1_ratio=1, max_iter=500, penalty=l2, solver=lbfgs;, score=0.999 total time=   0.0s\n",
      "[CV 1/5] END C=20, l1_ratio=1, max_iter=500, penalty=l2, solver=liblinear;, score=0.999 total time=   0.2s\n",
      "[CV 2/5] END C=20, l1_ratio=1, max_iter=500, penalty=l2, solver=liblinear;, score=0.999 total time=   0.1s\n",
      "[CV 3/5] END C=20, l1_ratio=1, max_iter=500, penalty=l2, solver=liblinear;, score=0.999 total time=   0.1s\n",
      "[CV 4/5] END C=20, l1_ratio=1, max_iter=500, penalty=l2, solver=liblinear;, score=0.999 total time=   0.1s\n",
      "[CV 5/5] END C=20, l1_ratio=1, max_iter=500, penalty=l2, solver=liblinear;, score=0.999 total time=   0.1s\n",
      "[CV 1/5] END C=20, l1_ratio=1, max_iter=500, penalty=l2, solver=saga;, score=0.998 total time=   5.2s\n",
      "[CV 2/5] END C=20, l1_ratio=1, max_iter=500, penalty=l2, solver=saga;, score=0.998 total time=   4.1s\n",
      "[CV 3/5] END C=20, l1_ratio=1, max_iter=500, penalty=l2, solver=saga;, score=0.998 total time=   4.1s\n",
      "[CV 4/5] END C=20, l1_ratio=1, max_iter=500, penalty=l2, solver=saga;, score=0.998 total time=   4.0s\n",
      "[CV 5/5] END C=20, l1_ratio=1, max_iter=500, penalty=l2, solver=saga;, score=0.998 total time=   3.8s\n",
      "[CV 1/5] END C=20, l1_ratio=1, max_iter=500, penalty=elasticnet, solver=newton-cg;, score=nan total time=   0.0s\n",
      "[CV 2/5] END C=20, l1_ratio=1, max_iter=500, penalty=elasticnet, solver=newton-cg;, score=nan total time=   0.0s\n",
      "[CV 3/5] END C=20, l1_ratio=1, max_iter=500, penalty=elasticnet, solver=newton-cg;, score=nan total time=   0.0s\n",
      "[CV 4/5] END C=20, l1_ratio=1, max_iter=500, penalty=elasticnet, solver=newton-cg;, score=nan total time=   0.0s\n",
      "[CV 5/5] END C=20, l1_ratio=1, max_iter=500, penalty=elasticnet, solver=newton-cg;, score=nan total time=   0.0s\n",
      "[CV 1/5] END C=20, l1_ratio=1, max_iter=500, penalty=elasticnet, solver=lbfgs;, score=nan total time=   0.0s\n",
      "[CV 2/5] END C=20, l1_ratio=1, max_iter=500, penalty=elasticnet, solver=lbfgs;, score=nan total time=   0.0s\n",
      "[CV 3/5] END C=20, l1_ratio=1, max_iter=500, penalty=elasticnet, solver=lbfgs;, score=nan total time=   0.0s\n",
      "[CV 4/5] END C=20, l1_ratio=1, max_iter=500, penalty=elasticnet, solver=lbfgs;, score=nan total time=   0.0s\n",
      "[CV 5/5] END C=20, l1_ratio=1, max_iter=500, penalty=elasticnet, solver=lbfgs;, score=nan total time=   0.0s\n",
      "[CV 1/5] END C=20, l1_ratio=1, max_iter=500, penalty=elasticnet, solver=liblinear;, score=nan total time=   0.0s\n",
      "[CV 2/5] END C=20, l1_ratio=1, max_iter=500, penalty=elasticnet, solver=liblinear;, score=nan total time=   0.0s\n",
      "[CV 3/5] END C=20, l1_ratio=1, max_iter=500, penalty=elasticnet, solver=liblinear;, score=nan total time=   0.0s\n",
      "[CV 4/5] END C=20, l1_ratio=1, max_iter=500, penalty=elasticnet, solver=liblinear;, score=nan total time=   0.0s\n",
      "[CV 5/5] END C=20, l1_ratio=1, max_iter=500, penalty=elasticnet, solver=liblinear;, score=nan total time=   0.0s\n",
      "[CV 1/5] END C=20, l1_ratio=1, max_iter=500, penalty=elasticnet, solver=saga;, score=0.998 total time=   4.6s\n",
      "[CV 2/5] END C=20, l1_ratio=1, max_iter=500, penalty=elasticnet, solver=saga;, score=0.998 total time=   5.5s\n",
      "[CV 3/5] END C=20, l1_ratio=1, max_iter=500, penalty=elasticnet, solver=saga;, score=0.998 total time=   4.7s\n",
      "[CV 4/5] END C=20, l1_ratio=1, max_iter=500, penalty=elasticnet, solver=saga;, score=0.998 total time=   4.6s\n",
      "[CV 5/5] END C=20, l1_ratio=1, max_iter=500, penalty=elasticnet, solver=saga;, score=0.998 total time=   5.0s\n",
      "Execution time: 689.96 seconds\n"
     ]
    }
   ],
   "source": [
    "### n_jobs = none\n",
    "start_time = time.time() \n",
    "grid_search.fit(X_train, y_train)\n",
    "end_time = time.time()\n",
    "execution_time = end_time - start_time\n",
    "print(f\"Execution time: {execution_time:.2f} seconds\")  # Execution time: 689.96 seconds n_jobs = none (1)"
   ]
  },
  {
   "cell_type": "code",
   "execution_count": 52,
   "id": "4ada50eb-6e51-4c9a-952d-79d77173e087",
   "metadata": {},
   "outputs": [
    {
     "name": "stdout",
     "output_type": "stream",
     "text": [
      "Best Parameters: {'C': 20, 'l1_ratio': 0, 'max_iter': 300, 'penalty': 'l2', 'solver': 'newton-cg'}\n",
      "Best Cross-Validation Score: 0.9992658597946464\n"
     ]
    }
   ],
   "source": [
    "print(\"Best Parameters:\", grid_search.best_params_)\n",
    "print(\"Best Cross-Validation Score:\", grid_search.best_score_)"
   ]
  },
  {
   "cell_type": "code",
   "execution_count": 53,
   "id": "9e05b73f-659b-4c09-9533-6841be4a0d4a",
   "metadata": {},
   "outputs": [],
   "source": [
    "logreg_best = LogisticRegression(penalty = 'l2', C = 20, max_iter =  300, solver = 'newton-cg')"
   ]
  },
  {
   "cell_type": "markdown",
   "id": "1d61e190-1206-4300-8abc-60d482af61f7",
   "metadata": {},
   "source": [
    "## Heatmap for Hyperparameter Grid Search Results"
   ]
  },
  {
   "cell_type": "code",
   "execution_count": 54,
   "id": "b2186d0a-82c6-4ef0-a43c-b7ab8b27f5b0",
   "metadata": {},
   "outputs": [
    {
     "data": {
      "image/png": "[encoded data removed]",
      "text/plain": [
       "<Figure size 800x600 with 2 Axes>"
      ]
     },
     "metadata": {},
     "output_type": "display_data"
    }
   ],
   "source": [
    "# Assuming grid_search.cv_results_ is available after running GridSearchCV\n",
    "results = pd.DataFrame(grid_search.cv_results_)\n",
    "grouped_results = results.groupby([\"param_C\", \"param_penalty\"])[\"mean_test_score\"].mean().reset_index()\n",
    "\n",
    "# Pivot to create the scores matrix\n",
    "scores_matrix = grouped_results.pivot(index=\"param_C\", columns=\"param_penalty\", values=\"mean_test_score\")\n",
    "\n",
    "# Plot heatmap\n",
    "plt.figure(figsize=(8, 6))\n",
    "sns.heatmap(scores_matrix, annot=True, fmt=\".5f\", cmap=\"viridis\")\n",
    "plt.title(\"Heatmap of Cross-Validation Accuracy\")\n",
    "plt.xlabel(\"Penalty\")\n",
    "plt.ylabel(\"C\")\n",
    "plt.show()\n"
   ]
  },
  {
   "cell_type": "markdown",
   "id": "78a2934c-e591-4167-a429-eef228860d32",
   "metadata": {},
   "source": [
    "## Validation Curve (for a Single Hyperparameter)"
   ]
  },
  {
   "cell_type": "code",
   "execution_count": 55,
   "id": "f9b41883-84d0-4184-8c63-9e0a818d35bd",
   "metadata": {
    "scrolled": true
   },
   "outputs": [
    {
     "data": {
      "image/png": "[encoded data removed]",
      "text/plain": [
       "<Figure size 800x600 with 1 Axes>"
      ]
     },
     "metadata": {},
     "output_type": "display_data"
    }
   ],
   "source": [
    "param_range = [0.001, 0.01, 0.1, 1, 10, 100]\n",
    "train_scores, val_scores = validation_curve(\n",
    "    LogisticRegression(),\n",
    "    X_train, y_train,\n",
    "    param_name=\"C\",\n",
    "    param_range=param_range,\n",
    "    cv=5,\n",
    "    scoring=\"accuracy\"\n",
    ")\n",
    "\n",
    "# Plotting\n",
    "plt.figure(figsize=(8, 6))\n",
    "plt.plot(param_range, np.mean(train_scores, axis=1), label=\"Training score\", color=\"blue\")\n",
    "plt.plot(param_range, np.mean(val_scores, axis=1), label=\"Validation score\", color=\"red\")\n",
    "plt.xlabel(\"C (Inverse of Regularization Strength)\")\n",
    "plt.ylabel(\"Accuracy\")\n",
    "plt.title(\"Validation Curve for Logistic Regression\")\n",
    "plt.xscale(\"log\")  # Log scale for C\n",
    "plt.legend()\n",
    "plt.show()"
   ]
  },
  {
   "cell_type": "markdown",
   "id": "7863ae40-5fa8-4f64-976e-610d3a1e2e3a",
   "metadata": {},
   "source": [
    "## Learning Curves (Training vs. Cross-Validation Performance)"
   ]
  },
  {
   "cell_type": "code",
   "execution_count": 56,
   "id": "ae75421a-0c4d-45b0-b18f-580e1076205e",
   "metadata": {},
   "outputs": [
    {
     "data": {
      "image/png": "[encoded data removed]",
      "text/plain": [
       "<Figure size 1000x600 with 1 Axes>"
      ]
     },
     "metadata": {},
     "output_type": "display_data"
    }
   ],
   "source": [
    "train_sizes, train_scores, val_scores = learning_curve(\n",
    "    logreg_best, X_train, y_train, cv=5, scoring=\"accuracy\", train_sizes=np.linspace(0.1, 1.0, 5)\n",
    ")\n",
    "\n",
    "# Mean and standard deviation for plotting\n",
    "train_mean = np.mean(train_scores, axis=1)\n",
    "train_std = np.std(train_scores, axis=1)\n",
    "val_mean = np.mean(val_scores, axis=1)\n",
    "val_std = np.std(val_scores, axis=1)\n",
    "\n",
    "plt.figure(figsize=(10, 6))\n",
    "plt.plot(train_sizes, train_mean, label=\"Training score\", color=\"blue\")\n",
    "plt.fill_between(train_sizes, train_mean - train_std, train_mean + train_std, color=\"blue\", alpha=0.2)\n",
    "plt.plot(train_sizes, val_mean, label=\"Cross-validation score\", color=\"red\")\n",
    "plt.fill_between(train_sizes, val_mean - val_std, val_mean + val_std, color=\"red\", alpha=0.2)\n",
    "plt.xlabel(\"Training Set Size\")\n",
    "plt.ylabel(\"Accuracy Score\")\n",
    "plt.title(\"Learning Curve for Logistic Regression\")\n",
    "plt.legend()\n",
    "plt.show()"
   ]
  },
  {
   "cell_type": "markdown",
   "id": "fd322696-3ebd-4e8c-9133-3192d807daf1",
   "metadata": {},
   "source": [
    "### Model validation via cross-validation"
   ]
  },
  {
   "cell_type": "code",
   "execution_count": 57,
   "id": "f9ae5c67-9747-47ce-aba1-99c4256378ed",
   "metadata": {},
   "outputs": [
    {
     "data": {
      "text/plain": [
       "0.9986368711843269"
      ]
     },
     "execution_count": 57,
     "metadata": {},
     "output_type": "execute_result"
    }
   ],
   "source": [
    "# split the data with 50% in each set\n",
    "X1, X2, y1, y2 = train_test_split(X, y, random_state=0,\n",
    "                                  train_size=0.5)\n",
    "\n",
    "# fit the model on one set of data\n",
    "logreg.fit(X1, y1)\n",
    "\n",
    "# evaluate the model on the second set of data\n",
    "y2_model = logreg.predict(X2)\n",
    "accuracy_score(y2, y2_model)"
   ]
  },
  {
   "cell_type": "code",
   "execution_count": 58,
   "id": "3175d360-55ea-46b8-b58d-bba08ee558c2",
   "metadata": {},
   "outputs": [
    {
     "data": {
      "text/plain": [
       "(0.9982308071579802, 0.9986368711843269)"
      ]
     },
     "execution_count": 58,
     "metadata": {},
     "output_type": "execute_result"
    }
   ],
   "source": [
    "y2_model = logreg.fit(X1, y1).predict(X2)\n",
    "y1_model = logreg.fit(X2, y2).predict(X1)\n",
    "accuracy_score(y1, y1_model), accuracy_score(y2, y2_model)"
   ]
  },
  {
   "cell_type": "code",
   "execution_count": 59,
   "id": "71908ee7-96bc-4ffe-ba62-ee6a18a716d2",
   "metadata": {},
   "outputs": [
    {
     "data": {
      "text/plain": [
       "array([0.99920244, 0.99883991, 0.99851358, 0.99807853, 0.96867636])"
      ]
     },
     "execution_count": 59,
     "metadata": {},
     "output_type": "execute_result"
    }
   ],
   "source": [
    "cross_val_score(logreg, X, y, cv=5)"
   ]
  },
  {
   "cell_type": "code",
   "execution_count": 60,
   "id": "f9f14608-5c74-4d73-acbc-d708c80cbf4b",
   "metadata": {},
   "outputs": [
    {
     "data": {
      "text/plain": [
       "array([0.99869494, 0.99869486, 0.99895589, 0.99876011, 0.9990864 ,\n",
       "       0.99895589, 0.9990864 , 0.99876011, 0.99869486])"
      ]
     },
     "execution_count": 60,
     "metadata": {},
     "output_type": "execute_result"
    }
   ],
   "source": [
    "skf = StratifiedKFold(n_splits=9, shuffle=True, random_state=42)\n",
    "scores = cross_val_score(logreg, X, y, cv=skf)\n",
    "scores\n",
    "\n",
    "#With 9 splits\n",
    "#array([0.99869494, 0.99869486, 0.99895589, 0.99876011, 0.9990864 ,\n",
    "#       0.99895589, 0.9990864 , 0.99876011, 0.99869486])\n",
    "#With 25 splits\n",
    "#array([0.99927497, 0.99818742, 0.99945623, 0.99891245, 0.99800616,\n",
    "#       0.99927497, 0.99836868, 0.99873119, 0.99873119, 0.99873119,\n",
    "#       0.99836868, 0.99927497, 0.99873119, 0.99873119, 0.99945623,\n",
    "#       0.99854994, 0.99854994, 0.99927484, 0.99891226, 0.99891226,\n",
    "#       0.99818709, 0.99927484, 0.99909355, 0.99873096, 0.99891226])"
   ]
  },
  {
   "cell_type": "code",
   "execution_count": 61,
   "id": "f4f01eb2-21ca-4c9b-b0bb-235ada1a3f26",
   "metadata": {},
   "outputs": [
    {
     "data": {
      "text/plain": [
       "0.9988543845895842"
      ]
     },
     "execution_count": 61,
     "metadata": {},
     "output_type": "execute_result"
    }
   ],
   "source": [
    "scores.mean()\n",
    "#With 9 Splits\n",
    "#0.9988543845895842\n",
    "#With 25 Splits\n",
    "#0.9988253855214215"
   ]
  },
  {
   "cell_type": "markdown",
   "id": "c2df001e-ceb3-4f12-b281-b57abfb1e960",
   "metadata": {},
   "source": [
    "## Cross Validation without KFold"
   ]
  },
  {
   "cell_type": "code",
   "execution_count": 62,
   "id": "187682bc-d149-4818-a993-4ad182173853",
   "metadata": {},
   "outputs": [],
   "source": [
    "kf = KFold(n_splits=55, shuffle=True, random_state=42)  \n",
    "scores = cross_val_score(logreg, X, y, cv=kf)"
   ]
  },
  {
   "cell_type": "code",
   "execution_count": 63,
   "id": "9fb172bb-808f-48d4-b0ff-8f2f58551e3e",
   "metadata": {},
   "outputs": [
    {
     "data": {
      "text/plain": [
       "0.9988761292941168"
      ]
     },
     "execution_count": 63,
     "metadata": {},
     "output_type": "execute_result"
    }
   ],
   "source": [
    "scores.mean()\n",
    "#With 5 Splits\n",
    "#0.9987818807344852\n",
    "#With 55 Splits\n",
    "#0.9988761292941168"
   ]
  },
  {
   "cell_type": "code",
   "execution_count": 64,
   "id": "595613cd-a844-479a-8333-0faf578d6a2b",
   "metadata": {},
   "outputs": [
    {
     "name": "stdout",
     "output_type": "stream",
     "text": [
      "Execution time: 336.20 seconds\n"
     ]
    }
   ],
   "source": [
    "end_time = time.time()\n",
    "execution_time = end_time - start_time\n",
    "print(f\"Execution time: {execution_time:.2f} seconds\")\n",
    "#Execution time: 336.20 seconds with n_jobs = -2"
   ]
  }
 ],
 "metadata": {
  "kernelspec": {
   "display_name": "Python 3 (ipykernel)",
   "language": "python",
   "name": "python3"
  },
  "language_info": {
   "codemirror_mode": {
    "name": "ipython",
    "version": 3
   },
   "file_extension": ".py",
   "mimetype": "text/x-python",
   "name": "python",
   "nbconvert_exporter": "python",
   "pygments_lexer": "ipython3",
   "version": "3.12.4"
  }
 },
 "nbformat": 4,
 "nbformat_minor": 5
}
