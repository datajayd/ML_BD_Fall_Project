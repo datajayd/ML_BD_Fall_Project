{
 "cells": [
  {
   "cell_type": "code",
   "execution_count": 1,
   "id": "c34b3747-d8ee-4ec7-a4ed-7e43f4127f3f",
   "metadata": {},
   "outputs": [],
   "source": [
    "import pandas as pd\n",
    "import numpy as np\n",
    "import glob\n",
    "import os\n",
    "import time\n",
    "import seaborn as sns\n",
    "import matplotlib.pyplot as plt\n",
    "from sklearn import preprocessing\n",
    "from sklearn import metrics \n",
    "from sklearn import svm\n",
    "from sklearn.svm import SVC\n",
    "from sklearn.linear_model import SGDClassifier\n",
    "from sklearn.preprocessing import StandardScaler\n",
    "from sklearn.preprocessing import RobustScaler\n",
    "from sklearn.metrics import precision_score, recall_score, accuracy_score, f1_score, classification_report"
   ]
  },
  {
   "cell_type": "code",
   "execution_count": 2,
   "id": "0546b5f1-3891-48f0-9d5b-5105cac14f25",
   "metadata": {},
   "outputs": [],
   "source": [
    "import imblearn\n",
    "from imblearn.over_sampling import SMOTE "
   ]
  },
  {
   "cell_type": "code",
   "execution_count": 3,
   "id": "d01bcc91-1fca-475c-80d0-f4c717cc2f1b",
   "metadata": {},
   "outputs": [],
   "source": [
    "start_time = time.time() "
   ]
  },
  {
   "cell_type": "code",
   "execution_count": 4,
   "id": "053b7cc4-fb32-448e-b3f5-f4978eafc763",
   "metadata": {},
   "outputs": [
    {
     "data": {
      "text/html": [
       "<div>\n",
       "<style scoped>\n",
       "    .dataframe tbody tr th:only-of-type {\n",
       "        vertical-align: middle;\n",
       "    }\n",
       "\n",
       "    .dataframe tbody tr th {\n",
       "        vertical-align: top;\n",
       "    }\n",
       "\n",
       "    .dataframe thead th {\n",
       "        text-align: right;\n",
       "    }\n",
       "</style>\n",
       "<table border=\"1\" class=\"dataframe\">\n",
       "  <thead>\n",
       "    <tr style=\"text-align: right;\">\n",
       "      <th></th>\n",
       "      <th>pha</th>\n",
       "      <th>H</th>\n",
       "      <th>e</th>\n",
       "      <th>q</th>\n",
       "      <th>n</th>\n",
       "      <th>moid</th>\n",
       "      <th>spkid</th>\n",
       "      <th>full_name</th>\n",
       "    </tr>\n",
       "  </thead>\n",
       "  <tbody>\n",
       "    <tr>\n",
       "      <th>0</th>\n",
       "      <td>0</td>\n",
       "      <td>-7.411043</td>\n",
       "      <td>-0.608738</td>\n",
       "      <td>0.289176</td>\n",
       "      <td>-0.009788</td>\n",
       "      <td>0.306452</td>\n",
       "      <td>20000001</td>\n",
       "      <td>1 Ceres (A801 AA)</td>\n",
       "    </tr>\n",
       "    <tr>\n",
       "      <th>1</th>\n",
       "      <td>0</td>\n",
       "      <td>-6.932515</td>\n",
       "      <td>0.859223</td>\n",
       "      <td>-0.382876</td>\n",
       "      <td>-0.017945</td>\n",
       "      <td>-0.258065</td>\n",
       "      <td>20000002</td>\n",
       "      <td>2 Pallas (A802 FA)</td>\n",
       "    </tr>\n",
       "    <tr>\n",
       "      <th>2</th>\n",
       "      <td>0</td>\n",
       "      <td>-6.282209</td>\n",
       "      <td>1.108738</td>\n",
       "      <td>-0.618740</td>\n",
       "      <td>0.181077</td>\n",
       "      <td>-0.564516</td>\n",
       "      <td>20000003</td>\n",
       "      <td>3 Juno (A804 RA)</td>\n",
       "    </tr>\n",
       "    <tr>\n",
       "      <th>3</th>\n",
       "      <td>0</td>\n",
       "      <td>-7.466258</td>\n",
       "      <td>-0.503883</td>\n",
       "      <td>-0.357027</td>\n",
       "      <td>0.928222</td>\n",
       "      <td>-0.403226</td>\n",
       "      <td>20000004</td>\n",
       "      <td>4 Vesta (A807 FA)</td>\n",
       "    </tr>\n",
       "    <tr>\n",
       "      <th>4</th>\n",
       "      <td>0</td>\n",
       "      <td>-5.171779</td>\n",
       "      <td>0.440777</td>\n",
       "      <td>-0.444265</td>\n",
       "      <td>0.384992</td>\n",
       "      <td>-0.451613</td>\n",
       "      <td>20000005</td>\n",
       "      <td>5 Astraea (A845 XA)</td>\n",
       "    </tr>\n",
       "    <tr>\n",
       "      <th>...</th>\n",
       "      <td>...</td>\n",
       "      <td>...</td>\n",
       "      <td>...</td>\n",
       "      <td>...</td>\n",
       "      <td>...</td>\n",
       "      <td>...</td>\n",
       "      <td>...</td>\n",
       "      <td>...</td>\n",
       "    </tr>\n",
       "    <tr>\n",
       "      <th>137912</th>\n",
       "      <td>0</td>\n",
       "      <td>-3.141104</td>\n",
       "      <td>8.195146</td>\n",
       "      <td>6.101777</td>\n",
       "      <td>-3.502333</td>\n",
       "      <td>6.048387</td>\n",
       "      <td>3547316</td>\n",
       "      <td>(2010 BK118)</td>\n",
       "    </tr>\n",
       "    <tr>\n",
       "      <th>137913</th>\n",
       "      <td>0</td>\n",
       "      <td>-0.319018</td>\n",
       "      <td>7.751456</td>\n",
       "      <td>2.129241</td>\n",
       "      <td>-3.470979</td>\n",
       "      <td>2.258065</td>\n",
       "      <td>3516402</td>\n",
       "      <td>(2010 GW64)</td>\n",
       "    </tr>\n",
       "    <tr>\n",
       "      <th>137914</th>\n",
       "      <td>0</td>\n",
       "      <td>-1.306748</td>\n",
       "      <td>8.038835</td>\n",
       "      <td>4.859451</td>\n",
       "      <td>-3.497338</td>\n",
       "      <td>5.290323</td>\n",
       "      <td>3517549</td>\n",
       "      <td>(2010 GW147)</td>\n",
       "    </tr>\n",
       "    <tr>\n",
       "      <th>137915</th>\n",
       "      <td>0</td>\n",
       "      <td>-0.503067</td>\n",
       "      <td>7.960194</td>\n",
       "      <td>0.447496</td>\n",
       "      <td>-3.476215</td>\n",
       "      <td>0.903226</td>\n",
       "      <td>3523334</td>\n",
       "      <td>(2010 JH124)</td>\n",
       "    </tr>\n",
       "    <tr>\n",
       "      <th>137916</th>\n",
       "      <td>0</td>\n",
       "      <td>-4.368098</td>\n",
       "      <td>4.932039</td>\n",
       "      <td>26.491115</td>\n",
       "      <td>-3.463100</td>\n",
       "      <td>27.274194</td>\n",
       "      <td>3554395</td>\n",
       "      <td>(2010 WG9)</td>\n",
       "    </tr>\n",
       "  </tbody>\n",
       "</table>\n",
       "<p>137917 rows × 8 columns</p>\n",
       "</div>"
      ],
      "text/plain": [
       "        pha         H         e          q         n       moid     spkid  \\\n",
       "0         0 -7.411043 -0.608738   0.289176 -0.009788   0.306452  20000001   \n",
       "1         0 -6.932515  0.859223  -0.382876 -0.017945  -0.258065  20000002   \n",
       "2         0 -6.282209  1.108738  -0.618740  0.181077  -0.564516  20000003   \n",
       "3         0 -7.466258 -0.503883  -0.357027  0.928222  -0.403226  20000004   \n",
       "4         0 -5.171779  0.440777  -0.444265  0.384992  -0.451613  20000005   \n",
       "...     ...       ...       ...        ...       ...        ...       ...   \n",
       "137912    0 -3.141104  8.195146   6.101777 -3.502333   6.048387   3547316   \n",
       "137913    0 -0.319018  7.751456   2.129241 -3.470979   2.258065   3516402   \n",
       "137914    0 -1.306748  8.038835   4.859451 -3.497338   5.290323   3517549   \n",
       "137915    0 -0.503067  7.960194   0.447496 -3.476215   0.903226   3523334   \n",
       "137916    0 -4.368098  4.932039  26.491115 -3.463100  27.274194   3554395   \n",
       "\n",
       "                       full_name  \n",
       "0              1 Ceres (A801 AA)  \n",
       "1             2 Pallas (A802 FA)  \n",
       "2               3 Juno (A804 RA)  \n",
       "3              4 Vesta (A807 FA)  \n",
       "4            5 Astraea (A845 XA)  \n",
       "...                          ...  \n",
       "137912              (2010 BK118)  \n",
       "137913               (2010 GW64)  \n",
       "137914              (2010 GW147)  \n",
       "137915              (2010 JH124)  \n",
       "137916                (2010 WG9)  \n",
       "\n",
       "[137917 rows x 8 columns]"
      ]
     },
     "execution_count": 4,
     "metadata": {},
     "output_type": "execute_result"
    }
   ],
   "source": [
    "asteroid_df = pd.read_csv(\"data/asteroid_normalized_small_df.csv\")\n",
    "asteroid_df.drop(columns = ['diameter', 'albedo', 'a', 'i', 'neo'], inplace = True)\n",
    "asteroid_df"
   ]
  },
  {
   "cell_type": "markdown",
   "id": "6fbec726-05bb-453f-86c4-42cca3b3a822",
   "metadata": {},
   "source": [
    "## Split data"
   ]
  },
  {
   "cell_type": "code",
   "execution_count": 5,
   "id": "e78b1c18-d0f7-40b6-8e0e-c9baba7d14c3",
   "metadata": {},
   "outputs": [],
   "source": [
    "exclude_col = ['pha', 'spkid', 'full_name']\n",
    "X = asteroid_df.drop(columns = exclude_col)\n",
    "y = asteroid_df.iloc[:, 0]"
   ]
  },
  {
   "cell_type": "code",
   "execution_count": 6,
   "id": "ee7c9feb-afd4-4e89-b87d-f8bfeedebcb0",
   "metadata": {},
   "outputs": [],
   "source": [
    "from sklearn.model_selection import train_test_split\n",
    "X_train_original, X_test, y_train_original, y_test = train_test_split(X,y,test_size = 0.2, random_state = 42)"
   ]
  },
  {
   "cell_type": "code",
   "execution_count": 7,
   "id": "2776bde2-bcfb-402a-a625-92c16b4a0017",
   "metadata": {},
   "outputs": [
    {
     "name": "stdout",
     "output_type": "stream",
     "text": [
      "After OverSampling, counts of label 'N': 110091\n",
      "After OverSampling, counts of label 'Y': 110091\n"
     ]
    },
    {
     "name": "stderr",
     "output_type": "stream",
     "text": [
      "C:\\Users\\stack\\AppData\\Local\\Temp\\ipykernel_26516\\1833696101.py:2: FutureWarning: Series.ravel is deprecated. The underlying array is already 1D, so ravel is not necessary.  Use `to_numpy()` for conversion to a numpy array instead.\n",
      "  X_train, y_train = sm.fit_resample(X_train_original, y_train_original.ravel())\n"
     ]
    }
   ],
   "source": [
    "sm = SMOTE(random_state = 42) \n",
    "X_train, y_train = sm.fit_resample(X_train_original, y_train_original.ravel())\n",
    "  \n",
    "print(\"After OverSampling, counts of label 'N': {}\".format(sum(y_train == 0))) \n",
    "print(\"After OverSampling, counts of label 'Y': {}\".format(sum(y_train == 1))) "
   ]
  },
  {
   "cell_type": "markdown",
   "id": "86e09d41-5df2-4f75-9bfd-4c931cb07c62",
   "metadata": {},
   "source": [
    "## Grid Search"
   ]
  },
  {
   "cell_type": "markdown",
   "id": "29ba21c2-4c72-4de0-af96-3921948ca58a",
   "metadata": {},
   "source": [
    "tuned_parameters = [{'kernel': ['linear'], 'C': [1, 10, 25]},\n",
    "                    {'kernel': ['rbf'], 'gamma': [1e-3, 1e-4],\n",
    "                     'C': [1, 10, 25]}]\n",
    "\n",
    "score = 'accuracy'\n",
    "\n",
    "print(\"# Tuning hyper-parameters for %s\" % score)\n",
    "print()\n",
    "\n",
    "clf = GridSearchCV(SVC(C=1), tuned_parameters, cv=5,\n",
    "                   scoring=score, n_jobs = -2, verbose = 4)\n",
    "clf.fit(X_train, y_train)\n",
    "\n",
    "print(\"Best parameters set found on development set:\")\n",
    "print()\n",
    "print(clf.best_params_)\n",
    "print()\n",
    "print(\"Grid scores on development set:\")\n",
    "print()\n",
    "results = clf.cv_results_\n",
    "for i in range(len(results[\"params\"])):\n",
    "    print(\"%0.3f (+/-%0.03f) for %r\" % (results[\"mean_test_score\"][i], results[\"std_test_score\"][i] * 2, results[\"params\"][i]))"
   ]
  },
  {
   "cell_type": "markdown",
   "id": "37a031c6-60d6-4120-b739-7dbbeb81b1f2",
   "metadata": {},
   "source": [
    "Grid Search was not possible, execution never stopped\n",
    "Used parameters from 'Dask' option just to finish the code"
   ]
  },
  {
   "cell_type": "code",
   "execution_count": 8,
   "id": "9e05b73f-659b-4c09-9533-6841be4a0d4a",
   "metadata": {},
   "outputs": [],
   "source": [
    "from sklearn.model_selection import GridSearchCV\n",
    "clf_best = SGDClassifier(l1_ratio = 0.5, loss = 'modified_huber', max_iter= 300, penalty = 'l2')"
   ]
  },
  {
   "cell_type": "markdown",
   "id": "fd322696-3ebd-4e8c-9133-3192d807daf1",
   "metadata": {},
   "source": [
    "### Model validation via cross-validation"
   ]
  },
  {
   "cell_type": "code",
   "execution_count": 9,
   "id": "f9ae5c67-9747-47ce-aba1-99c4256378ed",
   "metadata": {},
   "outputs": [
    {
     "name": "stderr",
     "output_type": "stream",
     "text": [
      "C:\\Users\\stack\\AppData\\Local\\Temp\\ipykernel_26516\\4248052984.py:7: FutureWarning: Series.ravel is deprecated. The underlying array is already 1D, so ravel is not necessary.  Use `to_numpy()` for conversion to a numpy array instead.\n",
      "  X1, y1 = sm.fit_resample(X1, y1.ravel())\n",
      "C:\\Users\\stack\\AppData\\Local\\Temp\\ipykernel_26516\\4248052984.py:8: FutureWarning: Series.ravel is deprecated. The underlying array is already 1D, so ravel is not necessary.  Use `to_numpy()` for conversion to a numpy array instead.\n",
      "  X2, y2 = sm.fit_resample(X2, y2.ravel())\n"
     ]
    },
    {
     "data": {
      "text/plain": [
       "0.9963375819320709"
      ]
     },
     "execution_count": 9,
     "metadata": {},
     "output_type": "execute_result"
    }
   ],
   "source": [
    "from sklearn.model_selection import train_test_split\n",
    "# split the data with 50% in each set\n",
    "X1, X2, y1, y2 = train_test_split(X, y, random_state=0,\n",
    "                                  train_size=0.5)\n",
    "\n",
    "sm = SMOTE(random_state = 42) \n",
    "X1, y1 = sm.fit_resample(X1, y1.ravel())\n",
    "X2, y2 = sm.fit_resample(X2, y2.ravel())\n",
    "\n",
    "# fit the model on one set of data\n",
    "clf_best.fit(X1, y1)\n",
    "\n",
    "# evaluate the model on the second set of data\n",
    "y2_model = clf_best.predict(X2)\n",
    "accuracy_score(y2, y2_model)"
   ]
  },
  {
   "cell_type": "code",
   "execution_count": 10,
   "id": "3175d360-55ea-46b8-b58d-bba08ee558c2",
   "metadata": {},
   "outputs": [
    {
     "data": {
      "text/plain": [
       "(0.9965913220437532, 0.9963739154446495)"
      ]
     },
     "execution_count": 10,
     "metadata": {},
     "output_type": "execute_result"
    }
   ],
   "source": [
    "y2_model = clf_best.fit(X1, y1).predict(X2)\n",
    "y1_model = clf_best.fit(X2, y2).predict(X1)\n",
    "accuracy_score(y1, y1_model), accuracy_score(y2, y2_model)"
   ]
  },
  {
   "cell_type": "code",
   "execution_count": 11,
   "id": "71908ee7-96bc-4ffe-ba62-ee6a18a716d2",
   "metadata": {},
   "outputs": [
    {
     "data": {
      "text/plain": [
       "array([0.99786108, 0.99793358, 0.9982598 , 0.99844107, 0.9798064 ])"
      ]
     },
     "execution_count": 11,
     "metadata": {},
     "output_type": "execute_result"
    }
   ],
   "source": [
    "from sklearn.model_selection import cross_val_score\n",
    "cross_val_score(clf_best, X, y, cv=5)"
   ]
  },
  {
   "cell_type": "code",
   "execution_count": 12,
   "id": "2602abda-8a74-4cea-950a-03ab8b5a533f",
   "metadata": {},
   "outputs": [
    {
     "name": "stdout",
     "output_type": "stream",
     "text": [
      "Cross-validation scores with SMOTE: [0.99960122 1.         1.         1.         0.97810245]\n",
      "Mean accuracy: 0.9955407345015546\n"
     ]
    }
   ],
   "source": [
    "from imblearn.pipeline import Pipeline  # Use imblearn's Pipeline\n",
    "from imblearn.over_sampling import SMOTE\n",
    "\n",
    "pipeline = Pipeline([\n",
    "    ('smote', SMOTE()),                 \n",
    "    ('SGDClassifier', clf_best)     \n",
    "])\n",
    "\n",
    "scores = cross_val_score(pipeline, X, y, cv=5)\n",
    "print(\"Cross-validation scores with SMOTE:\", scores)\n",
    "print(\"Mean accuracy:\", scores.mean())"
   ]
  },
  {
   "cell_type": "code",
   "execution_count": 13,
   "id": "f9f14608-5c74-4d73-acbc-d708c80cbf4b",
   "metadata": {},
   "outputs": [
    {
     "name": "stdout",
     "output_type": "stream",
     "text": [
      "Cross-validation scores with SMOTE: [0.99706352 0.99724478 0.9969909  0.99753471 0.99728093]\n",
      "Mean accuracy: 0.9972229684349443\n"
     ]
    }
   ],
   "source": [
    "from sklearn.model_selection import StratifiedKFold\n",
    "\n",
    "skf = StratifiedKFold(n_splits=5, shuffle=True, random_state=42)\n",
    "scores = cross_val_score(pipeline, X, y, cv=skf)\n",
    "\n",
    "res = [clf_best.fit(X.iloc[train], y.iloc[train]).score(X.iloc[test], y.iloc[test]) for train, test in skf.split(X, y)]\n",
    "#res is a score vector within 0,1\n",
    "np.mean(res) #The average accuracy\n",
    "print(\"Cross-validation scores with SMOTE:\", scores)\n",
    "print(\"Mean accuracy:\", scores.mean())"
   ]
  },
  {
   "cell_type": "markdown",
   "id": "c2df001e-ceb3-4f12-b281-b57abfb1e960",
   "metadata": {},
   "source": [
    "## Cross Validation without KFold"
   ]
  },
  {
   "cell_type": "code",
   "execution_count": 14,
   "id": "187682bc-d149-4818-a993-4ad182173853",
   "metadata": {},
   "outputs": [
    {
     "name": "stdout",
     "output_type": "stream",
     "text": [
      "Cross-validation scores with SMOTE: [0.99728103 0.99709977 0.99793351 0.99713592 0.99720843]\n",
      "Mean accuracy: 0.9973317305528735\n"
     ]
    }
   ],
   "source": [
    "from sklearn.model_selection import KFold\n",
    "\n",
    "kf = KFold(n_splits=5, shuffle=True, random_state=42)  \n",
    "scores = cross_val_score(pipeline, X, y, cv=kf)\n",
    "\n",
    "print(\"Cross-validation scores with SMOTE:\", scores)\n",
    "print(\"Mean accuracy:\", scores.mean())"
   ]
  },
  {
   "cell_type": "markdown",
   "id": "78a2934c-e591-4167-a429-eef228860d32",
   "metadata": {},
   "source": [
    "## Validation Curve (for a Single Hyperparameter)"
   ]
  },
  {
   "cell_type": "code",
   "execution_count": 15,
   "id": "f9b41883-84d0-4184-8c63-9e0a818d35bd",
   "metadata": {
    "scrolled": true
   },
   "outputs": [
    {
     "data": {
      "image/png": "[encoded data removed]",
      "text/plain": [
       "<Figure size 800x600 with 1 Axes>"
      ]
     },
     "metadata": {},
     "output_type": "display_data"
    }
   ],
   "source": [
    "from sklearn.model_selection import validation_curve\n",
    "\n",
    "para = {'C': [0.001, 0.01, 0.1, 1, 10, 25]} \n",
    "param_range = para['C']\n",
    "\n",
    "train_scores, val_scores = validation_curve(\n",
    "    SVC(),\n",
    "    X_train, y_train,\n",
    "    param_name=\"C\",\n",
    "    param_range=param_range,\n",
    "    cv=5,\n",
    "    scoring=\"accuracy\"\n",
    ")\n",
    "\n",
    "# Plotting\n",
    "plt.figure(figsize=(8, 6))\n",
    "plt.plot(param_range, np.mean(train_scores, axis=1), label=\"Training score\", color=\"blue\")\n",
    "plt.plot(param_range, np.mean(val_scores, axis=1), label=\"Validation score\", color=\"red\")\n",
    "plt.xlabel(\"C (Inverse of Regularization Strength)\")\n",
    "plt.ylabel(\"Accuracy\")\n",
    "plt.title(\"Validation Curve for Logistic Regression\")\n",
    "plt.xscale(\"log\")  # Log scale for C\n",
    "plt.legend()\n",
    "plt.show()"
   ]
  },
  {
   "cell_type": "markdown",
   "id": "7863ae40-5fa8-4f64-976e-610d3a1e2e3a",
   "metadata": {},
   "source": [
    "## Learning Curves (Training vs. Cross-Validation Performance)"
   ]
  },
  {
   "cell_type": "code",
   "execution_count": 16,
   "id": "ae75421a-0c4d-45b0-b18f-580e1076205e",
   "metadata": {},
   "outputs": [
    {
     "name": "stderr",
     "output_type": "stream",
     "text": [
      "C:\\ProgramData\\anaconda3\\envs\\CAS_ML\\Lib\\site-packages\\sklearn\\model_selection\\_validation.py:540: FitFailedWarning: \n",
      "2 fits failed out of a total of 25.\n",
      "The score on these train-test partitions for these parameters will be set to nan.\n",
      "If these failures are not expected, you can try to debug them by setting error_score='raise'.\n",
      "\n",
      "Below are more details about the failures:\n",
      "--------------------------------------------------------------------------------\n",
      "2 fits failed with the following error:\n",
      "Traceback (most recent call last):\n",
      "  File \"C:\\ProgramData\\anaconda3\\envs\\CAS_ML\\Lib\\site-packages\\sklearn\\model_selection\\_validation.py\", line 888, in _fit_and_score\n",
      "    estimator.fit(X_train, y_train, **fit_params)\n",
      "  File \"C:\\ProgramData\\anaconda3\\envs\\CAS_ML\\Lib\\site-packages\\sklearn\\base.py\", line 1473, in wrapper\n",
      "    return fit_method(estimator, *args, **kwargs)\n",
      "           ^^^^^^^^^^^^^^^^^^^^^^^^^^^^^^^^^^^^^^\n",
      "  File \"C:\\ProgramData\\anaconda3\\envs\\CAS_ML\\Lib\\site-packages\\sklearn\\linear_model\\_stochastic_gradient.py\", line 938, in fit\n",
      "    return self._fit(\n",
      "           ^^^^^^^^^^\n",
      "  File \"C:\\ProgramData\\anaconda3\\envs\\CAS_ML\\Lib\\site-packages\\sklearn\\linear_model\\_stochastic_gradient.py\", line 725, in _fit\n",
      "    self._partial_fit(\n",
      "  File \"C:\\ProgramData\\anaconda3\\envs\\CAS_ML\\Lib\\site-packages\\sklearn\\linear_model\\_stochastic_gradient.py\", line 669, in _partial_fit\n",
      "    raise ValueError(\n",
      "ValueError: The number of classes has to be greater than one; got 1 class\n",
      "\n",
      "  warnings.warn(some_fits_failed_message, FitFailedWarning)\n"
     ]
    },
    {
     "data": {
      "image/png": "[encoded data removed]",
      "text/plain": [
       "<Figure size 1000x600 with 1 Axes>"
      ]
     },
     "metadata": {},
     "output_type": "display_data"
    }
   ],
   "source": [
    "from sklearn.model_selection import learning_curve\n",
    "\n",
    "train_sizes, train_scores, val_scores = learning_curve(\n",
    "    clf_best, X_train, y_train, cv=5, scoring=\"accuracy\", train_sizes=np.linspace(0.1, 1.0, 5)\n",
    ")\n",
    "\n",
    "# Mean and standard deviation for plotting\n",
    "train_mean = np.mean(train_scores, axis=1)\n",
    "train_std = np.std(train_scores, axis=1)\n",
    "val_mean = np.mean(val_scores, axis=1)\n",
    "val_std = np.std(val_scores, axis=1)\n",
    "\n",
    "plt.figure(figsize=(10, 6))\n",
    "plt.plot(train_sizes, train_mean, label=\"Training score\", color=\"blue\")\n",
    "plt.fill_between(train_sizes, train_mean - train_std, train_mean + train_std, color=\"blue\", alpha=0.2)\n",
    "plt.plot(train_sizes, val_mean, label=\"Cross-validation score\", color=\"red\")\n",
    "plt.fill_between(train_sizes, val_mean - val_std, val_mean + val_std, color=\"red\", alpha=0.2)\n",
    "plt.xlabel(\"Training Set Size\")\n",
    "plt.ylabel(\"Accuracy Score\")\n",
    "plt.title(\"Learning Curve for SVC\")\n",
    "plt.legend()\n",
    "plt.show()"
   ]
  },
  {
   "cell_type": "code",
   "execution_count": 17,
   "id": "8e30b02c-0c59-4e31-b221-ddf4913d1427",
   "metadata": {},
   "outputs": [
    {
     "name": "stdout",
     "output_type": "stream",
     "text": [
      "Execution time: 2659.00 seconds\n"
     ]
    }
   ],
   "source": [
    "end_time = time.time()\n",
    "execution_time = end_time - start_time\n",
    "print(f\"Execution time: {execution_time:.2f} seconds\")"
   ]
  }
 ],
 "metadata": {
  "kernelspec": {
   "display_name": "Python 3 (ipykernel)",
   "language": "python",
   "name": "python3"
  },
  "language_info": {
   "codemirror_mode": {
    "name": "ipython",
    "version": 3
   },
   "file_extension": ".py",
   "mimetype": "text/x-python",
   "name": "python",
   "nbconvert_exporter": "python",
   "pygments_lexer": "ipython3",
   "version": "3.12.4"
  }
 },
 "nbformat": 4,
 "nbformat_minor": 5
}
